{
 "cells": [
  {
   "cell_type": "markdown",
   "metadata": {},
   "source": [
    "# Denison CS181/DA210 SW Lab #11 - Step 2\n",
    "\n",
    "Before you turn this problem in, make sure everything runs as expected. This is a combination of **restarting the kernel** and then **running all cells** (in the menubar, select Kernel$\\rightarrow$Restart And Run All).\n",
    "\n",
    "Make sure you fill in any place that says `# YOUR CODE HERE` or \"YOUR ANSWER HERE\"."
   ]
  },
  {
   "cell_type": "markdown",
   "metadata": {},
   "source": [
    "---"
   ]
  },
  {
   "cell_type": "markdown",
   "metadata": {},
   "source": [
    "#### Import Python modules and load \"SQL Magic\""
   ]
  },
  {
   "cell_type": "code",
   "execution_count": 1,
   "metadata": {
    "deletable": false,
    "editable": false,
    "nbgrader": {
     "cell_type": "code",
     "checksum": "2c15bf49fe13507b473a89ebc6ffdea5",
     "grade": false,
     "grade_id": "cell-b9abcf27cf7faf8f",
     "locked": true,
     "schema_version": 3,
     "solution": false,
     "task": false
    }
   },
   "outputs": [],
   "source": [
    "import pandas as pd\n",
    "import os\n",
    "import os.path\n",
    "import json\n",
    "import sys\n",
    "import importlib\n",
    "\n",
    "module_dir = \"../../modules\"\n",
    "module_path = os.path.abspath(module_dir)\n",
    "if not module_path in sys.path:\n",
    "    sys.path.append(module_path)\n",
    "\n",
    "%load_ext sql"
   ]
  },
  {
   "cell_type": "markdown",
   "metadata": {},
   "source": [
    "#### Set credentials"
   ]
  },
  {
   "cell_type": "code",
   "execution_count": 2,
   "metadata": {},
   "outputs": [],
   "source": [
    "def getsqlite_creds(dirname=\".\",filename=\"creds.json\",source=\"sqlite\"):\n",
    "    \"\"\" Using directory and filename parameters, open a credentials file\n",
    "        and obtain the two parts needed for a connection string to\n",
    "        a local provider using the \"sqlite\" dictionary within\n",
    "        an outer dictionary.  \n",
    "        \n",
    "        Return a scheme and a dbfile\n",
    "    \"\"\"\n",
    "    assert os.path.isfile(os.path.join(dirname, filename))\n",
    "    with open(os.path.join(dirname, filename)) as f:\n",
    "        D = json.load(f)\n",
    "    sqlite = D[source]\n",
    "    return sqlite[\"scheme\"], sqlite[\"dbdir\"], sqlite[\"database\"]"
   ]
  },
  {
   "cell_type": "code",
   "execution_count": 3,
   "metadata": {},
   "outputs": [
    {
     "name": "stdout",
     "output_type": "stream",
     "text": [
      "Connection string: sqlite:///../../dbfiles/book.db\n"
     ]
    }
   ],
   "source": [
    "scheme, dbdir, database = getsqlite_creds(source=\"sqlite1\")\n",
    "template = '{}:///{}/{}.db'\n",
    "cstring = template.format(scheme, dbdir, database)\n",
    "print(\"Connection string:\", cstring)"
   ]
  },
  {
   "cell_type": "markdown",
   "metadata": {},
   "source": [
    "#### Establish Connection from Client to Server"
   ]
  },
  {
   "cell_type": "code",
   "execution_count": 4,
   "metadata": {},
   "outputs": [],
   "source": [
    "%sql $cstring"
   ]
  },
  {
   "cell_type": "markdown",
   "metadata": {},
   "source": [
    "---\n",
    "\n",
    "## Part C: Types of Joins\n",
    "\n",
    "We'll observe the differences in the types of joins using the following two tables (technically they're \"views\" in the `book` database, but for our purposes we'll treat them as tables):"
   ]
  },
  {
   "cell_type": "code",
   "execution_count": 5,
   "metadata": {},
   "outputs": [
    {
     "name": "stdout",
     "output_type": "stream",
     "text": [
      " * sqlite:///../../dbfiles/book.db\n",
      "Done.\n"
     ]
    },
    {
     "data": {
      "text/html": [
       "<table>\n",
       "    <tr>\n",
       "        <th>code</th>\n",
       "        <th>pop</th>\n",
       "        <th>gdp</th>\n",
       "    </tr>\n",
       "    <tr>\n",
       "        <td>CHN</td>\n",
       "        <td>1386.4</td>\n",
       "        <td>12143.5</td>\n",
       "    </tr>\n",
       "    <tr>\n",
       "        <td>FRA</td>\n",
       "        <td>66.87</td>\n",
       "        <td>2586.29</td>\n",
       "    </tr>\n",
       "    <tr>\n",
       "        <td>GBR</td>\n",
       "        <td>66.06</td>\n",
       "        <td>2637.87</td>\n",
       "    </tr>\n",
       "    <tr>\n",
       "        <td>USA</td>\n",
       "        <td>325.15</td>\n",
       "        <td>19485.4</td>\n",
       "    </tr>\n",
       "</table>"
      ],
      "text/plain": [
       "[('CHN', 1386.4, 12143.5),\n",
       " ('FRA', 66.87, 2586.29),\n",
       " ('GBR', 66.06, 2637.87),\n",
       " ('USA', 325.15, 19485.4)]"
      ]
     },
     "execution_count": 5,
     "metadata": {},
     "output_type": "execute_result"
    }
   ],
   "source": [
    "%sql SELECT * FROM pop_gdp"
   ]
  },
  {
   "cell_type": "code",
   "execution_count": 6,
   "metadata": {},
   "outputs": [
    {
     "name": "stdout",
     "output_type": "stream",
     "text": [
      " * sqlite:///../../dbfiles/book.db\n",
      "Done.\n"
     ]
    },
    {
     "data": {
      "text/html": [
       "<table>\n",
       "    <tr>\n",
       "        <th>code</th>\n",
       "        <th>country</th>\n",
       "        <th>land</th>\n",
       "    </tr>\n",
       "    <tr>\n",
       "        <td>FRA</td>\n",
       "        <td>France</td>\n",
       "        <td>547557.0</td>\n",
       "    </tr>\n",
       "    <tr>\n",
       "        <td>GBR</td>\n",
       "        <td>United Kingdom</td>\n",
       "        <td>241930.0</td>\n",
       "    </tr>\n",
       "    <tr>\n",
       "        <td>IND</td>\n",
       "        <td>India</td>\n",
       "        <td>2973190.0</td>\n",
       "    </tr>\n",
       "    <tr>\n",
       "        <td>USA</td>\n",
       "        <td>United States</td>\n",
       "        <td>9147420.0</td>\n",
       "    </tr>\n",
       "    <tr>\n",
       "        <td>VNM</td>\n",
       "        <td>Vietnam</td>\n",
       "        <td>310070.0</td>\n",
       "    </tr>\n",
       "</table>"
      ],
      "text/plain": [
       "[('FRA', 'France', 547557.0),\n",
       " ('GBR', 'United Kingdom', 241930.0),\n",
       " ('IND', 'India', 2973190.0),\n",
       " ('USA', 'United States', 9147420.0),\n",
       " ('VNM', 'Vietnam', 310070.0)]"
      ]
     },
     "execution_count": 6,
     "metadata": {},
     "output_type": "execute_result"
    }
   ],
   "source": [
    "%sql SELECT * FROM country_land"
   ]
  },
  {
   "cell_type": "markdown",
   "metadata": {},
   "source": [
    "We'll use the following \"match condition\" for the joins we'll explore:\n",
    "```\n",
    "    pop_gdp.code = country_land.code\n",
    "```"
   ]
  },
  {
   "cell_type": "markdown",
   "metadata": {},
   "source": [
    "#### Inner join\n",
    "\n",
    "We have already seen inner joins, so we'll use this as our starting point.\n",
    "\n",
    "First, we construct a combined table that includes all six columns from the two tables, and where the rows in the result satisfy the match condition, and the matching fields are present in **both** tables."
   ]
  },
  {
   "cell_type": "code",
   "execution_count": 7,
   "metadata": {
    "deletable": false,
    "nbgrader": {
     "cell_type": "code",
     "checksum": "b8cc4a117f99a60c91507d2a7e4ec4b9",
     "grade": true,
     "grade_id": "cell-e026b8f4d3737e45",
     "locked": false,
     "points": 2,
     "schema_version": 3,
     "solution": true,
     "task": false
    }
   },
   "outputs": [
    {
     "name": "stdout",
     "output_type": "stream",
     "text": [
      " * sqlite:///../../dbfiles/book.db\n",
      "Done.\n"
     ]
    },
    {
     "data": {
      "text/html": [
       "<div>\n",
       "<style scoped>\n",
       "    .dataframe tbody tr th:only-of-type {\n",
       "        vertical-align: middle;\n",
       "    }\n",
       "\n",
       "    .dataframe tbody tr th {\n",
       "        vertical-align: top;\n",
       "    }\n",
       "\n",
       "    .dataframe thead th {\n",
       "        text-align: right;\n",
       "    }\n",
       "</style>\n",
       "<table border=\"1\" class=\"dataframe\">\n",
       "  <thead>\n",
       "    <tr style=\"text-align: right;\">\n",
       "      <th></th>\n",
       "      <th>pg_code</th>\n",
       "      <th>pg_pop</th>\n",
       "      <th>pg_gdp</th>\n",
       "      <th>cl_code</th>\n",
       "      <th>cl_country</th>\n",
       "      <th>cl_land</th>\n",
       "    </tr>\n",
       "  </thead>\n",
       "  <tbody>\n",
       "    <tr>\n",
       "      <th>0</th>\n",
       "      <td>FRA</td>\n",
       "      <td>66.87</td>\n",
       "      <td>2586.29</td>\n",
       "      <td>FRA</td>\n",
       "      <td>France</td>\n",
       "      <td>547557.0</td>\n",
       "    </tr>\n",
       "    <tr>\n",
       "      <th>1</th>\n",
       "      <td>GBR</td>\n",
       "      <td>66.06</td>\n",
       "      <td>2637.87</td>\n",
       "      <td>GBR</td>\n",
       "      <td>United Kingdom</td>\n",
       "      <td>241930.0</td>\n",
       "    </tr>\n",
       "    <tr>\n",
       "      <th>2</th>\n",
       "      <td>USA</td>\n",
       "      <td>325.15</td>\n",
       "      <td>19485.40</td>\n",
       "      <td>USA</td>\n",
       "      <td>United States</td>\n",
       "      <td>9147420.0</td>\n",
       "    </tr>\n",
       "  </tbody>\n",
       "</table>\n",
       "</div>"
      ],
      "text/plain": [
       "  pg_code  pg_pop    pg_gdp cl_code      cl_country    cl_land\n",
       "0     FRA   66.87   2586.29     FRA          France   547557.0\n",
       "1     GBR   66.06   2637.87     GBR  United Kingdom   241930.0\n",
       "2     USA  325.15  19485.40     USA   United States  9147420.0"
      ]
     },
     "execution_count": 7,
     "metadata": {},
     "output_type": "execute_result"
    }
   ],
   "source": [
    "query = \"\"\"\n",
    "SELECT pop_gdp.code AS pg_code,\n",
    "       pop_gdp.pop AS pg_pop,\n",
    "       pop_gdp.gdp AS pg_gdp,\n",
    "       country_land.code AS cl_code,\n",
    "       country_land.country AS cl_country,\n",
    "       country_land.land AS cl_land\n",
    "FROM pop_gdp INNER JOIN country_land ON country_land.code = pop_gdp.code\n",
    "\"\"\"\n",
    "\n",
    "resultset = %sql $query\n",
    "resultdf = resultset.DataFrame()\n",
    "resultdf.head()"
   ]
  },
  {
   "cell_type": "markdown",
   "metadata": {},
   "source": [
    "As only FRA, GBR, and USA are present in both tables, the resulting table has only three records."
   ]
  },
  {
   "cell_type": "markdown",
   "metadata": {},
   "source": [
    "#### Left join\n",
    "\n",
    "To use a `LEFT JOIN`, we simply replace `INNER JOIN` with `LEFT JOIN` in our SQL statement.\n",
    "\n",
    "Next, we construct a combined table that includes all six columns from the two tables, and where the rows in the result satisfy the match condition, and all rows in the `pop_gdp` table are present."
   ]
  },
  {
   "cell_type": "code",
   "execution_count": 8,
   "metadata": {
    "deletable": false,
    "nbgrader": {
     "cell_type": "code",
     "checksum": "6562884802849081fa9eff60076e1ca6",
     "grade": true,
     "grade_id": "cell-9e9e8e442d6cfd48",
     "locked": false,
     "points": 2,
     "schema_version": 3,
     "solution": true,
     "task": false
    }
   },
   "outputs": [
    {
     "name": "stdout",
     "output_type": "stream",
     "text": [
      " * sqlite:///../../dbfiles/book.db\n",
      "Done.\n"
     ]
    },
    {
     "data": {
      "text/html": [
       "<div>\n",
       "<style scoped>\n",
       "    .dataframe tbody tr th:only-of-type {\n",
       "        vertical-align: middle;\n",
       "    }\n",
       "\n",
       "    .dataframe tbody tr th {\n",
       "        vertical-align: top;\n",
       "    }\n",
       "\n",
       "    .dataframe thead th {\n",
       "        text-align: right;\n",
       "    }\n",
       "</style>\n",
       "<table border=\"1\" class=\"dataframe\">\n",
       "  <thead>\n",
       "    <tr style=\"text-align: right;\">\n",
       "      <th></th>\n",
       "      <th>pg_code</th>\n",
       "      <th>pg_pop</th>\n",
       "      <th>pg_gdp</th>\n",
       "      <th>cl_code</th>\n",
       "      <th>cl_country</th>\n",
       "      <th>cl_land</th>\n",
       "    </tr>\n",
       "  </thead>\n",
       "  <tbody>\n",
       "    <tr>\n",
       "      <th>0</th>\n",
       "      <td>CHN</td>\n",
       "      <td>1386.40</td>\n",
       "      <td>12143.50</td>\n",
       "      <td>None</td>\n",
       "      <td>None</td>\n",
       "      <td>NaN</td>\n",
       "    </tr>\n",
       "    <tr>\n",
       "      <th>1</th>\n",
       "      <td>FRA</td>\n",
       "      <td>66.87</td>\n",
       "      <td>2586.29</td>\n",
       "      <td>FRA</td>\n",
       "      <td>France</td>\n",
       "      <td>547557.0</td>\n",
       "    </tr>\n",
       "    <tr>\n",
       "      <th>2</th>\n",
       "      <td>GBR</td>\n",
       "      <td>66.06</td>\n",
       "      <td>2637.87</td>\n",
       "      <td>GBR</td>\n",
       "      <td>United Kingdom</td>\n",
       "      <td>241930.0</td>\n",
       "    </tr>\n",
       "    <tr>\n",
       "      <th>3</th>\n",
       "      <td>USA</td>\n",
       "      <td>325.15</td>\n",
       "      <td>19485.40</td>\n",
       "      <td>USA</td>\n",
       "      <td>United States</td>\n",
       "      <td>9147420.0</td>\n",
       "    </tr>\n",
       "  </tbody>\n",
       "</table>\n",
       "</div>"
      ],
      "text/plain": [
       "  pg_code   pg_pop    pg_gdp cl_code      cl_country    cl_land\n",
       "0     CHN  1386.40  12143.50    None            None        NaN\n",
       "1     FRA    66.87   2586.29     FRA          France   547557.0\n",
       "2     GBR    66.06   2637.87     GBR  United Kingdom   241930.0\n",
       "3     USA   325.15  19485.40     USA   United States  9147420.0"
      ]
     },
     "execution_count": 8,
     "metadata": {},
     "output_type": "execute_result"
    }
   ],
   "source": [
    "query = \"\"\"\n",
    "SELECT pop_gdp.code AS pg_code,\n",
    "       pop_gdp.pop AS pg_pop,\n",
    "       pop_gdp.gdp AS pg_gdp,\n",
    "       country_land.code AS cl_code,\n",
    "       country_land.country AS cl_country,\n",
    "       country_land.land AS cl_land\n",
    "FROM pop_gdp LEFT JOIN country_land ON country_land.code = pop_gdp.code\n",
    "\"\"\"\n",
    "\n",
    "resultset = %sql $query\n",
    "resultdf = resultset.DataFrame()\n",
    "resultdf.head()"
   ]
  },
  {
   "cell_type": "markdown",
   "metadata": {},
   "source": [
    "As this is a `LEFT JOIN`, it has all records present in the `pop_gdp` table, even if they are not present in the `country_land` table (e.g., CHN has NULL values in the columns coming from `country_land`)."
   ]
  },
  {
   "cell_type": "markdown",
   "metadata": {},
   "source": [
    "#### Right join\n",
    "\n",
    "Some systems do not implement a `RIGHT JOIN` and provide only a `LEFT JOIN`.  In this case, we can use a `LEFT JOIN` and reverse the order of the tables in the `FROM` clause.\n",
    "\n",
    "Now, we construct a combined table that includes all six columns from the two tables, and where the rows in the result satisfy the match condition, and all rows in the `land_country` table are present."
   ]
  },
  {
   "cell_type": "code",
   "execution_count": 9,
   "metadata": {
    "deletable": false,
    "nbgrader": {
     "cell_type": "code",
     "checksum": "4a3e9f386ac1a6d283d96b0a913135c2",
     "grade": true,
     "grade_id": "cell-344872600cee0bfa",
     "locked": false,
     "points": 2,
     "schema_version": 3,
     "solution": true,
     "task": false
    }
   },
   "outputs": [
    {
     "name": "stdout",
     "output_type": "stream",
     "text": [
      " * sqlite:///../../dbfiles/book.db\n",
      "Done.\n"
     ]
    },
    {
     "data": {
      "text/html": [
       "<div>\n",
       "<style scoped>\n",
       "    .dataframe tbody tr th:only-of-type {\n",
       "        vertical-align: middle;\n",
       "    }\n",
       "\n",
       "    .dataframe tbody tr th {\n",
       "        vertical-align: top;\n",
       "    }\n",
       "\n",
       "    .dataframe thead th {\n",
       "        text-align: right;\n",
       "    }\n",
       "</style>\n",
       "<table border=\"1\" class=\"dataframe\">\n",
       "  <thead>\n",
       "    <tr style=\"text-align: right;\">\n",
       "      <th></th>\n",
       "      <th>pg_code</th>\n",
       "      <th>pg_pop</th>\n",
       "      <th>pg_gdp</th>\n",
       "      <th>cl_code</th>\n",
       "      <th>cl_country</th>\n",
       "      <th>cl_land</th>\n",
       "    </tr>\n",
       "  </thead>\n",
       "  <tbody>\n",
       "    <tr>\n",
       "      <th>0</th>\n",
       "      <td>FRA</td>\n",
       "      <td>66.87</td>\n",
       "      <td>2586.29</td>\n",
       "      <td>FRA</td>\n",
       "      <td>France</td>\n",
       "      <td>547557.0</td>\n",
       "    </tr>\n",
       "    <tr>\n",
       "      <th>1</th>\n",
       "      <td>GBR</td>\n",
       "      <td>66.06</td>\n",
       "      <td>2637.87</td>\n",
       "      <td>GBR</td>\n",
       "      <td>United Kingdom</td>\n",
       "      <td>241930.0</td>\n",
       "    </tr>\n",
       "    <tr>\n",
       "      <th>2</th>\n",
       "      <td>None</td>\n",
       "      <td>NaN</td>\n",
       "      <td>NaN</td>\n",
       "      <td>IND</td>\n",
       "      <td>India</td>\n",
       "      <td>2973190.0</td>\n",
       "    </tr>\n",
       "    <tr>\n",
       "      <th>3</th>\n",
       "      <td>USA</td>\n",
       "      <td>325.15</td>\n",
       "      <td>19485.40</td>\n",
       "      <td>USA</td>\n",
       "      <td>United States</td>\n",
       "      <td>9147420.0</td>\n",
       "    </tr>\n",
       "    <tr>\n",
       "      <th>4</th>\n",
       "      <td>None</td>\n",
       "      <td>NaN</td>\n",
       "      <td>NaN</td>\n",
       "      <td>VNM</td>\n",
       "      <td>Vietnam</td>\n",
       "      <td>310070.0</td>\n",
       "    </tr>\n",
       "  </tbody>\n",
       "</table>\n",
       "</div>"
      ],
      "text/plain": [
       "  pg_code  pg_pop    pg_gdp cl_code      cl_country    cl_land\n",
       "0     FRA   66.87   2586.29     FRA          France   547557.0\n",
       "1     GBR   66.06   2637.87     GBR  United Kingdom   241930.0\n",
       "2    None     NaN       NaN     IND           India  2973190.0\n",
       "3     USA  325.15  19485.40     USA   United States  9147420.0\n",
       "4    None     NaN       NaN     VNM         Vietnam   310070.0"
      ]
     },
     "execution_count": 9,
     "metadata": {},
     "output_type": "execute_result"
    }
   ],
   "source": [
    "query = \"\"\"\n",
    "SELECT pop_gdp.code AS pg_code,\n",
    "       pop_gdp.pop AS pg_pop,\n",
    "       pop_gdp.gdp AS pg_gdp,\n",
    "       country_land.code AS cl_code,\n",
    "       country_land.country AS cl_country,\n",
    "       country_land.land AS cl_land\n",
    "FROM country_land LEFT JOIN pop_gdp ON country_land.code = pop_gdp.code\n",
    "\"\"\"\n",
    "resultset = %sql $query\n",
    "resultdf = resultset.DataFrame()\n",
    "resultdf.head()"
   ]
  },
  {
   "cell_type": "markdown",
   "metadata": {},
   "source": [
    "Similar to the previous example, this result has all records present in the `country_land` table, even if they are not present in the `pop_gdp` table (e.g., IND and VNM have NULL values in the columns coming from `pop_gdp`)."
   ]
  },
  {
   "cell_type": "markdown",
   "metadata": {},
   "source": [
    "#### Full outer join\n",
    "\n",
    "An outer join, also called a `FULL OUTER JOIN`, is also not implemented in all systems.  Instead, we can take the `UNION` of both the `LEFT JOIN` and `RIGHT JOIN`.\n",
    "\n",
    "Finally, we construct a combined table that includes all six columns from the two tables, and where the rows in the result satisfy the match condition, and all rows in either original table are present."
   ]
  },
  {
   "cell_type": "code",
   "execution_count": 10,
   "metadata": {},
   "outputs": [
    {
     "name": "stdout",
     "output_type": "stream",
     "text": [
      " * sqlite:///../../dbfiles/book.db\n",
      "Done.\n"
     ]
    },
    {
     "data": {
      "text/html": [
       "<div>\n",
       "<style scoped>\n",
       "    .dataframe tbody tr th:only-of-type {\n",
       "        vertical-align: middle;\n",
       "    }\n",
       "\n",
       "    .dataframe tbody tr th {\n",
       "        vertical-align: top;\n",
       "    }\n",
       "\n",
       "    .dataframe thead th {\n",
       "        text-align: right;\n",
       "    }\n",
       "</style>\n",
       "<table border=\"1\" class=\"dataframe\">\n",
       "  <thead>\n",
       "    <tr style=\"text-align: right;\">\n",
       "      <th></th>\n",
       "      <th>pg_code</th>\n",
       "      <th>pg_pop</th>\n",
       "      <th>pg_gdp</th>\n",
       "      <th>cl_code</th>\n",
       "      <th>cl_country</th>\n",
       "      <th>cl_land</th>\n",
       "    </tr>\n",
       "  </thead>\n",
       "  <tbody>\n",
       "    <tr>\n",
       "      <th>0</th>\n",
       "      <td>None</td>\n",
       "      <td>NaN</td>\n",
       "      <td>NaN</td>\n",
       "      <td>IND</td>\n",
       "      <td>India</td>\n",
       "      <td>2973190.0</td>\n",
       "    </tr>\n",
       "    <tr>\n",
       "      <th>1</th>\n",
       "      <td>None</td>\n",
       "      <td>NaN</td>\n",
       "      <td>NaN</td>\n",
       "      <td>VNM</td>\n",
       "      <td>Vietnam</td>\n",
       "      <td>310070.0</td>\n",
       "    </tr>\n",
       "    <tr>\n",
       "      <th>2</th>\n",
       "      <td>CHN</td>\n",
       "      <td>1386.40</td>\n",
       "      <td>12143.50</td>\n",
       "      <td>None</td>\n",
       "      <td>None</td>\n",
       "      <td>NaN</td>\n",
       "    </tr>\n",
       "    <tr>\n",
       "      <th>3</th>\n",
       "      <td>FRA</td>\n",
       "      <td>66.87</td>\n",
       "      <td>2586.29</td>\n",
       "      <td>FRA</td>\n",
       "      <td>France</td>\n",
       "      <td>547557.0</td>\n",
       "    </tr>\n",
       "    <tr>\n",
       "      <th>4</th>\n",
       "      <td>GBR</td>\n",
       "      <td>66.06</td>\n",
       "      <td>2637.87</td>\n",
       "      <td>GBR</td>\n",
       "      <td>United Kingdom</td>\n",
       "      <td>241930.0</td>\n",
       "    </tr>\n",
       "  </tbody>\n",
       "</table>\n",
       "</div>"
      ],
      "text/plain": [
       "  pg_code   pg_pop    pg_gdp cl_code      cl_country    cl_land\n",
       "0    None      NaN       NaN     IND           India  2973190.0\n",
       "1    None      NaN       NaN     VNM         Vietnam   310070.0\n",
       "2     CHN  1386.40  12143.50    None            None        NaN\n",
       "3     FRA    66.87   2586.29     FRA          France   547557.0\n",
       "4     GBR    66.06   2637.87     GBR  United Kingdom   241930.0"
      ]
     },
     "execution_count": 10,
     "metadata": {},
     "output_type": "execute_result"
    }
   ],
   "source": [
    "query = \"\"\"\n",
    "SELECT pop_gdp.code AS pg_code,\n",
    "       pop_gdp.pop AS pg_pop,\n",
    "       pop_gdp.gdp AS pg_gdp,\n",
    "       country_land.code AS cl_code,\n",
    "       country_land.country AS cl_country,\n",
    "       country_land.land AS cl_land\n",
    "FROM pop_gdp LEFT JOIN country_land ON country_land.code = pop_gdp.code\n",
    "UNION\n",
    "SELECT pop_gdp.code AS pg_code,\n",
    "       pop_gdp.pop AS pg_pop,\n",
    "       pop_gdp.gdp AS pg_gdp,\n",
    "       country_land.code AS cl_code,\n",
    "       country_land.country AS cl_country,\n",
    "       country_land.land AS cl_land\n",
    "FROM country_land LEFT JOIN pop_gdp ON country_land.code = pop_gdp.code\n",
    "\"\"\"\n",
    "resultset = %sql $query\n",
    "resultdf = resultset.DataFrame()\n",
    "resultdf.head()"
   ]
  },
  {
   "cell_type": "markdown",
   "metadata": {},
   "source": [
    "---\n",
    "\n",
    "## Part D: `LEFT JOIN` and Set Differences\n",
    "\n",
    "We can use a `LEFT JOIN` to compute differences between sets.  The next two exercises walk you through this process.  First, let's switch back to the `school` database."
   ]
  },
  {
   "cell_type": "code",
   "execution_count": 11,
   "metadata": {},
   "outputs": [
    {
     "name": "stdout",
     "output_type": "stream",
     "text": [
      "Connection string: sqlite:///../../dbfiles/school.db\n"
     ]
    }
   ],
   "source": [
    "scheme, dbdir, database = getsqlite_creds(source=\"sqlite2\")\n",
    "template = '{}:///{}/{}.db'\n",
    "cstring = template.format(scheme, dbdir, database)\n",
    "print(\"Connection string:\", cstring)\n",
    "\n",
    "%sql $cstring"
   ]
  },
  {
   "cell_type": "markdown",
   "metadata": {},
   "source": [
    "**Q6:** Write a SQL query to collect course and class information for all courses (subject, number, and title) and classes (also term, as a column `term`).  Your resulting table should include directed studies, and should have records for all rows in the `courses` table."
   ]
  },
  {
   "cell_type": "code",
   "execution_count": 12,
   "metadata": {},
   "outputs": [
    {
     "name": "stdout",
     "output_type": "stream",
     "text": [
      "   sqlite:///../../dbfiles/book.db\n",
      " * sqlite:///../../dbfiles/school.db\n",
      "Done.\n",
      "1896\n"
     ]
    },
    {
     "data": {
      "text/html": [
       "<div>\n",
       "<style scoped>\n",
       "    .dataframe tbody tr th:only-of-type {\n",
       "        vertical-align: middle;\n",
       "    }\n",
       "\n",
       "    .dataframe tbody tr th {\n",
       "        vertical-align: top;\n",
       "    }\n",
       "\n",
       "    .dataframe thead th {\n",
       "        text-align: right;\n",
       "    }\n",
       "</style>\n",
       "<table border=\"1\" class=\"dataframe\">\n",
       "  <thead>\n",
       "    <tr style=\"text-align: right;\">\n",
       "      <th></th>\n",
       "      <th>coursesubject</th>\n",
       "      <th>coursenum</th>\n",
       "      <th>coursetitle</th>\n",
       "      <th>term</th>\n",
       "    </tr>\n",
       "  </thead>\n",
       "  <tbody>\n",
       "    <tr>\n",
       "      <th>0</th>\n",
       "      <td>ARAB</td>\n",
       "      <td>111</td>\n",
       "      <td>Beginning Arabic I</td>\n",
       "      <td>FALL</td>\n",
       "    </tr>\n",
       "    <tr>\n",
       "      <th>1</th>\n",
       "      <td>ARAB</td>\n",
       "      <td>112</td>\n",
       "      <td>Beginning Arabic II</td>\n",
       "      <td>SPRING</td>\n",
       "    </tr>\n",
       "    <tr>\n",
       "      <th>2</th>\n",
       "      <td>ARAB</td>\n",
       "      <td>211</td>\n",
       "      <td>Intermediate Arabic I</td>\n",
       "      <td>FALL</td>\n",
       "    </tr>\n",
       "    <tr>\n",
       "      <th>3</th>\n",
       "      <td>ARAB</td>\n",
       "      <td>361</td>\n",
       "      <td>Directed Study</td>\n",
       "      <td>FALL</td>\n",
       "    </tr>\n",
       "    <tr>\n",
       "      <th>4</th>\n",
       "      <td>ARAB</td>\n",
       "      <td>361</td>\n",
       "      <td>Directed Study</td>\n",
       "      <td>FALL</td>\n",
       "    </tr>\n",
       "  </tbody>\n",
       "</table>\n",
       "</div>"
      ],
      "text/plain": [
       "  coursesubject  coursenum            coursetitle    term\n",
       "0          ARAB        111     Beginning Arabic I    FALL\n",
       "1          ARAB        112    Beginning Arabic II  SPRING\n",
       "2          ARAB        211  Intermediate Arabic I    FALL\n",
       "3          ARAB        361         Directed Study    FALL\n",
       "4          ARAB        361         Directed Study    FALL"
      ]
     },
     "execution_count": 12,
     "metadata": {},
     "output_type": "execute_result"
    }
   ],
   "source": [
    "query6 = \"\"\"\n",
    "SELECT coursesubject, coursenum, courses.coursetitle, classterm AS term\n",
    "FROM courses LEFT JOIN classes USING (coursesubject, coursenum)\n",
    "\"\"\"\n",
    "# YOUR CODE HERE\n",
    "# raise NotImplementedError()\n",
    "\n",
    "resultset6 = %sql $query6\n",
    "resultdf6 = resultset6.DataFrame()\n",
    "print(len(resultdf6))\n",
    "resultdf6.head()"
   ]
  },
  {
   "cell_type": "code",
   "execution_count": 13,
   "metadata": {},
   "outputs": [],
   "source": [
    "# Testing cell\n",
    "assert len(resultdf6) == 1896\n",
    "assert set(resultdf6.columns) == set([\"coursesubject\", \"coursenum\", \"coursetitle\", \"term\"])\n",
    "assert True in list(resultdf6[\"term\"].isna())\n",
    "assert True not in list(resultdf6[\"coursetitle\"].isna())\n",
    "assert \"Beginning Arabic I\" in set(resultdf6[\"coursetitle\"])"
   ]
  },
  {
   "cell_type": "markdown",
   "metadata": {},
   "source": [
    "**Q7:** Using the query from the previous question as a subquery, select the course subject, number, and title for any courses not offered in either the fall or spring terms.  (Hint: think about what you can filter from the result of the previous question.)"
   ]
  },
  {
   "cell_type": "code",
   "execution_count": 14,
   "metadata": {},
   "outputs": [
    {
     "name": "stdout",
     "output_type": "stream",
     "text": [
      "   sqlite:///../../dbfiles/book.db\n",
      " * sqlite:///../../dbfiles/school.db\n",
      "Done.\n",
      "94\n"
     ]
    },
    {
     "data": {
      "text/html": [
       "<div>\n",
       "<style scoped>\n",
       "    .dataframe tbody tr th:only-of-type {\n",
       "        vertical-align: middle;\n",
       "    }\n",
       "\n",
       "    .dataframe tbody tr th {\n",
       "        vertical-align: top;\n",
       "    }\n",
       "\n",
       "    .dataframe thead th {\n",
       "        text-align: right;\n",
       "    }\n",
       "</style>\n",
       "<table border=\"1\" class=\"dataframe\">\n",
       "  <thead>\n",
       "    <tr style=\"text-align: right;\">\n",
       "      <th></th>\n",
       "      <th>coursesubject</th>\n",
       "      <th>coursenum</th>\n",
       "      <th>coursetitle</th>\n",
       "    </tr>\n",
       "  </thead>\n",
       "  <tbody>\n",
       "    <tr>\n",
       "      <th>0</th>\n",
       "      <td>ARTH</td>\n",
       "      <td>363</td>\n",
       "      <td>Independent Study</td>\n",
       "    </tr>\n",
       "    <tr>\n",
       "      <th>1</th>\n",
       "      <td>ARTH</td>\n",
       "      <td>452</td>\n",
       "      <td>Senior Research</td>\n",
       "    </tr>\n",
       "    <tr>\n",
       "      <th>2</th>\n",
       "      <td>BIOL</td>\n",
       "      <td>363</td>\n",
       "      <td>Independent Study</td>\n",
       "    </tr>\n",
       "    <tr>\n",
       "      <th>3</th>\n",
       "      <td>BIOL</td>\n",
       "      <td>364</td>\n",
       "      <td>Independent Study</td>\n",
       "    </tr>\n",
       "    <tr>\n",
       "      <th>4</th>\n",
       "      <td>BLST</td>\n",
       "      <td>265</td>\n",
       "      <td>Blk Women &amp; Org Leadership</td>\n",
       "    </tr>\n",
       "    <tr>\n",
       "      <th>...</th>\n",
       "      <td>...</td>\n",
       "      <td>...</td>\n",
       "      <td>...</td>\n",
       "    </tr>\n",
       "    <tr>\n",
       "      <th>89</th>\n",
       "      <td>WMST</td>\n",
       "      <td>162</td>\n",
       "      <td>Self-Defense for Women</td>\n",
       "    </tr>\n",
       "    <tr>\n",
       "      <th>90</th>\n",
       "      <td>WMST</td>\n",
       "      <td>229</td>\n",
       "      <td>Feminism/Fairy Tales</td>\n",
       "    </tr>\n",
       "    <tr>\n",
       "      <th>91</th>\n",
       "      <td>WMST</td>\n",
       "      <td>265</td>\n",
       "      <td>Blk Women-Org Leadership</td>\n",
       "    </tr>\n",
       "    <tr>\n",
       "      <th>92</th>\n",
       "      <td>WMST</td>\n",
       "      <td>364</td>\n",
       "      <td>Independent Study</td>\n",
       "    </tr>\n",
       "    <tr>\n",
       "      <th>93</th>\n",
       "      <td>WMST</td>\n",
       "      <td>391</td>\n",
       "      <td>Critical Pedagogy</td>\n",
       "    </tr>\n",
       "  </tbody>\n",
       "</table>\n",
       "<p>94 rows × 3 columns</p>\n",
       "</div>"
      ],
      "text/plain": [
       "   coursesubject  coursenum                 coursetitle\n",
       "0           ARTH        363           Independent Study\n",
       "1           ARTH        452             Senior Research\n",
       "2           BIOL        363           Independent Study\n",
       "3           BIOL        364           Independent Study\n",
       "4           BLST        265  Blk Women & Org Leadership\n",
       "..           ...        ...                         ...\n",
       "89          WMST        162      Self-Defense for Women\n",
       "90          WMST        229        Feminism/Fairy Tales\n",
       "91          WMST        265    Blk Women-Org Leadership\n",
       "92          WMST        364           Independent Study\n",
       "93          WMST        391           Critical Pedagogy\n",
       "\n",
       "[94 rows x 3 columns]"
      ]
     },
     "execution_count": 14,
     "metadata": {},
     "output_type": "execute_result"
    }
   ],
   "source": [
    "query7 = \"\"\"\n",
    "SELECT DISTINCT coursesubject, coursenum, coursetitle\n",
    "FROM (SELECT *\n",
    "FROM courses LEFT JOIN classes USING (coursesubject, coursenum))\n",
    "WHERE classterm IS NULL\n",
    "\"\"\"\n",
    "# YOUR CODE HERE\n",
    "# raise NotImplementedError()\n",
    "\n",
    "resultset7 = %sql $query7\n",
    "resultdf7 = resultset7.DataFrame()\n",
    "print(len(resultdf7))\n",
    "resultdf7"
   ]
  },
  {
   "cell_type": "code",
   "execution_count": 15,
   "metadata": {},
   "outputs": [],
   "source": [
    "# Testing cell\n",
    "assert len(resultdf7) == 94\n",
    "assert set(resultdf7.columns) == set([\"coursesubject\", \"coursenum\", \"coursetitle\"])\n",
    "assert resultdf7.iloc[0,1] == 363\n",
    "assert \"Beginning Arabic I\" not in set(resultdf7[\"coursetitle\"])"
   ]
  },
  {
   "cell_type": "markdown",
   "metadata": {},
   "source": [
    "**Q8:** Further expand your previous SQL query to retrieve the English courses (subject, number, and title) that were not offered in either semester."
   ]
  },
  {
   "cell_type": "code",
   "execution_count": 16,
   "metadata": {},
   "outputs": [
    {
     "name": "stdout",
     "output_type": "stream",
     "text": [
      "   sqlite:///../../dbfiles/book.db\n",
      " * sqlite:///../../dbfiles/school.db\n",
      "Done.\n"
     ]
    },
    {
     "data": {
      "text/html": [
       "<div>\n",
       "<style scoped>\n",
       "    .dataframe tbody tr th:only-of-type {\n",
       "        vertical-align: middle;\n",
       "    }\n",
       "\n",
       "    .dataframe tbody tr th {\n",
       "        vertical-align: top;\n",
       "    }\n",
       "\n",
       "    .dataframe thead th {\n",
       "        text-align: right;\n",
       "    }\n",
       "</style>\n",
       "<table border=\"1\" class=\"dataframe\">\n",
       "  <thead>\n",
       "    <tr style=\"text-align: right;\">\n",
       "      <th></th>\n",
       "      <th>coursesubject</th>\n",
       "      <th>coursenum</th>\n",
       "      <th>coursetitle</th>\n",
       "    </tr>\n",
       "  </thead>\n",
       "  <tbody>\n",
       "    <tr>\n",
       "      <th>0</th>\n",
       "      <td>ENGL</td>\n",
       "      <td>340</td>\n",
       "      <td>Contemporary Drama</td>\n",
       "    </tr>\n",
       "    <tr>\n",
       "      <th>1</th>\n",
       "      <td>ENGL</td>\n",
       "      <td>349</td>\n",
       "      <td>Studies in European Lit</td>\n",
       "    </tr>\n",
       "  </tbody>\n",
       "</table>\n",
       "</div>"
      ],
      "text/plain": [
       "  coursesubject  coursenum              coursetitle\n",
       "0          ENGL        340       Contemporary Drama\n",
       "1          ENGL        349  Studies in European Lit"
      ]
     },
     "execution_count": 16,
     "metadata": {},
     "output_type": "execute_result"
    }
   ],
   "source": [
    "query8 = \"\"\"\n",
    "SELECT coursesubject, coursenum, coursetitle\n",
    "FROM\n",
    "(SELECT DISTINCT coursesubject, coursenum, coursetitle\n",
    "FROM (SELECT *\n",
    "FROM courses LEFT JOIN classes USING (coursesubject, coursenum))\n",
    "WHERE classterm IS NULL)\n",
    "WHERE coursesubject = 'ENGL'\n",
    "\"\"\"\n",
    "# YOUR CODE HERE\n",
    "# raise NotImplementedError()\n",
    "\n",
    "# A - B = A - (A cup B)\n",
    "# B - A = B - (B cup A)\n",
    "# (A-B) + (B-A) = A + B - (A cup B)\n",
    "\n",
    "resultset8 = %sql $query8\n",
    "resultdf8 = resultset8.DataFrame()\n",
    "resultdf8.head()"
   ]
  },
  {
   "cell_type": "code",
   "execution_count": 17,
   "metadata": {},
   "outputs": [],
   "source": [
    "# Testing cell\n",
    "assert len(resultdf8) == 2\n",
    "assert set(resultdf8.columns) == set([\"coursesubject\", \"coursenum\", \"coursetitle\"])\n",
    "assert resultdf8[\"coursetitle\"][0] == \"Contemporary Drama\""
   ]
  },
  {
   "cell_type": "markdown",
   "metadata": {},
   "source": [
    "> You've reached the third (and final) checkpoint in the lab.  Make sure to have it signed off by the instructor.\n",
    ">\n",
    "> Checkpoint 3: Why can we union only the left and right joins to get an outer join?  Put another way, why don't we need the union of the left, right, and inner joins to build an outer join?"
   ]
  },
  {
   "cell_type": "markdown",
   "metadata": {},
   "source": [
    "---\n",
    "\n",
    "---\n",
    "\n",
    "## Part E\n",
    "\n",
    "How much time (in minutes/hours) did you spend on this lab outside of class?"
   ]
  },
  {
   "cell_type": "markdown",
   "metadata": {},
   "source": [
    "For over 1 hour"
   ]
  }
 ],
 "metadata": {
  "kernelspec": {
   "display_name": "Python 3 (ipykernel)",
   "language": "python",
   "name": "python3"
  },
  "language_info": {
   "codemirror_mode": {
    "name": "ipython",
    "version": 3
   },
   "file_extension": ".py",
   "mimetype": "text/x-python",
   "name": "python",
   "nbconvert_exporter": "python",
   "pygments_lexer": "ipython3",
   "version": "3.9.12"
  }
 },
 "nbformat": 4,
 "nbformat_minor": 4
}
