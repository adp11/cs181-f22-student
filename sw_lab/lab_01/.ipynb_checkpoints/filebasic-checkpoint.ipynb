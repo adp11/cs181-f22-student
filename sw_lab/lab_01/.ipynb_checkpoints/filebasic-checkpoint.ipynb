{
 "cells": [
  {
   "cell_type": "markdown",
   "metadata": {},
   "source": [
    "# Denison CS181/DA210 SW Lab #1 - Step 3\n",
    "\n",
    "Before you turn this problem in, make sure everything runs as expected. This is a combination of **restarting the kernel** and then **running all cells** (in the menubar, select Kernel$\\rightarrow$Restart And Run All).\n",
    "\n",
    "Make sure you fill in any place that says `# YOUR CODE HERE` or \"YOUR ANSWER HERE\"."
   ]
  },
  {
   "cell_type": "markdown",
   "metadata": {},
   "source": [
    "---"
   ]
  },
  {
   "cell_type": "code",
   "execution_count": null,
   "metadata": {},
   "outputs": [],
   "source": [
    "import os\n",
    "import os.path\n",
    "import io\n",
    "import sys\n",
    "from contextlib import redirect_stdout\n",
    "\n",
    "datadir = \"publicdata\""
   ]
  },
  {
   "cell_type": "markdown",
   "metadata": {},
   "source": [
    "## Instructions\n",
    "\n",
    "- Complete all the problems below by replacing the two-line sequence of `# YOUR CODE HERE` and `raise NotImplementedError()` with your solution code.\n",
    "- All functions that you define for software labs **must have docstrings**."
   ]
  },
  {
   "cell_type": "markdown",
   "metadata": {},
   "source": [
    "**Q1:** Write a function\n",
    "\n",
    "```\n",
    "    myFileList(directoryPath)\n",
    "```\n",
    "    \n",
    "that queries the specified directory, `directoryPath`, for the files and folders contained therein and generates and returns a list with an element for each of the non-hidden **files** in the directory.  This means that your list should **not** include any entries for hidden files (that start with a `.` character), nor should it include entries for directories (i.e., folders)."
   ]
  },
  {
   "cell_type": "code",
   "execution_count": null,
   "metadata": {
    "deletable": false,
    "nbgrader": {
     "cell_type": "code",
     "checksum": "c5cc48f43ddc58d09911fd8a5cc76814",
     "grade": false,
     "grade_id": "cell-5a2690ad91df7a9f",
     "locked": false,
     "schema_version": 3,
     "solution": true,
     "task": false
    }
   },
   "outputs": [],
   "source": [
    "# Solution cell\n",
    "\n",
    "def myFileList(directoryPath):\n",
    "    \n",
    "    \n",
    "raise NotImplementedError()"
   ]
  },
  {
   "cell_type": "code",
   "execution_count": null,
   "metadata": {
    "deletable": false,
    "editable": false,
    "nbgrader": {
     "cell_type": "code",
     "checksum": "36ed9b1c4f800d2d278ce00acf9d89ed",
     "grade": true,
     "grade_id": "cell-07f7d7e0c1519cdf",
     "locked": true,
     "points": 1,
     "schema_version": 3,
     "solution": false,
     "task": false
    }
   },
   "outputs": [],
   "source": [
    "# Testing cell\n",
    "assert myFileList.__doc__ is not None # don't forget the docstring!\n",
    "\n",
    "swlab_01_filelist = myFileList(\".\")\n",
    "assert len(swlab_01_filelist) == 2\n",
    "assert \"filebasic.ipynb\" in swlab_01_filelist\n",
    "assert \"README.md\" in swlab_01_filelist"
   ]
  },
  {
   "cell_type": "code",
   "execution_count": null,
   "metadata": {
    "deletable": false,
    "editable": false,
    "nbgrader": {
     "cell_type": "code",
     "checksum": "274123efa2df26ee9ff46bcce394a838",
     "grade": true,
     "grade_id": "cell-4379c9eebdfdaf7e",
     "locked": true,
     "points": 2,
     "schema_version": 3,
     "solution": false,
     "task": false
    }
   },
   "outputs": [],
   "source": [
    "# Testing cell with tougher test cases\n",
    "\n",
    "publicdata_filelist = myFileList(datadir)\n",
    "assert \"tennyson.txt\" in publicdata_filelist\n",
    "assert \"file1\" in publicdata_filelist"
   ]
  },
  {
   "cell_type": "markdown",
   "metadata": {},
   "source": [
    "> You've reached the final checkpoint in the lab.  Make sure to have it signed off by the instructor.\n",
    ">\n",
    "> Checkpoint 3: How many elements do you expect to be returned by `myFileList(\"publicdata\")`?  Why?"
   ]
  },
  {
   "cell_type": "markdown",
   "metadata": {},
   "source": [
    "---\n",
    "\n",
    "---\n",
    "\n",
    "## Time Spent\n",
    "\n",
    "How much time (in minutes/hours) did you spend on this software lab (outside of class)?"
   ]
  },
  {
   "cell_type": "markdown",
   "metadata": {},
   "source": [
    "YOUR ANSWER HERE"
   ]
  }
 ],
 "metadata": {
  "kernelspec": {
   "display_name": "Python 3 (ipykernel)",
   "language": "python",
   "name": "python3"
  },
  "language_info": {
   "codemirror_mode": {
    "name": "ipython",
    "version": 3
   },
   "file_extension": ".py",
   "mimetype": "text/x-python",
   "name": "python",
   "nbconvert_exporter": "python",
   "pygments_lexer": "ipython3",
   "version": "3.9.12"
  },
  "vscode": {
   "interpreter": {
    "hash": "73a75ea109158a2d84971ce48cb4564b23b98d042ab3daf1c1f7c2d610837661"
   }
  }
 },
 "nbformat": 4,
 "nbformat_minor": 4
}
