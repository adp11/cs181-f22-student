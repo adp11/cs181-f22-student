{
 "cells": [
  {
   "cell_type": "markdown",
   "metadata": {},
   "source": [
    "# Denison CS181/DA210 SW Lab #10 - Step 1\n",
    "\n",
    "Before you complete the lab checkpoints, make sure everything runs as expected. This is a combination of **restarting the kernel** and then **running all cells** (in the menubar, select Kernel$\\rightarrow$Restart And Run All).\n",
    "\n",
    "Make sure you fill in any place that says `# YOUR CODE HERE` or \"YOUR ANSWER HERE\"."
   ]
  },
  {
   "cell_type": "markdown",
   "metadata": {},
   "source": [
    "---"
   ]
  },
  {
   "cell_type": "markdown",
   "metadata": {},
   "source": [
    "#### Import Python modules and load \"SQL Magic\""
   ]
  },
  {
   "cell_type": "code",
   "execution_count": 1,
   "metadata": {
    "deletable": false,
    "editable": false,
    "nbgrader": {
     "cell_type": "code",
     "checksum": "2c15bf49fe13507b473a89ebc6ffdea5",
     "grade": false,
     "grade_id": "cell-b9abcf27cf7faf8f",
     "locked": true,
     "schema_version": 3,
     "solution": false,
     "task": false
    }
   },
   "outputs": [],
   "source": [
    "import pandas as pd\n",
    "import os\n",
    "import os.path\n",
    "import json\n",
    "import sys\n",
    "import importlib\n",
    "\n",
    "module_dir = \"../../modules\"\n",
    "module_path = os.path.abspath(module_dir)\n",
    "if not module_path in sys.path:\n",
    "    sys.path.append(module_path)\n",
    "\n",
    "%load_ext sql"
   ]
  },
  {
   "cell_type": "code",
   "execution_count": 2,
   "metadata": {},
   "outputs": [],
   "source": [
    "def getsqlite_creds(dirname=\".\",filename=\"creds.json\"):\n",
    "    \"\"\" Using directory and filename parameters, open a credentials file\n",
    "        and obtain the two parts needed for a connection string to\n",
    "        a local provider using the \"sqlite\" dictionary within\n",
    "        an outer dictionary.  \n",
    "        \n",
    "        Return a scheme and a dbfile\n",
    "    \"\"\"\n",
    "    assert os.path.isfile(os.path.join(dirname, filename))\n",
    "    with open(os.path.join(dirname, filename)) as f:\n",
    "        D = json.load(f)\n",
    "    sqlite = D[\"sqlite1\"]\n",
    "    return sqlite[\"scheme\"], sqlite[\"dbdir\"], sqlite[\"database\"]"
   ]
  },
  {
   "cell_type": "code",
   "execution_count": 3,
   "metadata": {},
   "outputs": [
    {
     "name": "stdout",
     "output_type": "stream",
     "text": [
      "Connection string: sqlite:///../../dbfiles/book.db\n"
     ]
    }
   ],
   "source": [
    "scheme, dbdir, database = getsqlite_creds()\n",
    "template = '{}:///{}/{}.db'\n",
    "cstring = template.format(scheme, dbdir, database)\n",
    "print(\"Connection string:\", cstring)"
   ]
  },
  {
   "cell_type": "markdown",
   "metadata": {},
   "source": [
    "#### Establish Connection from Client to Server"
   ]
  },
  {
   "cell_type": "code",
   "execution_count": 4,
   "metadata": {},
   "outputs": [],
   "source": [
    "%sql $cstring"
   ]
  },
  {
   "cell_type": "markdown",
   "metadata": {},
   "source": [
    "---\n",
    "\n",
    "# Part A: SQL Grammar (Recap)\n",
    "\n",
    "So far, we have seen the following SQL grammar:\n",
    "\n",
    "```\n",
    "    SELECT field-spec\n",
    "    FROM table-spec\n",
    "    [order-clause]\n",
    "    [limit-clause]\n",
    "```\n",
    "\n",
    "For example, we may want to project the `pop` and `gdp` columns from `indicators`, but only for the country/year combinations with the 5 highest life expectancies:\n",
    "\n",
    "```SQL\n",
    "    SELECT pop AS Population, gdp AS GDP\n",
    "    FROM indicators\n",
    "    ORDER BY life DESC\n",
    "    LIMIT 5\n",
    "```"
   ]
  },
  {
   "cell_type": "markdown",
   "metadata": {},
   "source": [
    "We can execute this command using a single-line SQL statement, as follows:"
   ]
  },
  {
   "cell_type": "code",
   "execution_count": 5,
   "metadata": {},
   "outputs": [
    {
     "name": "stdout",
     "output_type": "stream",
     "text": [
      " * sqlite:///../../dbfiles/book.db\n",
      "Done.\n"
     ]
    },
    {
     "data": {
      "text/html": [
       "<table>\n",
       "    <tr>\n",
       "        <th>Population</th>\n",
       "        <th>GDP</th>\n",
       "    </tr>\n",
       "    <tr>\n",
       "        <td>0.03</td>\n",
       "        <td>1.8</td>\n",
       "    </tr>\n",
       "    <tr>\n",
       "        <td>7.39</td>\n",
       "        <td>341.65</td>\n",
       "    </tr>\n",
       "    <tr>\n",
       "        <td>7.29</td>\n",
       "        <td>309.38</td>\n",
       "    </tr>\n",
       "    <tr>\n",
       "        <td>7.34</td>\n",
       "        <td>320.86</td>\n",
       "    </tr>\n",
       "    <tr>\n",
       "        <td>126.79</td>\n",
       "        <td>4859.95</td>\n",
       "    </tr>\n",
       "</table>"
      ],
      "text/plain": [
       "[(0.03, 1.8),\n",
       " (7.39, 341.65),\n",
       " (7.29, 309.38),\n",
       " (7.34, 320.86),\n",
       " (126.79, 4859.95)]"
      ]
     },
     "execution_count": 5,
     "metadata": {},
     "output_type": "execute_result"
    }
   ],
   "source": [
    "%sql SELECT pop AS Population, gdp AS GDP FROM indicators ORDER BY life DESC LIMIT 5"
   ]
  },
  {
   "cell_type": "markdown",
   "metadata": {},
   "source": [
    "That's pretty hard to read, so we can instead build our SQL query as a multi-line Python string, and pass that string to the \"SQL magic\":"
   ]
  },
  {
   "cell_type": "code",
   "execution_count": 6,
   "metadata": {},
   "outputs": [
    {
     "name": "stdout",
     "output_type": "stream",
     "text": [
      " * sqlite:///../../dbfiles/book.db\n",
      "Done.\n"
     ]
    },
    {
     "data": {
      "text/html": [
       "<table>\n",
       "    <tr>\n",
       "        <th>Population</th>\n",
       "        <th>GDP</th>\n",
       "    </tr>\n",
       "    <tr>\n",
       "        <td>0.03</td>\n",
       "        <td>1.8</td>\n",
       "    </tr>\n",
       "    <tr>\n",
       "        <td>7.39</td>\n",
       "        <td>341.65</td>\n",
       "    </tr>\n",
       "    <tr>\n",
       "        <td>7.29</td>\n",
       "        <td>309.38</td>\n",
       "    </tr>\n",
       "    <tr>\n",
       "        <td>7.34</td>\n",
       "        <td>320.86</td>\n",
       "    </tr>\n",
       "    <tr>\n",
       "        <td>126.79</td>\n",
       "        <td>4859.95</td>\n",
       "    </tr>\n",
       "</table>"
      ],
      "text/plain": [
       "[(0.03, 1.8),\n",
       " (7.39, 341.65),\n",
       " (7.29, 309.38),\n",
       " (7.34, 320.86),\n",
       " (126.79, 4859.95)]"
      ]
     },
     "execution_count": 6,
     "metadata": {},
     "output_type": "execute_result"
    }
   ],
   "source": [
    "query = \"\"\"\n",
    "SELECT pop AS Population, gdp AS GDP\n",
    "FROM indicators\n",
    "ORDER BY life DESC\n",
    "LIMIT 5\n",
    "\"\"\"\n",
    "\n",
    "%sql $query"
   ]
  },
  {
   "cell_type": "markdown",
   "metadata": {},
   "source": [
    "---\n",
    "\n",
    "# Part B: SQL Single-Table Selection and Row Filtering\n",
    "\n",
    "We can expand on the multi-column projection queries we've looked at so far to include filtering based on the values in a given field (column).\n",
    "\n",
    "As a simple example, we can select only the distinct values of a given field.  To do so, we'll add an optional `DISTINCT` keyword to our grammar (recall that `[]` indicate that the contents are optional):\n",
    "```\n",
    "    SELECT [DISTINCT] field-spec\n",
    "    FROM table-spec\n",
    "    [order-clause]\n",
    "    [limit-clause]\n",
    "```\n",
    "\n",
    "For example, we may want the unique country codes from the `indicators` table in the `book` database:"
   ]
  },
  {
   "cell_type": "code",
   "execution_count": 7,
   "metadata": {},
   "outputs": [
    {
     "name": "stdout",
     "output_type": "stream",
     "text": [
      " * sqlite:///../../dbfiles/book.db\n",
      "Done.\n"
     ]
    },
    {
     "data": {
      "text/html": [
       "<div>\n",
       "<style scoped>\n",
       "    .dataframe tbody tr th:only-of-type {\n",
       "        vertical-align: middle;\n",
       "    }\n",
       "\n",
       "    .dataframe tbody tr th {\n",
       "        vertical-align: top;\n",
       "    }\n",
       "\n",
       "    .dataframe thead th {\n",
       "        text-align: right;\n",
       "    }\n",
       "</style>\n",
       "<table border=\"1\" class=\"dataframe\">\n",
       "  <thead>\n",
       "    <tr style=\"text-align: right;\">\n",
       "      <th></th>\n",
       "      <th>code</th>\n",
       "    </tr>\n",
       "  </thead>\n",
       "  <tbody>\n",
       "    <tr>\n",
       "      <th>0</th>\n",
       "      <td>ABW</td>\n",
       "    </tr>\n",
       "    <tr>\n",
       "      <th>1</th>\n",
       "      <td>AFG</td>\n",
       "    </tr>\n",
       "    <tr>\n",
       "      <th>2</th>\n",
       "      <td>AGO</td>\n",
       "    </tr>\n",
       "    <tr>\n",
       "      <th>3</th>\n",
       "      <td>ALB</td>\n",
       "    </tr>\n",
       "    <tr>\n",
       "      <th>4</th>\n",
       "      <td>AND</td>\n",
       "    </tr>\n",
       "    <tr>\n",
       "      <th>...</th>\n",
       "      <td>...</td>\n",
       "    </tr>\n",
       "    <tr>\n",
       "      <th>213</th>\n",
       "      <td>XKX</td>\n",
       "    </tr>\n",
       "    <tr>\n",
       "      <th>214</th>\n",
       "      <td>YEM</td>\n",
       "    </tr>\n",
       "    <tr>\n",
       "      <th>215</th>\n",
       "      <td>ZAF</td>\n",
       "    </tr>\n",
       "    <tr>\n",
       "      <th>216</th>\n",
       "      <td>ZMB</td>\n",
       "    </tr>\n",
       "    <tr>\n",
       "      <th>217</th>\n",
       "      <td>ZWE</td>\n",
       "    </tr>\n",
       "  </tbody>\n",
       "</table>\n",
       "<p>218 rows × 1 columns</p>\n",
       "</div>"
      ],
      "text/plain": [
       "    code\n",
       "0    ABW\n",
       "1    AFG\n",
       "2    AGO\n",
       "3    ALB\n",
       "4    AND\n",
       "..   ...\n",
       "213  XKX\n",
       "214  YEM\n",
       "215  ZAF\n",
       "216  ZMB\n",
       "217  ZWE\n",
       "\n",
       "[218 rows x 1 columns]"
      ]
     },
     "execution_count": 7,
     "metadata": {},
     "output_type": "execute_result"
    }
   ],
   "source": [
    "query = \"\"\"\n",
    "SELECT DISTINCT code\n",
    "FROM indicators\n",
    "\"\"\"\n",
    "\n",
    "# Get the results as a DataFrame so we don't have to view the whole thing (it's long)\n",
    "resultset = %sql $query\n",
    "resultdf = resultset.DataFrame()\n",
    "resultdf"
   ]
  },
  {
   "cell_type": "markdown",
   "metadata": {},
   "source": [
    "Alternatively, we could filter based on a filter condition.  For this, we'll add one new clause to our grammar:\n",
    "```\n",
    "    SELECT [DISTINCT] field-spec\n",
    "    FROM table-spec\n",
    "    [WHERE [NOT] filter-cond]\n",
    "    [order-clause]\n",
    "    [limit-clause]\n",
    "```\n",
    "\n",
    "We will look at several types of filter conditions:\n",
    "1. Binary operations and Booleans\n",
    "2. Range of values\n",
    "3. In a set\n",
    "4. Like (matching) a pattern\n",
    "5. Null/not null"
   ]
  },
  {
   "cell_type": "markdown",
   "metadata": {},
   "source": [
    "### 1. Binary operations/Booleans\n",
    "\n",
    "Filter conditions using binary operations and Booleans have the form `expr op expr`, using the following possible choices for `op`: `=`, `<>`, `<`, `>`, `<=`, `>=`, `NOT`, `AND`, `OR`.\n",
    "\n",
    "For example:"
   ]
  },
  {
   "cell_type": "code",
   "execution_count": 8,
   "metadata": {},
   "outputs": [
    {
     "name": "stdout",
     "output_type": "stream",
     "text": [
      " * sqlite:///../../dbfiles/book.db\n",
      "Done.\n"
     ]
    },
    {
     "data": {
      "text/html": [
       "<table>\n",
       "    <tr>\n",
       "        <th>code</th>\n",
       "        <th>pop</th>\n",
       "    </tr>\n",
       "    <tr>\n",
       "        <td>CHN</td>\n",
       "        <td>1350.7</td>\n",
       "    </tr>\n",
       "    <tr>\n",
       "        <td>JPN</td>\n",
       "        <td>127.63</td>\n",
       "    </tr>\n",
       "    <tr>\n",
       "        <td>USA</td>\n",
       "        <td>313.87</td>\n",
       "    </tr>\n",
       "</table>"
      ],
      "text/plain": [
       "[('CHN', 1350.7), ('JPN', 127.63), ('USA', 313.87)]"
      ]
     },
     "execution_count": 8,
     "metadata": {},
     "output_type": "execute_result"
    }
   ],
   "source": [
    "query = \"\"\"\n",
    "SELECT code, pop\n",
    "FROM indicators\n",
    "WHERE gdp > 5000 AND year = 2012\n",
    "\"\"\"\n",
    "\n",
    "%sql $query"
   ]
  },
  {
   "cell_type": "code",
   "execution_count": 9,
   "metadata": {},
   "outputs": [
    {
     "name": "stdout",
     "output_type": "stream",
     "text": [
      " * sqlite:///../../dbfiles/book.db\n",
      "Done.\n"
     ]
    },
    {
     "data": {
      "text/html": [
       "<table>\n",
       "    <tr>\n",
       "        <th>name</th>\n",
       "        <th>count</th>\n",
       "    </tr>\n",
       "    <tr>\n",
       "        <td>Noah</td>\n",
       "        <td>19635</td>\n",
       "    </tr>\n",
       "    <tr>\n",
       "        <td>Noah</td>\n",
       "        <td>19117</td>\n",
       "    </tr>\n",
       "    <tr>\n",
       "        <td>Liam</td>\n",
       "        <td>18798</td>\n",
       "    </tr>\n",
       "</table>"
      ],
      "text/plain": [
       "[('Noah', 19635), ('Noah', 19117), ('Liam', 18798)]"
      ]
     },
     "execution_count": 9,
     "metadata": {},
     "output_type": "execute_result"
    }
   ],
   "source": [
    "query = \"\"\"\n",
    "SELECT name, count\n",
    "FROM topnames\n",
    "WHERE year >= 2015 AND year < 2018 AND sex <> 'Female'\n",
    "\"\"\"\n",
    "\n",
    "%sql $query"
   ]
  },
  {
   "cell_type": "markdown",
   "metadata": {},
   "source": [
    "### 2. Range of values\n",
    "\n",
    "The last example above could be simplified by instead specifying that we want the year between `2015` and `2017`.  We can do that using a range clause:\n",
    "\n",
    "```\n",
    "    range-clause |= expr [NOT] BETWEEN low AND high\n",
    "```\n",
    "\n",
    "For example:"
   ]
  },
  {
   "cell_type": "code",
   "execution_count": 10,
   "metadata": {},
   "outputs": [
    {
     "name": "stdout",
     "output_type": "stream",
     "text": [
      " * sqlite:///../../dbfiles/book.db\n",
      "Done.\n"
     ]
    },
    {
     "data": {
      "text/html": [
       "<table>\n",
       "    <tr>\n",
       "        <th>name</th>\n",
       "        <th>count</th>\n",
       "    </tr>\n",
       "    <tr>\n",
       "        <td>Noah</td>\n",
       "        <td>19635</td>\n",
       "    </tr>\n",
       "    <tr>\n",
       "        <td>Noah</td>\n",
       "        <td>19117</td>\n",
       "    </tr>\n",
       "    <tr>\n",
       "        <td>Liam</td>\n",
       "        <td>18798</td>\n",
       "    </tr>\n",
       "</table>"
      ],
      "text/plain": [
       "[('Noah', 19635), ('Noah', 19117), ('Liam', 18798)]"
      ]
     },
     "execution_count": 10,
     "metadata": {},
     "output_type": "execute_result"
    }
   ],
   "source": [
    "query = \"\"\"\n",
    "SELECT name, count\n",
    "FROM topnames\n",
    "WHERE (year BETWEEN 2015 AND 2017) AND sex <> 'Female'\n",
    "\"\"\"\n",
    "\n",
    "%sql $query"
   ]
  },
  {
   "cell_type": "markdown",
   "metadata": {},
   "source": [
    "### 3. In a set\n",
    "\n",
    "If we instead want to find the records for which a given value is one of a set, we can use an `IN` clause:\n",
    "\n",
    "```\n",
    "    in-clause |= expr [NOT] IN (set-members)\n",
    "```\n",
    "\n",
    "For example:"
   ]
  },
  {
   "cell_type": "code",
   "execution_count": 11,
   "metadata": {},
   "outputs": [
    {
     "name": "stdout",
     "output_type": "stream",
     "text": [
      " * sqlite:///../../dbfiles/book.db\n",
      "Done.\n"
     ]
    },
    {
     "data": {
      "text/html": [
       "<table>\n",
       "    <tr>\n",
       "        <th>code</th>\n",
       "        <th>pop</th>\n",
       "    </tr>\n",
       "    <tr>\n",
       "        <td>KOR</td>\n",
       "        <td>51.47</td>\n",
       "    </tr>\n",
       "    <tr>\n",
       "        <td>VNM</td>\n",
       "        <td>94.6</td>\n",
       "    </tr>\n",
       "</table>"
      ],
      "text/plain": [
       "[('KOR', 51.47), ('VNM', 94.6)]"
      ]
     },
     "execution_count": 11,
     "metadata": {},
     "output_type": "execute_result"
    }
   ],
   "source": [
    "query = \"\"\"\n",
    "SELECT code, pop\n",
    "FROM indicators\n",
    "WHERE year = 2017 AND code IN ('VNM', 'KOR')\n",
    "\"\"\"\n",
    "\n",
    "%sql $query"
   ]
  },
  {
   "cell_type": "markdown",
   "metadata": {},
   "source": [
    "### 4. Like (matching) a pattern\n",
    "\n",
    "If we want the records for which a given value matches part of a string pattern, we can use a `LIKE` clause:\n",
    "\n",
    "```\n",
    "    like-clause |= expr [NOT] LIKE pattern\n",
    "```\n",
    "\n",
    "With a `LIKE` clause, we can use either `%` to match multiple characters or `_` to match a single character.\n",
    "\n",
    "For example:"
   ]
  },
  {
   "cell_type": "code",
   "execution_count": 12,
   "metadata": {},
   "outputs": [
    {
     "name": "stdout",
     "output_type": "stream",
     "text": [
      " * sqlite:///../../dbfiles/book.db\n",
      "Done.\n"
     ]
    },
    {
     "data": {
      "text/html": [
       "<table>\n",
       "    <tr>\n",
       "        <th>code</th>\n",
       "        <th>country</th>\n",
       "        <th>region</th>\n",
       "    </tr>\n",
       "    <tr>\n",
       "        <td>CAF</td>\n",
       "        <td>Central African Republic</td>\n",
       "        <td>Sub-Saharan Africa</td>\n",
       "    </tr>\n",
       "    <tr>\n",
       "        <td>CZE</td>\n",
       "        <td>Czech Republic</td>\n",
       "        <td>Europe &amp; Central Asia</td>\n",
       "    </tr>\n",
       "    <tr>\n",
       "        <td>DOM</td>\n",
       "        <td>Dominican Republic</td>\n",
       "        <td>Latin America &amp; Caribbean</td>\n",
       "    </tr>\n",
       "    <tr>\n",
       "        <td>DZA</td>\n",
       "        <td>Algeria</td>\n",
       "        <td>Middle East &amp; North Africa</td>\n",
       "    </tr>\n",
       "    <tr>\n",
       "        <td>KGZ</td>\n",
       "        <td>Kyrgyz Republic</td>\n",
       "        <td>Europe &amp; Central Asia</td>\n",
       "    </tr>\n",
       "    <tr>\n",
       "        <td>SVK</td>\n",
       "        <td>Slovak Republic</td>\n",
       "        <td>Europe &amp; Central Asia</td>\n",
       "    </tr>\n",
       "    <tr>\n",
       "        <td>SYR</td>\n",
       "        <td>Syrian Arab Republic</td>\n",
       "        <td>Middle East &amp; North Africa</td>\n",
       "    </tr>\n",
       "    <tr>\n",
       "        <td>TZA</td>\n",
       "        <td>Tanzania</td>\n",
       "        <td>Sub-Saharan Africa</td>\n",
       "    </tr>\n",
       "</table>"
      ],
      "text/plain": [
       "[('CAF', 'Central African Republic', 'Sub-Saharan Africa'),\n",
       " ('CZE', 'Czech Republic', 'Europe & Central Asia'),\n",
       " ('DOM', 'Dominican Republic', 'Latin America & Caribbean'),\n",
       " ('DZA', 'Algeria', 'Middle East & North Africa'),\n",
       " ('KGZ', 'Kyrgyz Republic', 'Europe & Central Asia'),\n",
       " ('SVK', 'Slovak Republic', 'Europe & Central Asia'),\n",
       " ('SYR', 'Syrian Arab Republic', 'Middle East & North Africa'),\n",
       " ('TZA', 'Tanzania', 'Sub-Saharan Africa')]"
      ]
     },
     "execution_count": 12,
     "metadata": {},
     "output_type": "execute_result"
    }
   ],
   "source": [
    "query = \"\"\"\n",
    "SELECT code, country, region\n",
    "FROM countries\n",
    "WHERE country LIKE '%Republic' OR code LIKE '_ZA'\n",
    "\"\"\"\n",
    "\n",
    "%sql $query"
   ]
  },
  {
   "cell_type": "markdown",
   "metadata": {},
   "source": [
    "### 5. Null/not null\n",
    "\n",
    "If we want the records for which a given value is or is not missing, we can use a `NULL` clause:\n",
    "\n",
    "```\n",
    "    null-clause |= expr IS [NOT] NULL\n",
    "```\n",
    "\n",
    "For example:"
   ]
  },
  {
   "cell_type": "code",
   "execution_count": 13,
   "metadata": {},
   "outputs": [
    {
     "name": "stdout",
     "output_type": "stream",
     "text": [
      " * sqlite:///../../dbfiles/book.db\n",
      "Done.\n"
     ]
    },
    {
     "data": {
      "text/html": [
       "<table>\n",
       "    <tr>\n",
       "        <th>code</th>\n",
       "        <th>country</th>\n",
       "        <th>land</th>\n",
       "    </tr>\n",
       "    <tr>\n",
       "        <td>CUW</td>\n",
       "        <td>Curacao</td>\n",
       "        <td>None</td>\n",
       "    </tr>\n",
       "    <tr>\n",
       "        <td>MAF</td>\n",
       "        <td>St. Martin (French part)</td>\n",
       "        <td>None</td>\n",
       "    </tr>\n",
       "    <tr>\n",
       "        <td>MCO</td>\n",
       "        <td>Monaco</td>\n",
       "        <td>None</td>\n",
       "    </tr>\n",
       "    <tr>\n",
       "        <td>SDN</td>\n",
       "        <td>Sudan</td>\n",
       "        <td>None</td>\n",
       "    </tr>\n",
       "    <tr>\n",
       "        <td>SSD</td>\n",
       "        <td>South Sudan</td>\n",
       "        <td>None</td>\n",
       "    </tr>\n",
       "    <tr>\n",
       "        <td>SXM</td>\n",
       "        <td>Sint Maarten (Dutch part)</td>\n",
       "        <td>None</td>\n",
       "    </tr>\n",
       "    <tr>\n",
       "        <td>XKX</td>\n",
       "        <td>Kosovo</td>\n",
       "        <td>None</td>\n",
       "    </tr>\n",
       "</table>"
      ],
      "text/plain": [
       "[('CUW', 'Curacao', None),\n",
       " ('MAF', 'St. Martin (French part)', None),\n",
       " ('MCO', 'Monaco', None),\n",
       " ('SDN', 'Sudan', None),\n",
       " ('SSD', 'South Sudan', None),\n",
       " ('SXM', 'Sint Maarten (Dutch part)', None),\n",
       " ('XKX', 'Kosovo', None)]"
      ]
     },
     "execution_count": 13,
     "metadata": {},
     "output_type": "execute_result"
    }
   ],
   "source": [
    "query = \"\"\"\n",
    "SELECT code, country, land\n",
    "FROM countries\n",
    "WHERE land IS NULL\n",
    "\"\"\"\n",
    "\n",
    "%sql $query"
   ]
  },
  {
   "cell_type": "markdown",
   "metadata": {},
   "source": [
    "---\n",
    "\n",
    "## Part C: Try it yourself\n",
    "\n",
    "In the following cells, your only action is to remove the `# YOUR CODE HERE` and `raise NotImplementedError()` lines, and then put a valid SQL statement as the **value** of string variable `query`.\n",
    "\n",
    "In each case, when you execute the cell, the query will be sent to the database management system, a result obtained, and the result converted into a `pandas` data frame, whose prefix is shown.  (This allows for testing the results as well as displaying them in your Jupyter Notebook.)\n",
    "\n",
    "_Note: you may want to view the `book` database in SQLiteStudio to get an idea of what the field names are as you work through these exercises.  Alternatively, start by adding a few code cells to perform a `SELECT * FROM tablename` query for each table name._"
   ]
  },
  {
   "cell_type": "markdown",
   "metadata": {},
   "source": [
    "**Q1:** Using the table `indicators`, write a query to find all unique years that appear in the table."
   ]
  },
  {
   "cell_type": "code",
   "execution_count": 14,
   "metadata": {
    "deletable": false,
    "nbgrader": {
     "cell_type": "code",
     "checksum": "83bb5273140026e216e5bc7b793bdae6",
     "grade": false,
     "grade_id": "cell-f9ead8b8eaedc383",
     "locked": false,
     "schema_version": 3,
     "solution": true,
     "task": false
    }
   },
   "outputs": [
    {
     "name": "stdout",
     "output_type": "stream",
     "text": [
      " * sqlite:///../../dbfiles/book.db\n",
      "Done.\n"
     ]
    },
    {
     "data": {
      "text/html": [
       "<div>\n",
       "<style scoped>\n",
       "    .dataframe tbody tr th:only-of-type {\n",
       "        vertical-align: middle;\n",
       "    }\n",
       "\n",
       "    .dataframe tbody tr th {\n",
       "        vertical-align: top;\n",
       "    }\n",
       "\n",
       "    .dataframe thead th {\n",
       "        text-align: right;\n",
       "    }\n",
       "</style>\n",
       "<table border=\"1\" class=\"dataframe\">\n",
       "  <thead>\n",
       "    <tr style=\"text-align: right;\">\n",
       "      <th></th>\n",
       "      <th>year</th>\n",
       "    </tr>\n",
       "  </thead>\n",
       "  <tbody>\n",
       "    <tr>\n",
       "      <th>0</th>\n",
       "      <td>1960</td>\n",
       "    </tr>\n",
       "    <tr>\n",
       "      <th>1</th>\n",
       "      <td>1961</td>\n",
       "    </tr>\n",
       "    <tr>\n",
       "      <th>2</th>\n",
       "      <td>1962</td>\n",
       "    </tr>\n",
       "    <tr>\n",
       "      <th>3</th>\n",
       "      <td>1963</td>\n",
       "    </tr>\n",
       "    <tr>\n",
       "      <th>4</th>\n",
       "      <td>1964</td>\n",
       "    </tr>\n",
       "  </tbody>\n",
       "</table>\n",
       "</div>"
      ],
      "text/plain": [
       "   year\n",
       "0  1960\n",
       "1  1961\n",
       "2  1962\n",
       "3  1963\n",
       "4  1964"
      ]
     },
     "execution_count": 14,
     "metadata": {},
     "output_type": "execute_result"
    }
   ],
   "source": [
    "query = \"\"\"\n",
    "SELECT DISTINCT year\n",
    "FROM indicators\n",
    "\"\"\"\n",
    "# YOUR CODE HERE\n",
    "# raise NotImplementedError()\n",
    "\n",
    "resultset1 = %sql $query\n",
    "resultdf1 = resultset1.DataFrame()\n",
    "resultdf1.head()"
   ]
  },
  {
   "cell_type": "code",
   "execution_count": 15,
   "metadata": {
    "deletable": false,
    "editable": false,
    "nbgrader": {
     "cell_type": "code",
     "checksum": "a7b33be2a9489eceb640fe8460d18c1f",
     "grade": true,
     "grade_id": "cell-75b551f8ba091620",
     "locked": true,
     "points": 1,
     "schema_version": 3,
     "solution": false,
     "task": false
    }
   },
   "outputs": [],
   "source": [
    "# Testing cell\n",
    "assert len(resultdf1) == 59"
   ]
  },
  {
   "cell_type": "markdown",
   "metadata": {
    "deletable": false,
    "editable": false,
    "nbgrader": {
     "cell_type": "markdown",
     "checksum": "f89008f983e63a1061307fecc2ead44b",
     "grade": false,
     "grade_id": "cell-eccff0b8eaa18444",
     "locked": true,
     "schema_version": 3,
     "solution": false,
     "task": false
    }
   },
   "source": [
    "**Q2:** Using the table `indicators`, write a query to find all rows (you can select all fields for these rows) with no missing data for `gdp`."
   ]
  },
  {
   "cell_type": "code",
   "execution_count": 16,
   "metadata": {
    "deletable": false,
    "nbgrader": {
     "cell_type": "code",
     "checksum": "57d21e9dae9dc410cf0faf51dc4e5a18",
     "grade": false,
     "grade_id": "cell-8d26bc71587f0ad2",
     "locked": false,
     "schema_version": 3,
     "solution": true,
     "task": false
    }
   },
   "outputs": [
    {
     "name": "stdout",
     "output_type": "stream",
     "text": [
      " * sqlite:///../../dbfiles/book.db\n",
      "Done.\n"
     ]
    },
    {
     "data": {
      "text/html": [
       "<div>\n",
       "<style scoped>\n",
       "    .dataframe tbody tr th:only-of-type {\n",
       "        vertical-align: middle;\n",
       "    }\n",
       "\n",
       "    .dataframe tbody tr th {\n",
       "        vertical-align: top;\n",
       "    }\n",
       "\n",
       "    .dataframe thead th {\n",
       "        text-align: right;\n",
       "    }\n",
       "</style>\n",
       "<table border=\"1\" class=\"dataframe\">\n",
       "  <thead>\n",
       "    <tr style=\"text-align: right;\">\n",
       "      <th></th>\n",
       "      <th>year</th>\n",
       "      <th>code</th>\n",
       "      <th>pop</th>\n",
       "      <th>gdp</th>\n",
       "      <th>life</th>\n",
       "      <th>cell</th>\n",
       "      <th>imports</th>\n",
       "      <th>exports</th>\n",
       "    </tr>\n",
       "  </thead>\n",
       "  <tbody>\n",
       "    <tr>\n",
       "      <th>0</th>\n",
       "      <td>1960</td>\n",
       "      <td>AFG</td>\n",
       "      <td>9.00</td>\n",
       "      <td>0.54</td>\n",
       "      <td>32.3</td>\n",
       "      <td>0.0</td>\n",
       "      <td>NaN</td>\n",
       "      <td>49.9</td>\n",
       "    </tr>\n",
       "    <tr>\n",
       "      <th>1</th>\n",
       "      <td>1960</td>\n",
       "      <td>AUS</td>\n",
       "      <td>10.28</td>\n",
       "      <td>18.58</td>\n",
       "      <td>70.8</td>\n",
       "      <td>0.0</td>\n",
       "      <td>2524.06</td>\n",
       "      <td>2022.9</td>\n",
       "    </tr>\n",
       "    <tr>\n",
       "      <th>2</th>\n",
       "      <td>1960</td>\n",
       "      <td>AUT</td>\n",
       "      <td>7.05</td>\n",
       "      <td>6.59</td>\n",
       "      <td>68.6</td>\n",
       "      <td>0.0</td>\n",
       "      <td>1408.80</td>\n",
       "      <td>1118.9</td>\n",
       "    </tr>\n",
       "    <tr>\n",
       "      <th>3</th>\n",
       "      <td>1960</td>\n",
       "      <td>BDI</td>\n",
       "      <td>2.80</td>\n",
       "      <td>0.20</td>\n",
       "      <td>41.3</td>\n",
       "      <td>0.0</td>\n",
       "      <td>NaN</td>\n",
       "      <td>NaN</td>\n",
       "    </tr>\n",
       "    <tr>\n",
       "      <th>4</th>\n",
       "      <td>1960</td>\n",
       "      <td>BEL</td>\n",
       "      <td>9.15</td>\n",
       "      <td>11.66</td>\n",
       "      <td>69.7</td>\n",
       "      <td>0.0</td>\n",
       "      <td>NaN</td>\n",
       "      <td>NaN</td>\n",
       "    </tr>\n",
       "  </tbody>\n",
       "</table>\n",
       "</div>"
      ],
      "text/plain": [
       "   year code    pop    gdp  life  cell  imports  exports\n",
       "0  1960  AFG   9.00   0.54  32.3   0.0      NaN     49.9\n",
       "1  1960  AUS  10.28  18.58  70.8   0.0  2524.06   2022.9\n",
       "2  1960  AUT   7.05   6.59  68.6   0.0  1408.80   1118.9\n",
       "3  1960  BDI   2.80   0.20  41.3   0.0      NaN      NaN\n",
       "4  1960  BEL   9.15  11.66  69.7   0.0      NaN      NaN"
      ]
     },
     "execution_count": 16,
     "metadata": {},
     "output_type": "execute_result"
    }
   ],
   "source": [
    "query = \"\"\"\n",
    "SELECT * FROM indicators\n",
    "WHERE gdp IS NOT NULL\n",
    "\"\"\"\n",
    "# YOUR CODE HERE\n",
    "# raise NotImplementedError()\n",
    "\n",
    "resultset2 = %sql $query\n",
    "resultdf2 = resultset2.DataFrame()\n",
    "resultdf2.head()"
   ]
  },
  {
   "cell_type": "code",
   "execution_count": 17,
   "metadata": {
    "deletable": false,
    "editable": false,
    "nbgrader": {
     "cell_type": "code",
     "checksum": "80f218d57fd221b2c0d6fa6d19ac5054",
     "grade": true,
     "grade_id": "cell-319bea24e24ab653",
     "locked": true,
     "points": 1,
     "schema_version": 3,
     "solution": false,
     "task": false
    }
   },
   "outputs": [],
   "source": [
    "# Testing cell\n",
    "assert len(resultdf2) == 9660"
   ]
  },
  {
   "cell_type": "markdown",
   "metadata": {
    "deletable": false,
    "editable": false,
    "nbgrader": {
     "cell_type": "markdown",
     "checksum": "537f62bfb67e5151b5f25d2e6b42f8af",
     "grade": false,
     "grade_id": "cell-56366d5929ce7c6f",
     "locked": true,
     "schema_version": 3,
     "solution": false,
     "task": false
    }
   },
   "source": [
    "**Q3:** Using the table `indicators`, write a query to find all rows with no missing data for any of the numeric fields."
   ]
  },
  {
   "cell_type": "code",
   "execution_count": 18,
   "metadata": {
    "deletable": false,
    "nbgrader": {
     "cell_type": "code",
     "checksum": "319ae0f58417bbd0c69e0618253cb191",
     "grade": false,
     "grade_id": "cell-4d28f2b86a379c2a",
     "locked": false,
     "schema_version": 3,
     "solution": true,
     "task": false
    }
   },
   "outputs": [
    {
     "name": "stdout",
     "output_type": "stream",
     "text": [
      " * sqlite:///../../dbfiles/book.db\n",
      "Done.\n"
     ]
    },
    {
     "data": {
      "text/html": [
       "<div>\n",
       "<style scoped>\n",
       "    .dataframe tbody tr th:only-of-type {\n",
       "        vertical-align: middle;\n",
       "    }\n",
       "\n",
       "    .dataframe tbody tr th {\n",
       "        vertical-align: top;\n",
       "    }\n",
       "\n",
       "    .dataframe thead th {\n",
       "        text-align: right;\n",
       "    }\n",
       "</style>\n",
       "<table border=\"1\" class=\"dataframe\">\n",
       "  <thead>\n",
       "    <tr style=\"text-align: right;\">\n",
       "      <th></th>\n",
       "      <th>year</th>\n",
       "      <th>code</th>\n",
       "      <th>pop</th>\n",
       "      <th>gdp</th>\n",
       "      <th>life</th>\n",
       "      <th>cell</th>\n",
       "      <th>imports</th>\n",
       "      <th>exports</th>\n",
       "    </tr>\n",
       "  </thead>\n",
       "  <tbody>\n",
       "    <tr>\n",
       "      <th>0</th>\n",
       "      <td>1960</td>\n",
       "      <td>AUS</td>\n",
       "      <td>10.28</td>\n",
       "      <td>18.58</td>\n",
       "      <td>70.8</td>\n",
       "      <td>0.0</td>\n",
       "      <td>2524.06</td>\n",
       "      <td>2022.9</td>\n",
       "    </tr>\n",
       "    <tr>\n",
       "      <th>1</th>\n",
       "      <td>1960</td>\n",
       "      <td>AUT</td>\n",
       "      <td>7.05</td>\n",
       "      <td>6.59</td>\n",
       "      <td>68.6</td>\n",
       "      <td>0.0</td>\n",
       "      <td>1408.80</td>\n",
       "      <td>1118.9</td>\n",
       "    </tr>\n",
       "    <tr>\n",
       "      <th>2</th>\n",
       "      <td>1960</td>\n",
       "      <td>BEN</td>\n",
       "      <td>2.43</td>\n",
       "      <td>0.23</td>\n",
       "      <td>37.3</td>\n",
       "      <td>0.0</td>\n",
       "      <td>1.90</td>\n",
       "      <td>0.5</td>\n",
       "    </tr>\n",
       "    <tr>\n",
       "      <th>3</th>\n",
       "      <td>1960</td>\n",
       "      <td>BOL</td>\n",
       "      <td>3.66</td>\n",
       "      <td>0.37</td>\n",
       "      <td>42.1</td>\n",
       "      <td>0.0</td>\n",
       "      <td>71.10</td>\n",
       "      <td>67.9</td>\n",
       "    </tr>\n",
       "    <tr>\n",
       "      <th>4</th>\n",
       "      <td>1960</td>\n",
       "      <td>BRA</td>\n",
       "      <td>72.18</td>\n",
       "      <td>15.17</td>\n",
       "      <td>54.2</td>\n",
       "      <td>0.0</td>\n",
       "      <td>1586.75</td>\n",
       "      <td>1269.9</td>\n",
       "    </tr>\n",
       "  </tbody>\n",
       "</table>\n",
       "</div>"
      ],
      "text/plain": [
       "   year code    pop    gdp  life  cell  imports  exports\n",
       "0  1960  AUS  10.28  18.58  70.8   0.0  2524.06   2022.9\n",
       "1  1960  AUT   7.05   6.59  68.6   0.0  1408.80   1118.9\n",
       "2  1960  BEN   2.43   0.23  37.3   0.0     1.90      0.5\n",
       "3  1960  BOL   3.66   0.37  42.1   0.0    71.10     67.9\n",
       "4  1960  BRA  72.18  15.17  54.2   0.0  1586.75   1269.9"
      ]
     },
     "execution_count": 18,
     "metadata": {},
     "output_type": "execute_result"
    }
   ],
   "source": [
    "query = \"\"\"\n",
    "SELECT * FROM indicators\n",
    "WHERE gdp IS NOT NULL AND year IS NOT NULL AND pop IS NOT NULL AND life IS NOT NULL AND cell IS NOT NULL AND imports IS NOT NULL AND exports IS NOT NULL \n",
    "\"\"\"\n",
    "# YOUR CODE HERE\n",
    "# raise NotImplementedError()\n",
    "\n",
    "resultset3 = %sql $query\n",
    "resultdf3 = resultset3.DataFrame()\n",
    "resultdf3.head()"
   ]
  },
  {
   "cell_type": "code",
   "execution_count": 19,
   "metadata": {
    "deletable": false,
    "editable": false,
    "nbgrader": {
     "cell_type": "code",
     "checksum": "ca9de682d64d7d7262450f18d5ebc81e",
     "grade": true,
     "grade_id": "cell-35b9f207c1ff90ce",
     "locked": true,
     "points": 2,
     "schema_version": 3,
     "solution": false,
     "task": false
    }
   },
   "outputs": [],
   "source": [
    "# Testing cell\n",
    "assert len(resultdf3) == 6958"
   ]
  },
  {
   "cell_type": "markdown",
   "metadata": {},
   "source": [
    "**Q4:** Using the table `indicators`, write a query to find all rows where exports is higher than imports. Select all fields for such rows."
   ]
  },
  {
   "cell_type": "code",
   "execution_count": 20,
   "metadata": {
    "deletable": false,
    "nbgrader": {
     "cell_type": "code",
     "checksum": "6b9e0590bb1361916a9ed5b9ee4641cc",
     "grade": false,
     "grade_id": "cell-581f30f531cc251e",
     "locked": false,
     "schema_version": 3,
     "solution": true,
     "task": false
    }
   },
   "outputs": [
    {
     "name": "stdout",
     "output_type": "stream",
     "text": [
      " * sqlite:///../../dbfiles/book.db\n",
      "Done.\n"
     ]
    },
    {
     "data": {
      "text/html": [
       "<div>\n",
       "<style scoped>\n",
       "    .dataframe tbody tr th:only-of-type {\n",
       "        vertical-align: middle;\n",
       "    }\n",
       "\n",
       "    .dataframe tbody tr th {\n",
       "        vertical-align: top;\n",
       "    }\n",
       "\n",
       "    .dataframe thead th {\n",
       "        text-align: right;\n",
       "    }\n",
       "</style>\n",
       "<table border=\"1\" class=\"dataframe\">\n",
       "  <thead>\n",
       "    <tr style=\"text-align: right;\">\n",
       "      <th></th>\n",
       "      <th>year</th>\n",
       "      <th>code</th>\n",
       "      <th>pop</th>\n",
       "      <th>gdp</th>\n",
       "      <th>life</th>\n",
       "      <th>cell</th>\n",
       "      <th>imports</th>\n",
       "      <th>exports</th>\n",
       "    </tr>\n",
       "  </thead>\n",
       "  <tbody>\n",
       "    <tr>\n",
       "      <th>0</th>\n",
       "      <td>1960</td>\n",
       "      <td>BRN</td>\n",
       "      <td>0.08</td>\n",
       "      <td>NaN</td>\n",
       "      <td>62.5</td>\n",
       "      <td>0.0</td>\n",
       "      <td>1.30</td>\n",
       "      <td>3.30</td>\n",
       "    </tr>\n",
       "    <tr>\n",
       "      <th>1</th>\n",
       "      <td>1960</td>\n",
       "      <td>CIV</td>\n",
       "      <td>3.50</td>\n",
       "      <td>0.55</td>\n",
       "      <td>36.9</td>\n",
       "      <td>0.0</td>\n",
       "      <td>119.92</td>\n",
       "      <td>151.19</td>\n",
       "    </tr>\n",
       "    <tr>\n",
       "      <th>2</th>\n",
       "      <td>1960</td>\n",
       "      <td>CMR</td>\n",
       "      <td>5.18</td>\n",
       "      <td>0.62</td>\n",
       "      <td>41.5</td>\n",
       "      <td>0.0</td>\n",
       "      <td>84.10</td>\n",
       "      <td>96.90</td>\n",
       "    </tr>\n",
       "    <tr>\n",
       "      <th>3</th>\n",
       "      <td>1960</td>\n",
       "      <td>DEU</td>\n",
       "      <td>72.81</td>\n",
       "      <td>NaN</td>\n",
       "      <td>69.3</td>\n",
       "      <td>0.0</td>\n",
       "      <td>10013.00</td>\n",
       "      <td>11381.00</td>\n",
       "    </tr>\n",
       "    <tr>\n",
       "      <th>4</th>\n",
       "      <td>1960</td>\n",
       "      <td>DOM</td>\n",
       "      <td>3.29</td>\n",
       "      <td>0.67</td>\n",
       "      <td>51.8</td>\n",
       "      <td>0.0</td>\n",
       "      <td>95.92</td>\n",
       "      <td>179.70</td>\n",
       "    </tr>\n",
       "  </tbody>\n",
       "</table>\n",
       "</div>"
      ],
      "text/plain": [
       "   year code    pop   gdp  life  cell   imports   exports\n",
       "0  1960  BRN   0.08   NaN  62.5   0.0      1.30      3.30\n",
       "1  1960  CIV   3.50  0.55  36.9   0.0    119.92    151.19\n",
       "2  1960  CMR   5.18  0.62  41.5   0.0     84.10     96.90\n",
       "3  1960  DEU  72.81   NaN  69.3   0.0  10013.00  11381.00\n",
       "4  1960  DOM   3.29  0.67  51.8   0.0     95.92    179.70"
      ]
     },
     "execution_count": 20,
     "metadata": {},
     "output_type": "execute_result"
    }
   ],
   "source": [
    "query = \"\"\"\n",
    "SELECT * FROM indicators\n",
    "WHERE exports > imports\n",
    "\"\"\"\n",
    "# YOUR CODE HERE\n",
    "# raise NotImplementedError()\n",
    "\n",
    "resultset4 = %sql $query\n",
    "resultdf4 = resultset4.DataFrame()\n",
    "resultdf4.head()"
   ]
  },
  {
   "cell_type": "code",
   "execution_count": 21,
   "metadata": {
    "deletable": false,
    "editable": false,
    "nbgrader": {
     "cell_type": "code",
     "checksum": "c47d36b0178047a90280760b85329321",
     "grade": true,
     "grade_id": "cell-56f0921f58548c69",
     "locked": true,
     "points": 1,
     "schema_version": 3,
     "solution": false,
     "task": false
    }
   },
   "outputs": [],
   "source": [
    "# Testing cell\n",
    "assert len(resultdf4) == 2492\n",
    "assert resultdf4.shape == (2492,8)"
   ]
  },
  {
   "cell_type": "markdown",
   "metadata": {
    "deletable": false,
    "editable": false,
    "nbgrader": {
     "cell_type": "markdown",
     "checksum": "a1616c8f88ed4b8d4b388d3f28edb165",
     "grade": false,
     "grade_id": "cell-4ace07af2a13c843",
     "locked": true,
     "schema_version": 3,
     "solution": false,
     "task": false
    }
   },
   "source": [
    "**Q5:** Using the table `indicators`, write a query to find the minimum non-zero number for `cell` that appears.  Although you could use `MIN` (which we haven't seen yet), you should try to do this using `ORDER BY` instead, so that the first row in your result has that minimum value."
   ]
  },
  {
   "cell_type": "code",
   "execution_count": 22,
   "metadata": {
    "deletable": false,
    "nbgrader": {
     "cell_type": "code",
     "checksum": "772c942f4391e6aa8818d76be5171a65",
     "grade": false,
     "grade_id": "cell-18a2fdc8df7f8ecc",
     "locked": false,
     "schema_version": 3,
     "solution": true,
     "task": false
    }
   },
   "outputs": [
    {
     "name": "stdout",
     "output_type": "stream",
     "text": [
      " * sqlite:///../../dbfiles/book.db\n",
      "Done.\n"
     ]
    },
    {
     "data": {
      "text/plain": [
       "\"\\nCHECKPOINT 1:\\nSELECT count FROM indicators\\nWHERE year = 1961 AND sex = 'Female'\\n\""
      ]
     },
     "execution_count": 22,
     "metadata": {},
     "output_type": "execute_result"
    }
   ],
   "source": [
    "query = \"\"\"\n",
    "SELECT * FROM indicators\n",
    "WHERE cell <> 0\n",
    "ORDER BY cell ASC\n",
    "LIMIT 1\n",
    "\"\"\"\n",
    "# YOUR CODE HERE\n",
    "# raise NotImplementedError()\n",
    "\n",
    "resultset5 = %sql $query\n",
    "resultdf5 = resultset5.DataFrame()\n",
    "resultdf5.head()\n",
    "\n",
    "\"\"\"\n",
    "CHECKPOINT 1:\n",
    "SELECT count FROM indicators\n",
    "WHERE year = 1961 AND sex = 'Female'\n",
    "\"\"\""
   ]
  },
  {
   "cell_type": "code",
   "execution_count": 23,
   "metadata": {
    "deletable": false,
    "editable": false,
    "nbgrader": {
     "cell_type": "code",
     "checksum": "1eeda110a1ba16b626db067f315de791",
     "grade": true,
     "grade_id": "cell-4d3932caa0c8bc0f",
     "locked": true,
     "points": 1,
     "schema_version": 3,
     "solution": false,
     "task": false
    }
   },
   "outputs": [],
   "source": [
    "# Testing cell\n",
    "assert resultdf5.loc[0,'cell'] == 0.01"
   ]
  },
  {
   "cell_type": "markdown",
   "metadata": {},
   "source": [
    "> You've reached the first checkpoint in the lab.  Make sure to have it signed off by the instructor.\n",
    ">\n",
    "> Checkpoint 1: Convert the following `pandas` selection into a SQL query:\n",
    ">     `topnames.loc[(1961, 'Female'), 'count']`"
   ]
  },
  {
   "cell_type": "markdown",
   "metadata": {},
   "source": [
    "---\n",
    "\n",
    "# Part D: Subqueries\n",
    "\n",
    "We can use the result of a query as a building block in another query.  For example, we may want to know which countries have _ever_ had a GDP greater than `3000`:"
   ]
  },
  {
   "cell_type": "code",
   "execution_count": 24,
   "metadata": {},
   "outputs": [
    {
     "name": "stdout",
     "output_type": "stream",
     "text": [
      " * sqlite:///../../dbfiles/book.db\n",
      "Done.\n"
     ]
    },
    {
     "data": {
      "text/html": [
       "<table>\n",
       "    <tr>\n",
       "        <th>code</th>\n",
       "    </tr>\n",
       "    <tr>\n",
       "        <td>USA</td>\n",
       "    </tr>\n",
       "    <tr>\n",
       "        <td>JPN</td>\n",
       "    </tr>\n",
       "    <tr>\n",
       "        <td>DEU</td>\n",
       "    </tr>\n",
       "    <tr>\n",
       "        <td>CHN</td>\n",
       "    </tr>\n",
       "    <tr>\n",
       "        <td>GBR</td>\n",
       "    </tr>\n",
       "</table>"
      ],
      "text/plain": [
       "[('USA',), ('JPN',), ('DEU',), ('CHN',), ('GBR',)]"
      ]
     },
     "execution_count": 24,
     "metadata": {},
     "output_type": "execute_result"
    }
   ],
   "source": [
    "query = \"\"\"\n",
    "SELECT DISTINCT code\n",
    "FROM indicators\n",
    "WHERE gdp > 3000\n",
    "\"\"\"\n",
    "\n",
    "%sql $query"
   ]
  },
  {
   "cell_type": "markdown",
   "metadata": {},
   "source": [
    "Then, four just these five countries, we can look up their `2017` population and life expectancy values:"
   ]
  },
  {
   "cell_type": "code",
   "execution_count": 25,
   "metadata": {},
   "outputs": [
    {
     "name": "stdout",
     "output_type": "stream",
     "text": [
      " * sqlite:///../../dbfiles/book.db\n",
      "Done.\n"
     ]
    },
    {
     "data": {
      "text/html": [
       "<table>\n",
       "    <tr>\n",
       "        <th>code</th>\n",
       "        <th>pop</th>\n",
       "        <th>life</th>\n",
       "    </tr>\n",
       "    <tr>\n",
       "        <td>CHN</td>\n",
       "        <td>1386.4</td>\n",
       "        <td>76.4</td>\n",
       "    </tr>\n",
       "    <tr>\n",
       "        <td>DEU</td>\n",
       "        <td>82.66</td>\n",
       "        <td>81.0</td>\n",
       "    </tr>\n",
       "    <tr>\n",
       "        <td>GBR</td>\n",
       "        <td>66.06</td>\n",
       "        <td>81.2</td>\n",
       "    </tr>\n",
       "    <tr>\n",
       "        <td>JPN</td>\n",
       "        <td>126.79</td>\n",
       "        <td>84.1</td>\n",
       "    </tr>\n",
       "    <tr>\n",
       "        <td>USA</td>\n",
       "        <td>325.15</td>\n",
       "        <td>78.5</td>\n",
       "    </tr>\n",
       "</table>"
      ],
      "text/plain": [
       "[('CHN', 1386.4, 76.4),\n",
       " ('DEU', 82.66, 81.0),\n",
       " ('GBR', 66.06, 81.2),\n",
       " ('JPN', 126.79, 84.1),\n",
       " ('USA', 325.15, 78.5)]"
      ]
     },
     "execution_count": 25,
     "metadata": {},
     "output_type": "execute_result"
    }
   ],
   "source": [
    "query = \"\"\"\n",
    "SELECT code, pop, life\n",
    "FROM indicators\n",
    "WHERE year = 2017 AND code IN ('USA', 'JPN', 'DEU', 'CHN', 'GBR')\n",
    "\"\"\"\n",
    "\n",
    "%sql $query"
   ]
  },
  {
   "cell_type": "markdown",
   "metadata": {},
   "source": [
    "However, we don't always want to hard-code these country codes.  We can instead use the results of the first query as the `set-members` for the second query:"
   ]
  },
  {
   "cell_type": "code",
   "execution_count": 26,
   "metadata": {},
   "outputs": [
    {
     "name": "stdout",
     "output_type": "stream",
     "text": [
      " * sqlite:///../../dbfiles/book.db\n",
      "Done.\n"
     ]
    },
    {
     "data": {
      "text/html": [
       "<table>\n",
       "    <tr>\n",
       "        <th>code</th>\n",
       "        <th>pop</th>\n",
       "        <th>life</th>\n",
       "    </tr>\n",
       "    <tr>\n",
       "        <td>CHN</td>\n",
       "        <td>1386.4</td>\n",
       "        <td>76.4</td>\n",
       "    </tr>\n",
       "    <tr>\n",
       "        <td>DEU</td>\n",
       "        <td>82.66</td>\n",
       "        <td>81.0</td>\n",
       "    </tr>\n",
       "    <tr>\n",
       "        <td>GBR</td>\n",
       "        <td>66.06</td>\n",
       "        <td>81.2</td>\n",
       "    </tr>\n",
       "    <tr>\n",
       "        <td>JPN</td>\n",
       "        <td>126.79</td>\n",
       "        <td>84.1</td>\n",
       "    </tr>\n",
       "    <tr>\n",
       "        <td>USA</td>\n",
       "        <td>325.15</td>\n",
       "        <td>78.5</td>\n",
       "    </tr>\n",
       "</table>"
      ],
      "text/plain": [
       "[('CHN', 1386.4, 76.4),\n",
       " ('DEU', 82.66, 81.0),\n",
       " ('GBR', 66.06, 81.2),\n",
       " ('JPN', 126.79, 84.1),\n",
       " ('USA', 325.15, 78.5)]"
      ]
     },
     "execution_count": 26,
     "metadata": {},
     "output_type": "execute_result"
    }
   ],
   "source": [
    "query = \"\"\"\n",
    "SELECT code, pop, life\n",
    "FROM indicators\n",
    "WHERE year = 2017 AND code IN (SELECT DISTINCT code FROM indicators WHERE gdp > 3000)\n",
    "\"\"\"\n",
    "\n",
    "%sql $query"
   ]
  },
  {
   "cell_type": "markdown",
   "metadata": {},
   "source": [
    "As another example, we can query the most popular male baby name from 2016:"
   ]
  },
  {
   "cell_type": "code",
   "execution_count": 27,
   "metadata": {},
   "outputs": [
    {
     "name": "stdout",
     "output_type": "stream",
     "text": [
      " * sqlite:///../../dbfiles/book.db\n",
      "Done.\n"
     ]
    },
    {
     "data": {
      "text/html": [
       "<table>\n",
       "    <tr>\n",
       "        <th>name</th>\n",
       "    </tr>\n",
       "    <tr>\n",
       "        <td>Noah</td>\n",
       "    </tr>\n",
       "</table>"
      ],
      "text/plain": [
       "[('Noah',)]"
      ]
     },
     "execution_count": 27,
     "metadata": {},
     "output_type": "execute_result"
    }
   ],
   "source": [
    "query = \"\"\"\n",
    "SELECT name\n",
    "FROM topnames\n",
    "WHERE year = 2016 AND sex = 'Male'\n",
    "\"\"\"\n",
    "\n",
    "%sql $query"
   ]
  },
  {
   "cell_type": "markdown",
   "metadata": {},
   "source": [
    "Then, we can use this result to find all years for which `Noah` was the most popular male baby name, and the associated counts:"
   ]
  },
  {
   "cell_type": "code",
   "execution_count": 28,
   "metadata": {},
   "outputs": [
    {
     "name": "stdout",
     "output_type": "stream",
     "text": [
      " * sqlite:///../../dbfiles/book.db\n",
      "Done.\n"
     ]
    },
    {
     "data": {
      "text/html": [
       "<table>\n",
       "    <tr>\n",
       "        <th>year</th>\n",
       "        <th>count</th>\n",
       "    </tr>\n",
       "    <tr>\n",
       "        <td>2013</td>\n",
       "        <td>18257</td>\n",
       "    </tr>\n",
       "    <tr>\n",
       "        <td>2014</td>\n",
       "        <td>19305</td>\n",
       "    </tr>\n",
       "    <tr>\n",
       "        <td>2015</td>\n",
       "        <td>19635</td>\n",
       "    </tr>\n",
       "    <tr>\n",
       "        <td>2016</td>\n",
       "        <td>19117</td>\n",
       "    </tr>\n",
       "</table>"
      ],
      "text/plain": [
       "[(2013, 18257), (2014, 19305), (2015, 19635), (2016, 19117)]"
      ]
     },
     "execution_count": 28,
     "metadata": {},
     "output_type": "execute_result"
    }
   ],
   "source": [
    "query = \"\"\"\n",
    "SELECT year, count\n",
    "FROM topnames\n",
    "WHERE name = (SELECT name FROM topnames WHERE year = 2016 AND sex = 'Male')\n",
    "\"\"\"\n",
    "\n",
    "%sql $query"
   ]
  },
  {
   "cell_type": "markdown",
   "metadata": {},
   "source": [
    "Similarly, we can use a subquery as our table, rather than as part of a `WHERE` clause:"
   ]
  },
  {
   "cell_type": "code",
   "execution_count": 29,
   "metadata": {},
   "outputs": [
    {
     "name": "stdout",
     "output_type": "stream",
     "text": [
      " * sqlite:///../../dbfiles/book.db\n",
      "Done.\n"
     ]
    },
    {
     "data": {
      "text/html": [
       "<table>\n",
       "    <tr>\n",
       "        <th>code</th>\n",
       "        <th>country</th>\n",
       "        <th>region</th>\n",
       "        <th>income</th>\n",
       "        <th>land</th>\n",
       "    </tr>\n",
       "    <tr>\n",
       "        <td>BMU</td>\n",
       "        <td>Bermuda</td>\n",
       "        <td>North America</td>\n",
       "        <td>High income</td>\n",
       "        <td>54.0</td>\n",
       "    </tr>\n",
       "    <tr>\n",
       "        <td>GIB</td>\n",
       "        <td>Gibraltar</td>\n",
       "        <td>Europe &amp; Central Asia</td>\n",
       "        <td>High income</td>\n",
       "        <td>10.0</td>\n",
       "    </tr>\n",
       "    <tr>\n",
       "        <td>MAC</td>\n",
       "        <td>Macao SAR, China</td>\n",
       "        <td>East Asia &amp; Pacific</td>\n",
       "        <td>High income</td>\n",
       "        <td>30.4</td>\n",
       "    </tr>\n",
       "    <tr>\n",
       "        <td>NRU</td>\n",
       "        <td>Nauru</td>\n",
       "        <td>East Asia &amp; Pacific</td>\n",
       "        <td>Upper middle income</td>\n",
       "        <td>20.0</td>\n",
       "    </tr>\n",
       "    <tr>\n",
       "        <td>SMR</td>\n",
       "        <td>San Marino</td>\n",
       "        <td>Europe &amp; Central Asia</td>\n",
       "        <td>High income</td>\n",
       "        <td>60.0</td>\n",
       "    </tr>\n",
       "    <tr>\n",
       "        <td>TUV</td>\n",
       "        <td>Tuvalu</td>\n",
       "        <td>East Asia &amp; Pacific</td>\n",
       "        <td>Upper middle income</td>\n",
       "        <td>30.0</td>\n",
       "    </tr>\n",
       "</table>"
      ],
      "text/plain": [
       "[('BMU', 'Bermuda', 'North America', 'High income', 54.0),\n",
       " ('GIB', 'Gibraltar', 'Europe & Central Asia', 'High income', 10.0),\n",
       " ('MAC', 'Macao SAR, China', 'East Asia & Pacific', 'High income', 30.4),\n",
       " ('NRU', 'Nauru', 'East Asia & Pacific', 'Upper middle income', 20.0),\n",
       " ('SMR', 'San Marino', 'Europe & Central Asia', 'High income', 60.0),\n",
       " ('TUV', 'Tuvalu', 'East Asia & Pacific', 'Upper middle income', 30.0)]"
      ]
     },
     "execution_count": 29,
     "metadata": {},
     "output_type": "execute_result"
    }
   ],
   "source": [
    "query = \"\"\"\n",
    "SELECT *\n",
    "FROM countries\n",
    "WHERE land < 100\n",
    "\"\"\"\n",
    "\n",
    "%sql $query"
   ]
  },
  {
   "cell_type": "code",
   "execution_count": 30,
   "metadata": {},
   "outputs": [
    {
     "name": "stdout",
     "output_type": "stream",
     "text": [
      " * sqlite:///../../dbfiles/book.db\n",
      "Done.\n"
     ]
    },
    {
     "data": {
      "text/html": [
       "<table>\n",
       "    <tr>\n",
       "        <th>Name</th>\n",
       "        <th>Land</th>\n",
       "    </tr>\n",
       "    <tr>\n",
       "        <td>Bermuda</td>\n",
       "        <td>54.0</td>\n",
       "    </tr>\n",
       "    <tr>\n",
       "        <td>Gibraltar</td>\n",
       "        <td>10.0</td>\n",
       "    </tr>\n",
       "    <tr>\n",
       "        <td>Macao SAR, China</td>\n",
       "        <td>30.4</td>\n",
       "    </tr>\n",
       "    <tr>\n",
       "        <td>San Marino</td>\n",
       "        <td>60.0</td>\n",
       "    </tr>\n",
       "</table>"
      ],
      "text/plain": [
       "[('Bermuda', 54.0),\n",
       " ('Gibraltar', 10.0),\n",
       " ('Macao SAR, China', 30.4),\n",
       " ('San Marino', 60.0)]"
      ]
     },
     "execution_count": 30,
     "metadata": {},
     "output_type": "execute_result"
    }
   ],
   "source": [
    "query = \"\"\"\n",
    "SELECT country AS Name, land AS Land\n",
    "FROM (SELECT * FROM countries WHERE land < 100)\n",
    "WHERE income = 'High income'\n",
    "\"\"\"\n",
    "\n",
    "%sql $query"
   ]
  },
  {
   "cell_type": "markdown",
   "metadata": {
    "deletable": false,
    "editable": false,
    "nbgrader": {
     "cell_type": "markdown",
     "checksum": "359ee23e3497c68bf6fcd5adca817462",
     "grade": false,
     "grade_id": "cell-cf78a8757481fff0",
     "locked": true,
     "schema_version": 3,
     "solution": false,
     "task": false
    }
   },
   "source": [
    "**Q6:** Use a subquery to select the top ten entries in `indicators` with the highest population, then select all fields for the three from that group of ten that have the lowest GDP.\n",
    "\n",
    "_Hint: You may find it helpful to first write the query just for the top ten entries in `indicators` with the highest population._"
   ]
  },
  {
   "cell_type": "code",
   "execution_count": 31,
   "metadata": {
    "deletable": false,
    "nbgrader": {
     "cell_type": "code",
     "checksum": "3ea1847eed0e222454f257a240115ba0",
     "grade": false,
     "grade_id": "cell-2befdf0a89212338",
     "locked": false,
     "schema_version": 3,
     "solution": true,
     "task": false
    }
   },
   "outputs": [
    {
     "name": "stdout",
     "output_type": "stream",
     "text": [
      " * sqlite:///../../dbfiles/book.db\n",
      "Done.\n"
     ]
    },
    {
     "data": {
      "text/plain": [
       "'\\nCHECKPOINT 2:\\ngdp>3000 alone will produce more rows because we dont have another constraint of year = 2017. The query\\nwants to get all rows of many years\\n'"
      ]
     },
     "execution_count": 31,
     "metadata": {},
     "output_type": "execute_result"
    }
   ],
   "source": [
    "query = \"\"\"\n",
    "SELECT * FROM (SELECT * FROM indicators\n",
    "ORDER BY pop DESC\n",
    "LIMIT 10)\n",
    "ORDER BY gdp ASC\n",
    "LIMIT 3\n",
    "\"\"\"\n",
    "# YOUR CODE HERE\n",
    "# raise NotImplementedError()\n",
    "\n",
    "resultset6 = %sql $query\n",
    "resultdf6 = resultset6.DataFrame()\n",
    "resultdf6.head()\n",
    "\n",
    "\"\"\"\n",
    "CHECKPOINT 2:\n",
    "gdp>3000 alone will produce more rows because we dont have another constraint of year = 2017. The query\n",
    "wants to get all rows of many years\n",
    "\"\"\""
   ]
  },
  {
   "cell_type": "code",
   "execution_count": 32,
   "metadata": {
    "deletable": false,
    "editable": false,
    "nbgrader": {
     "cell_type": "code",
     "checksum": "f0466743924a1ed26f01bda9a69e6853",
     "grade": true,
     "grade_id": "cell-3383e5e0f4737e49",
     "locked": true,
     "points": 2,
     "schema_version": 3,
     "solution": false,
     "task": false
    }
   },
   "outputs": [],
   "source": [
    "# Testing cell\n",
    "assert len(resultdf6) == 3\n",
    "assert resultdf6.loc[0,'gdp'] == 2652.55\n",
    "assert resultdf6.loc[1,'pop'] == 1352.62"
   ]
  },
  {
   "cell_type": "markdown",
   "metadata": {},
   "source": [
    "> You've reached the second (and final) checkpoint in the lab.  Make sure to have it signed off by the instructor.\n",
    ">\n",
    "> Checkpoint 2: Consider the following query from above:\n",
    "> ```\n",
    ">     SELECT code, pop, life\n",
    ">     FROM indicators\n",
    ">     WHERE year = 2017 AND code IN\n",
    ">         (SELECT DISTINCT code FROM indicators WHERE gdp > 3000)\n",
    "> ```\n",
    "> How is this different from just looking for `gdp > 3000` within the `WHERE` clause?"
   ]
  },
  {
   "cell_type": "markdown",
   "metadata": {},
   "source": [
    "---\n",
    "\n",
    "---\n",
    "## Part E\n",
    "\n",
    "How much time (in minutes/hours) did you spend on this lab outside of class?"
   ]
  },
  {
   "cell_type": "markdown",
   "metadata": {},
   "source": [
    "For about 15 minutes"
   ]
  }
 ],
 "metadata": {
  "kernelspec": {
   "display_name": "Python 3 (ipykernel)",
   "language": "python",
   "name": "python3"
  },
  "language_info": {
   "codemirror_mode": {
    "name": "ipython",
    "version": 3
   },
   "file_extension": ".py",
   "mimetype": "text/x-python",
   "name": "python",
   "nbconvert_exporter": "python",
   "pygments_lexer": "ipython3",
   "version": "3.9.12"
  }
 },
 "nbformat": 4,
 "nbformat_minor": 4
}
