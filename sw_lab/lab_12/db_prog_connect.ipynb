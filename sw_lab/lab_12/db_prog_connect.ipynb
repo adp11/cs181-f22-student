{
 "cells": [
  {
   "cell_type": "markdown",
   "metadata": {},
   "source": [
    "# Denison CS181/DA210 SW Lab #12 - Step 1\n",
    "\n",
    "Before you turn this problem in, make sure everything runs as expected. This is a combination of **restarting the kernel** and then **running all cells** (in the menubar, select Kernel$\\rightarrow$Restart And Run All).\n",
    "\n",
    "Make sure you fill in any place that says `# YOUR CODE HERE` or \"YOUR ANSWER HERE\"."
   ]
  },
  {
   "cell_type": "markdown",
   "metadata": {},
   "source": [
    "---"
   ]
  },
  {
   "cell_type": "markdown",
   "metadata": {},
   "source": [
    "#### Import Python modules and load \"SQL Magic\""
   ]
  },
  {
   "cell_type": "code",
   "execution_count": 1,
   "metadata": {
    "deletable": false,
    "editable": false,
    "nbgrader": {
     "cell_type": "code",
     "checksum": "2c15bf49fe13507b473a89ebc6ffdea5",
     "grade": false,
     "grade_id": "cell-b9abcf27cf7faf8f",
     "locked": true,
     "schema_version": 3,
     "solution": false,
     "task": false
    }
   },
   "outputs": [],
   "source": [
    "import pandas as pd\n",
    "import os\n",
    "import os.path\n",
    "import json\n",
    "import sqlalchemy as sa"
   ]
  },
  {
   "cell_type": "markdown",
   "metadata": {},
   "source": [
    "#### Set credentials"
   ]
  },
  {
   "cell_type": "code",
   "execution_count": 2,
   "metadata": {},
   "outputs": [],
   "source": [
    "def getsqlite_creds(dirname=\".\",filename=\"creds.json\",source=\"sqlite\"):\n",
    "    \"\"\" Using directory and filename parameters, open a credentials file\n",
    "        and obtain the two parts needed for a connection string to\n",
    "        a local provider using the \"sqlite\" dictionary within\n",
    "        an outer dictionary.  \n",
    "        \n",
    "        Return a scheme and a dbfile\n",
    "    \"\"\"\n",
    "    assert os.path.isfile(os.path.join(dirname, filename))\n",
    "    with open(os.path.join(dirname, filename)) as f:\n",
    "        D = json.load(f)\n",
    "    sqlite = D[source]\n",
    "    return sqlite[\"scheme\"], sqlite[\"dbdir\"], sqlite[\"database\"]"
   ]
  },
  {
   "cell_type": "code",
   "execution_count": 3,
   "metadata": {},
   "outputs": [
    {
     "name": "stdout",
     "output_type": "stream",
     "text": [
      "Connection string: sqlite:///../../dbfiles/book.db\n"
     ]
    }
   ],
   "source": [
    "def buildConnectionString(source=\"sqlite_book\"):\n",
    "    scheme, dbdir, database = getsqlite_creds(source=source)\n",
    "    template = '{}:///{}/{}.db'\n",
    "    return template.format(scheme, dbdir, database)\n",
    "\n",
    "cstring = buildConnectionString(\"sqlite_book\")\n",
    "print(\"Connection string:\", cstring)"
   ]
  },
  {
   "cell_type": "markdown",
   "metadata": {},
   "source": [
    "---\n",
    "\n",
    "## Part A: Connecting to a SQL DB using `sqlalchemy`\n",
    "\n",
    "For this lab, we'll use another powerful library, `sqlalchemy`, which enables us to programmatically access (query and modify) databases using several protocol schemes and database system choices.  (We'll still use local SQLite databases, though.)\n",
    "\n",
    "First, we need to open a _connection_.  Note that we'll also need to close this connection, or your computer will leave resources actively connected to the database!"
   ]
  },
  {
   "cell_type": "code",
   "execution_count": 4,
   "metadata": {},
   "outputs": [],
   "source": [
    "# Connect to the database\n",
    "engine = sa.create_engine(cstring)\n",
    "connection = engine.connect()"
   ]
  },
  {
   "cell_type": "markdown",
   "metadata": {},
   "source": [
    "Now that we have a connection, we can execute queries.  This is similar to what we've done so far with \"SQL Magic\"."
   ]
  },
  {
   "cell_type": "code",
   "execution_count": 5,
   "metadata": {},
   "outputs": [
    {
     "data": {
      "text/plain": [
       "[('CHN', 1386.4, 12143.5, 76.4, 1469.88),\n",
       " ('FRA', 66.87, 2586.29, 82.5, 69.02),\n",
       " ('GBR', 66.06, 2637.87, 81.2, 79.1),\n",
       " ('IND', 1338.66, 2652.55, 68.8, 1168.9),\n",
       " ('USA', 325.15, 19485.4, 78.5, 391.6)]"
      ]
     },
     "execution_count": 5,
     "metadata": {},
     "output_type": "execute_result"
    }
   ],
   "source": [
    "# Build the query\n",
    "query = \"\"\"\n",
    "SELECT * FROM indicators0\n",
    "\"\"\"\n",
    "\n",
    "# Execute the query\n",
    "result_proxy = connection.execute(query)\n",
    "\n",
    "# Get the results from the \"proxy\"\n",
    "result_list = result_proxy.fetchall()\n",
    "result_list"
   ]
  },
  {
   "cell_type": "markdown",
   "metadata": {},
   "source": [
    "The result of this query is a list of tuples.  Each tuple corresponds to a record in the result.\n",
    "\n",
    "We can easily convert this result to a `pandas DataFrame` by treating it as a LoL (recall that tuples are effectively immutable lists)."
   ]
  },
  {
   "cell_type": "code",
   "execution_count": 6,
   "metadata": {},
   "outputs": [
    {
     "data": {
      "text/html": [
       "<div>\n",
       "<style scoped>\n",
       "    .dataframe tbody tr th:only-of-type {\n",
       "        vertical-align: middle;\n",
       "    }\n",
       "\n",
       "    .dataframe tbody tr th {\n",
       "        vertical-align: top;\n",
       "    }\n",
       "\n",
       "    .dataframe thead th {\n",
       "        text-align: right;\n",
       "    }\n",
       "</style>\n",
       "<table border=\"1\" class=\"dataframe\">\n",
       "  <thead>\n",
       "    <tr style=\"text-align: right;\">\n",
       "      <th></th>\n",
       "      <th>code</th>\n",
       "      <th>pop</th>\n",
       "      <th>gdp</th>\n",
       "      <th>life</th>\n",
       "      <th>cell</th>\n",
       "    </tr>\n",
       "  </thead>\n",
       "  <tbody>\n",
       "    <tr>\n",
       "      <th>0</th>\n",
       "      <td>CHN</td>\n",
       "      <td>1386.40</td>\n",
       "      <td>12143.50</td>\n",
       "      <td>76.4</td>\n",
       "      <td>1469.88</td>\n",
       "    </tr>\n",
       "    <tr>\n",
       "      <th>1</th>\n",
       "      <td>FRA</td>\n",
       "      <td>66.87</td>\n",
       "      <td>2586.29</td>\n",
       "      <td>82.5</td>\n",
       "      <td>69.02</td>\n",
       "    </tr>\n",
       "    <tr>\n",
       "      <th>2</th>\n",
       "      <td>GBR</td>\n",
       "      <td>66.06</td>\n",
       "      <td>2637.87</td>\n",
       "      <td>81.2</td>\n",
       "      <td>79.10</td>\n",
       "    </tr>\n",
       "    <tr>\n",
       "      <th>3</th>\n",
       "      <td>IND</td>\n",
       "      <td>1338.66</td>\n",
       "      <td>2652.55</td>\n",
       "      <td>68.8</td>\n",
       "      <td>1168.90</td>\n",
       "    </tr>\n",
       "    <tr>\n",
       "      <th>4</th>\n",
       "      <td>USA</td>\n",
       "      <td>325.15</td>\n",
       "      <td>19485.40</td>\n",
       "      <td>78.5</td>\n",
       "      <td>391.60</td>\n",
       "    </tr>\n",
       "  </tbody>\n",
       "</table>\n",
       "</div>"
      ],
      "text/plain": [
       "  code      pop       gdp  life     cell\n",
       "0  CHN  1386.40  12143.50  76.4  1469.88\n",
       "1  FRA    66.87   2586.29  82.5    69.02\n",
       "2  GBR    66.06   2637.87  81.2    79.10\n",
       "3  IND  1338.66   2652.55  68.8  1168.90\n",
       "4  USA   325.15  19485.40  78.5   391.60"
      ]
     },
     "execution_count": 6,
     "metadata": {},
     "output_type": "execute_result"
    }
   ],
   "source": [
    "# Build a DataFrame from the result\n",
    "fields = result_proxy.keys()\n",
    "df1 = pd.DataFrame(result_list, columns=fields)\n",
    "df1"
   ]
  },
  {
   "cell_type": "markdown",
   "metadata": {},
   "source": [
    "Of course, don't forget to close the connection!"
   ]
  },
  {
   "cell_type": "code",
   "execution_count": 7,
   "metadata": {},
   "outputs": [],
   "source": [
    "# Close the connection!\n",
    "try:\n",
    "    connection.close()\n",
    "except:\n",
    "    pass\n",
    "del engine"
   ]
  },
  {
   "cell_type": "markdown",
   "metadata": {},
   "source": [
    "---\n",
    "\n",
    "## Part B: Try it Yourself!\n",
    "\n",
    "**Q1:** Write code to issue a SQL query for all rows and column in the `countries` table of the `book` database.  Retrieve _all_ rows from the result, and use that list-of-tuples data structure (without converting to a `pandas` `DataFrame`) to determine the land area of Zimbabwe (code `ZWE`; the last record in `countries`).  Put this value in a variable `zwe_land`.\n",
    "\n",
    "Make sure the connection is closed upon completion."
   ]
  },
  {
   "cell_type": "code",
   "execution_count": 8,
   "metadata": {},
   "outputs": [],
   "source": [
    "# Connect to the database\n",
    "engine = sa.create_engine(cstring)\n",
    "connection = engine.connect()\n",
    "\n",
    "# YOUR CODE HERE\n",
    "# raise NotImplementedError()\n",
    "query = \"\"\"\n",
    "SELECT land\n",
    "FROM countries\n",
    "ORDER BY code DESC\n",
    "LIMIT 1\n",
    "\"\"\"\n",
    "\n",
    "# Execute the query\n",
    "result_proxy = connection.execute(query)\n",
    "\n",
    "# Get the results from the \"proxy\"\n",
    "result_list = result_proxy.fetchall()\n",
    "zwe_land = int(result_list[0][0])\n",
    "zwe_land\n",
    "\n",
    "\n",
    "# Close the connection!\n",
    "try:\n",
    "    connection.close()\n",
    "except:\n",
    "    pass\n",
    "del engine"
   ]
  },
  {
   "cell_type": "code",
   "execution_count": 9,
   "metadata": {},
   "outputs": [],
   "source": [
    "# Testing cell\n",
    "assert zwe_land == 386850"
   ]
  },
  {
   "cell_type": "markdown",
   "metadata": {},
   "source": [
    "> You've reached the first checkpoint in the lab.  Make sure to have it signed off by the instructor or TA.\n",
    ">\n",
    "> Checkpoint 1: Would it be more efficient to update your SQL query to return just a single value?  Why or why not?  What if we wanted the largest land area?"
   ]
  },
  {
   "cell_type": "markdown",
   "metadata": {},
   "source": [
    "---\n",
    "\n",
    "## Part C: Interface between `sqlalchemy` and `pandas`\n",
    "\n",
    "The `pandas` library interfaces with `sqlalchemy`, providing two functions for even easier processing of the results of our SQL queries:\n",
    "- `pandas.read_sql_table`: returns all records in a table (effectively `SELECT * FROM table`)\n",
    "- `pandas.read_sql_query`: returns all records resulting from a SQL query"
   ]
  },
  {
   "cell_type": "code",
   "execution_count": 10,
   "metadata": {},
   "outputs": [],
   "source": [
    "# Re-connect to the database\n",
    "engine = sa.create_engine(cstring)\n",
    "connection = engine.connect()"
   ]
  },
  {
   "cell_type": "code",
   "execution_count": 11,
   "metadata": {},
   "outputs": [
    {
     "data": {
      "text/html": [
       "<div>\n",
       "<style scoped>\n",
       "    .dataframe tbody tr th:only-of-type {\n",
       "        vertical-align: middle;\n",
       "    }\n",
       "\n",
       "    .dataframe tbody tr th {\n",
       "        vertical-align: top;\n",
       "    }\n",
       "\n",
       "    .dataframe thead th {\n",
       "        text-align: right;\n",
       "    }\n",
       "</style>\n",
       "<table border=\"1\" class=\"dataframe\">\n",
       "  <thead>\n",
       "    <tr style=\"text-align: right;\">\n",
       "      <th></th>\n",
       "      <th>code</th>\n",
       "      <th>pop</th>\n",
       "      <th>gdp</th>\n",
       "      <th>life</th>\n",
       "      <th>cell</th>\n",
       "    </tr>\n",
       "  </thead>\n",
       "  <tbody>\n",
       "    <tr>\n",
       "      <th>0</th>\n",
       "      <td>CHN</td>\n",
       "      <td>1386.40</td>\n",
       "      <td>12143.50</td>\n",
       "      <td>76.4</td>\n",
       "      <td>1469.88</td>\n",
       "    </tr>\n",
       "    <tr>\n",
       "      <th>1</th>\n",
       "      <td>FRA</td>\n",
       "      <td>66.87</td>\n",
       "      <td>2586.29</td>\n",
       "      <td>82.5</td>\n",
       "      <td>69.02</td>\n",
       "    </tr>\n",
       "    <tr>\n",
       "      <th>2</th>\n",
       "      <td>GBR</td>\n",
       "      <td>66.06</td>\n",
       "      <td>2637.87</td>\n",
       "      <td>81.2</td>\n",
       "      <td>79.10</td>\n",
       "    </tr>\n",
       "    <tr>\n",
       "      <th>3</th>\n",
       "      <td>IND</td>\n",
       "      <td>1338.66</td>\n",
       "      <td>2652.55</td>\n",
       "      <td>68.8</td>\n",
       "      <td>1168.90</td>\n",
       "    </tr>\n",
       "    <tr>\n",
       "      <th>4</th>\n",
       "      <td>USA</td>\n",
       "      <td>325.15</td>\n",
       "      <td>19485.40</td>\n",
       "      <td>78.5</td>\n",
       "      <td>391.60</td>\n",
       "    </tr>\n",
       "  </tbody>\n",
       "</table>\n",
       "</div>"
      ],
      "text/plain": [
       "  code      pop       gdp  life     cell\n",
       "0  CHN  1386.40  12143.50  76.4  1469.88\n",
       "1  FRA    66.87   2586.29  82.5    69.02\n",
       "2  GBR    66.06   2637.87  81.2    79.10\n",
       "3  IND  1338.66   2652.55  68.8  1168.90\n",
       "4  USA   325.15  19485.40  78.5   391.60"
      ]
     },
     "execution_count": 11,
     "metadata": {},
     "output_type": "execute_result"
    }
   ],
   "source": [
    "# Read an entire table into a pandas DataFrame\n",
    "df2 = pd.read_sql_table(\"indicators0\", con=connection)\n",
    "df2"
   ]
  },
  {
   "cell_type": "code",
   "execution_count": 12,
   "metadata": {},
   "outputs": [
    {
     "data": {
      "text/html": [
       "<div>\n",
       "<style scoped>\n",
       "    .dataframe tbody tr th:only-of-type {\n",
       "        vertical-align: middle;\n",
       "    }\n",
       "\n",
       "    .dataframe tbody tr th {\n",
       "        vertical-align: top;\n",
       "    }\n",
       "\n",
       "    .dataframe thead th {\n",
       "        text-align: right;\n",
       "    }\n",
       "</style>\n",
       "<table border=\"1\" class=\"dataframe\">\n",
       "  <thead>\n",
       "    <tr style=\"text-align: right;\">\n",
       "      <th></th>\n",
       "      <th>code</th>\n",
       "      <th>pop</th>\n",
       "      <th>gdp</th>\n",
       "      <th>life</th>\n",
       "      <th>cell</th>\n",
       "    </tr>\n",
       "  </thead>\n",
       "  <tbody>\n",
       "    <tr>\n",
       "      <th>0</th>\n",
       "      <td>CHN</td>\n",
       "      <td>1386.40</td>\n",
       "      <td>12143.50</td>\n",
       "      <td>76.4</td>\n",
       "      <td>1469.88</td>\n",
       "    </tr>\n",
       "    <tr>\n",
       "      <th>1</th>\n",
       "      <td>FRA</td>\n",
       "      <td>66.87</td>\n",
       "      <td>2586.29</td>\n",
       "      <td>82.5</td>\n",
       "      <td>69.02</td>\n",
       "    </tr>\n",
       "    <tr>\n",
       "      <th>2</th>\n",
       "      <td>GBR</td>\n",
       "      <td>66.06</td>\n",
       "      <td>2637.87</td>\n",
       "      <td>81.2</td>\n",
       "      <td>79.10</td>\n",
       "    </tr>\n",
       "    <tr>\n",
       "      <th>3</th>\n",
       "      <td>IND</td>\n",
       "      <td>1338.66</td>\n",
       "      <td>2652.55</td>\n",
       "      <td>68.8</td>\n",
       "      <td>1168.90</td>\n",
       "    </tr>\n",
       "    <tr>\n",
       "      <th>4</th>\n",
       "      <td>USA</td>\n",
       "      <td>325.15</td>\n",
       "      <td>19485.40</td>\n",
       "      <td>78.5</td>\n",
       "      <td>391.60</td>\n",
       "    </tr>\n",
       "  </tbody>\n",
       "</table>\n",
       "</div>"
      ],
      "text/plain": [
       "  code      pop       gdp  life     cell\n",
       "0  CHN  1386.40  12143.50  76.4  1469.88\n",
       "1  FRA    66.87   2586.29  82.5    69.02\n",
       "2  GBR    66.06   2637.87  81.2    79.10\n",
       "3  IND  1338.66   2652.55  68.8  1168.90\n",
       "4  USA   325.15  19485.40  78.5   391.60"
      ]
     },
     "execution_count": 12,
     "metadata": {},
     "output_type": "execute_result"
    }
   ],
   "source": [
    "# Read the results of a SQL query into a pandas DataFrame\n",
    "query = \"\"\"\n",
    "SELECT * FROM indicators0\n",
    "\"\"\"\n",
    "\n",
    "df3 = pd.read_sql_query(query, con=connection)\n",
    "df3"
   ]
  },
  {
   "cell_type": "markdown",
   "metadata": {},
   "source": [
    "**Q2:** Write a SQL query to determine the country with the largest land area.  You should use `read_sql_query()`, your query result should be a single record (with fields `code`, `country`, and `land`), and you should store it in the `pandas DataFrame` `df_q2`."
   ]
  },
  {
   "cell_type": "code",
   "execution_count": 13,
   "metadata": {},
   "outputs": [
    {
     "data": {
      "text/html": [
       "<div>\n",
       "<style scoped>\n",
       "    .dataframe tbody tr th:only-of-type {\n",
       "        vertical-align: middle;\n",
       "    }\n",
       "\n",
       "    .dataframe tbody tr th {\n",
       "        vertical-align: top;\n",
       "    }\n",
       "\n",
       "    .dataframe thead th {\n",
       "        text-align: right;\n",
       "    }\n",
       "</style>\n",
       "<table border=\"1\" class=\"dataframe\">\n",
       "  <thead>\n",
       "    <tr style=\"text-align: right;\">\n",
       "      <th></th>\n",
       "      <th>code</th>\n",
       "      <th>country</th>\n",
       "      <th>land</th>\n",
       "    </tr>\n",
       "  </thead>\n",
       "  <tbody>\n",
       "    <tr>\n",
       "      <th>0</th>\n",
       "      <td>RUS</td>\n",
       "      <td>Russian Federation</td>\n",
       "      <td>16376900.0</td>\n",
       "    </tr>\n",
       "  </tbody>\n",
       "</table>\n",
       "</div>"
      ],
      "text/plain": [
       "  code             country        land\n",
       "0  RUS  Russian Federation  16376900.0"
      ]
     },
     "execution_count": 13,
     "metadata": {},
     "output_type": "execute_result"
    }
   ],
   "source": [
    "# YOUR CODE HERE\n",
    "# raise NotImplementedError()\n",
    "query = \"\"\"\n",
    "SELECT code, country, land\n",
    "FROM countries\n",
    "ORDER BY land DESC\n",
    "LIMIT 1\n",
    "\"\"\"\n",
    "\n",
    "# # Execute the query\n",
    "# result_proxy = connection.execute(query)\n",
    "\n",
    "# # Get the results from the \"proxy\"\n",
    "# result_list = result_proxy.fetchall()\n",
    "# zwe_land = int(result_list[0][0])\n",
    "# zwe_land\n",
    "\n",
    "# Display the DataFrame\n",
    "df_q2 = pd.read_sql_query(query, con=connection)\n",
    "df_q2"
   ]
  },
  {
   "cell_type": "code",
   "execution_count": 14,
   "metadata": {},
   "outputs": [],
   "source": [
    "# Testing cell\n",
    "assert df_q2.shape == (1,3)\n",
    "assert df_q2.loc[0, \"land\"] > 16000000"
   ]
  },
  {
   "cell_type": "code",
   "execution_count": 15,
   "metadata": {},
   "outputs": [],
   "source": [
    "# Close the connection!\n",
    "try:\n",
    "    connection.close()\n",
    "except:\n",
    "    pass\n",
    "del engine"
   ]
  }
 ],
 "metadata": {
  "kernelspec": {
   "display_name": "Python 3 (ipykernel)",
   "language": "python",
   "name": "python3"
  },
  "language_info": {
   "codemirror_mode": {
    "name": "ipython",
    "version": 3
   },
   "file_extension": ".py",
   "mimetype": "text/x-python",
   "name": "python",
   "nbconvert_exporter": "python",
   "pygments_lexer": "ipython3",
   "version": "3.9.12"
  }
 },
 "nbformat": 4,
 "nbformat_minor": 4
}
