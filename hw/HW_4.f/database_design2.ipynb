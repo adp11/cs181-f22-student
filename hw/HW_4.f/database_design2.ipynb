{
 "cells": [
  {
   "cell_type": "markdown",
   "metadata": {},
   "source": [
    "# Denison CS181/DA210 Homework 4.f - Step 1\n",
    "\n",
    "Before you turn this problem in, make sure everything runs as expected. This is a combination of **restarting the kernel** and then **running all cells** (in the menubar, select Kernel$\\rightarrow$Restart And Run All).\n",
    "\n",
    "Make sure you fill in any place that says `# YOUR CODE HERE` or \"YOUR ANSWER HERE\"."
   ]
  },
  {
   "cell_type": "markdown",
   "metadata": {},
   "source": [
    "---"
   ]
  },
  {
   "cell_type": "markdown",
   "metadata": {},
   "source": [
    "## Part A: Designing Relationships Between Tables\n",
    "\n",
    "These exercises will continue the design process from the previous homework.  Again, you should think about the data you plan to use in your final project.  You are not committed to the design you develop for the homework, but the goal here is to walk you through the steps of sound database design, to help you along the way with your project.\n",
    "\n",
    "Note that these kinds of questions rarely have a single right answer, so keep an open mind and try to think carefully about what you are trying to design."
   ]
  },
  {
   "cell_type": "markdown",
   "metadata": {
    "deletable": false,
    "editable": false,
    "nbgrader": {
     "cell_type": "markdown",
     "checksum": "d0f7af3f221eeefb0d779df21126a846",
     "grade": false,
     "grade_id": "cell-d6749c5a3b138384",
     "locked": true,
     "schema_version": 3,
     "solution": false,
     "task": false
    }
   },
   "source": [
    "**Q1:** First, reflect on the previous homework.  What, if anything, changed from the initial table/field design you started thinking about to what you were planning by the end of the homework?"
   ]
  },
  {
   "cell_type": "markdown",
   "metadata": {},
   "source": [
    "My table is quite simple and basic, so I wouldn't change anything about its design"
   ]
  },
  {
   "cell_type": "markdown",
   "metadata": {
    "deletable": false,
    "editable": false,
    "nbgrader": {
     "cell_type": "markdown",
     "checksum": "c5edddc09e4cc6fb69887b1c7024355c",
     "grade": false,
     "grade_id": "cell-0b928df805d2e793",
     "locked": true,
     "schema_version": 3,
     "solution": false,
     "task": false
    }
   },
   "source": [
    "**Q2:** Think about the entities in your dataset, and how they might relate to each other.  For example, if your dataset were focused on a sports league, you may ask yourself:\n",
    "- Can a player belong to more than one team?\n",
    "- Can a team have more than one captain?\n",
    "- Does a contest between two teams consist of more than one game?\n",
    "\n",
    "Such questions may cause you to add tables that correspond to entities that you did not originally forsee.  List any new tables you need to add, as well as their fields, based on the table and field design steps (review the previous homework if you've forgotten them)."
   ]
  },
  {
   "cell_type": "markdown",
   "metadata": {},
   "source": [
    "There's only 1 table in my dataset, so there exists no connections between multiple tables."
   ]
  },
  {
   "cell_type": "markdown",
   "metadata": {
    "deletable": false,
    "editable": false,
    "nbgrader": {
     "cell_type": "markdown",
     "checksum": "e6abc96cbe5f68daca7665461fdc8e92",
     "grade": false,
     "grade_id": "cell-7f186baf19e8c17f",
     "locked": true,
     "schema_version": 3,
     "solution": false,
     "task": false
    }
   },
   "source": [
    "**Q3:** Think about the entities in your dataset, and how they might relate to each other.  Write down the relationships between any of your entity tables, listing each as one of the following:\n",
    " - one-to-one\n",
    " - many-to-one\n",
    " - many-to-many"
   ]
  },
  {
   "cell_type": "markdown",
   "metadata": {},
   "source": [
    "There's only 1 table in my dataset, so there exists no connections between multiple tables."
   ]
  },
  {
   "cell_type": "markdown",
   "metadata": {
    "deletable": false,
    "editable": false,
    "nbgrader": {
     "cell_type": "markdown",
     "checksum": "c319b460329c52fe9056b921144df423",
     "grade": false,
     "grade_id": "cell-ca0441f511c8bb02",
     "locked": true,
     "schema_version": 3,
     "solution": false,
     "task": false
    }
   },
   "source": [
    "**Q4:** Add any needed linking fields to allow for many-to-one relationships, and add a linking table with an appropriate name for any many-to-many relationships.  List these new fields/tables below."
   ]
  },
  {
   "cell_type": "markdown",
   "metadata": {},
   "source": [
    "There's only 1 table in my dataset, and I don't need to add another for-linking-purpose field in the current table "
   ]
  },
  {
   "cell_type": "markdown",
   "metadata": {},
   "source": [
    "**Q5:** What foreign-key constraints do you need?"
   ]
  },
  {
   "cell_type": "markdown",
   "metadata": {},
   "source": [
    "My table only has 1 primary key which is \"name\""
   ]
  },
  {
   "cell_type": "markdown",
   "metadata": {},
   "source": [
    "---\n",
    "\n",
    "## Part B: Table Creation"
   ]
  },
  {
   "cell_type": "markdown",
   "metadata": {},
   "source": [
    "**Q6:** Provide the SQL CREATE TABLE statements for two tables in your dataset, with at least one relationship between them.  If you want to test these, you can create a new database in SQLiteStudio, and then execute these queries in a SQL editor window (you can find this in the Tools menu)."
   ]
  },
  {
   "cell_type": "code",
   "execution_count": 2,
   "metadata": {},
   "outputs": [],
   "source": [
    "'''\n",
    "Since there's only 1 table in my dataset, I'm making up another dataset for the purpose of doing this exercise.\n",
    "Table \"users\" has these fields: username, password, createdAt, birthdate, firstname, lastname. And table \"posts\" has\n",
    "these fields: postId, caption, pictureURL, username. (oversimplified DB for a social media app to map posts to their authors/users)\n",
    "'''\n",
    "\n",
    "query1 = \"\"\"\n",
    "CREATE TABLE IF NOT EXISTS users (\n",
    "    username VARCHAR(20) NOT NULL UNIQUE PRIMARY KEY,\n",
    "    password VARCHAR(20) NOT NULL,\n",
    "    createdAt DATETIME NOT NULL,\n",
    "    birthdate DATE NOT NULL,\n",
    "    firstname VARCHAR(15) NOT NULL,\n",
    "    lastname VARCHAR(15) NOT NULL\n",
    ")\n",
    "\"\"\"\n",
    "query2 = \"\"\"\n",
    "CREATE TABLE IF NOT EXISTS posts (\n",
    "    postId VARCHAR(30) NOT NULL UNIQUE PRIMARY KEY,\n",
    "    caption VARCHAR(150) DEFAULT '',\n",
    "    pictureURL VARCHAR(50) DEFAULT '',\n",
    "    username VARCHAR(20) NOT NULL,\n",
    "    FOREIGN KEY (username) REFERENCES users(username)\n",
    ")\n",
    "\"\"\"\n",
    "# YOUR CODE HERE\n",
    "# raise NotImplementedError()"
   ]
  },
  {
   "cell_type": "markdown",
   "metadata": {},
   "source": [
    "---\n",
    "\n",
    "---\n",
    "\n",
    "## Part C\n",
    "\n",
    "**Q7:** How much time (in minutes/hours) did you spend on this homework assignment?"
   ]
  },
  {
   "cell_type": "markdown",
   "metadata": {},
   "source": [
    "For about over 30 minutes"
   ]
  },
  {
   "cell_type": "markdown",
   "metadata": {},
   "source": [
    "**Q8:** Who was your partner for this assignment?  If you worked alone, say so instead."
   ]
  },
  {
   "cell_type": "markdown",
   "metadata": {},
   "source": [
    "I worked alone"
   ]
  }
 ],
 "metadata": {
  "kernelspec": {
   "display_name": "Python 3 (ipykernel)",
   "language": "python",
   "name": "python3"
  },
  "language_info": {
   "codemirror_mode": {
    "name": "ipython",
    "version": 3
   },
   "file_extension": ".py",
   "mimetype": "text/x-python",
   "name": "python",
   "nbconvert_exporter": "python",
   "pygments_lexer": "ipython3",
   "version": "3.9.12"
  }
 },
 "nbformat": 4,
 "nbformat_minor": 4
}
