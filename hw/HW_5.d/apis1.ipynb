{
 "cells": [
  {
   "cell_type": "markdown",
   "metadata": {},
   "source": [
    "# Denison CS181/DA210 Homework 5.d - Step 1\n",
    "\n",
    "Before you turn this problem in, make sure everything runs as expected. This is a combination of **restarting the kernel** and then **running all cells** (in the menubar, select Kernel$\\rightarrow$Restart And Run All).\n",
    "\n",
    "Make sure you fill in any place that says `# YOUR CODE HERE` or \"YOUR ANSWER HERE\"."
   ]
  },
  {
   "cell_type": "markdown",
   "metadata": {},
   "source": [
    "---"
   ]
  },
  {
   "cell_type": "code",
   "execution_count": 1,
   "metadata": {},
   "outputs": [
    {
     "data": {
      "text/plain": [
       "<module 'util' from 'C:\\\\Users\\\\Hudson Pham\\\\Documents\\\\school\\\\denison sophomore\\\\CS181\\\\cs181-f22\\\\modules\\\\util.py'>"
      ]
     },
     "execution_count": 1,
     "metadata": {},
     "output_type": "execute_result"
    }
   ],
   "source": [
    "import os\n",
    "import os.path\n",
    "import sys\n",
    "import importlib\n",
    "import json\n",
    "import requests\n",
    "\n",
    "module_dir = \"../../modules\"\n",
    "module_path = os.path.abspath(module_dir)\n",
    "if not module_path in sys.path:\n",
    "    sys.path.append(module_path)\n",
    "\n",
    "import util\n",
    "importlib.reload(util)"
   ]
  },
  {
   "cell_type": "markdown",
   "metadata": {},
   "source": [
    "---\n",
    "\n",
    "## Part A: Endpoints (via GitHub API)\n",
    "\n",
    "API providers generally define a set of _endpoints_, which utilize the resource-tree structure of the resource path in an HTTP request.\n",
    "\n",
    "We'll first consider the [GitHub API](https://docs.github.com/en/rest).  The provider, GitHub, defines a _root endpoint_ that serves as a \"meta\" endpoint, providing data about the other endpoints available.  This data is given as a JSON object."
   ]
  },
  {
   "cell_type": "code",
   "execution_count": 2,
   "metadata": {},
   "outputs": [
    {
     "name": "stdout",
     "output_type": "stream",
     "text": [
      "{\n",
      "  \"current_user_url\": \"https://api.github.com/user\",\n",
      "  \"current_user_authorizations_html_url\": \"https://github...\n",
      "  \"authorizations_url\": \"https://api.github.com/authoriza...\n",
      "  \"code_search_url\": \"https://api.github.com/search/code?...\n",
      "  \"commit_search_url\": \"https://api.github.com/search/com...\n",
      "  \"emails_url\": \"https://api.github.com/user/emails\",\n",
      "  \"emojis_url\": \"https://api.github.com/emojis\",\n",
      "  \"events_url\": \"https://api.github.com/events\",\n",
      "  \"feeds_url\": \"https://api.github.com/feeds\",\n"
     ]
    }
   ],
   "source": [
    "# Access the root endpoint of the GitHub API\n",
    "resource_path = \"/\"\n",
    "location = \"api.github.com\"\n",
    "url = util.buildURL(resource_path, location)\n",
    "\n",
    "response = requests.get(url)\n",
    "assert response.status_code == 200\n",
    "\n",
    "# The root endpoint provides a JSON-formatted result\n",
    "# of the top-level endpoints available in the GitHub API\n",
    "endpoints = response.json()\n",
    "util.print_data(endpoints, nlines=10)"
   ]
  },
  {
   "cell_type": "markdown",
   "metadata": {},
   "source": [
    "Let's look at the `/events` endpoint, listed as one of the endpoints from the results in the previous cell."
   ]
  },
  {
   "cell_type": "code",
   "execution_count": 3,
   "metadata": {},
   "outputs": [
    {
     "name": "stdout",
     "output_type": "stream",
     "text": [
      "Number of events received: 30\n",
      "[\n",
      "  {\n",
      "    \"id\": \"25737910745\"\n",
      "    \"type\": \"PushEvent\"\n",
      "    \"actor\": \n",
      "    {\n",
      "      \"id\": 10810283\n",
      "      \"login\": \"direwolf-github\"\n",
      "      \"display_login\": \"direwolf-github\"\n",
      "      \"gravatar_id\": \"\"\n",
      "      \"url\": \"https://api.github.com/users/direwolf-github\"\n",
      "      \"avatar_url\": \"https://avatars.githubusercontent.co...\n",
      "    }\n",
      "    \"repo\": \n",
      "    {\n",
      "      \"id\": 575664956\n",
      "      \"name\": \"direwolf-github/ephemeral-ci-145ebbc1\"\n",
      "      \"url\": \"https://api.github.com/repos/direwolf-githu...\n",
      "    }\n",
      "    \"payload\": \n",
      "    {\n",
      "      \"push_id\": 11922660263\n",
      "      \"size\": 1\n",
      "      \"distinct_size\": 1\n",
      "      \"ref\": \"refs/heads/master\"\n"
     ]
    }
   ],
   "source": [
    "# Access the non-root /events endpoint of the GitHub API\n",
    "resource_path = \"/events\"\n",
    "url = util.buildURL(resource_path, location)\n",
    "\n",
    "response = requests.get(url)\n",
    "assert response.status_code == 200\n",
    "\n",
    "# The /events endpoint provides a JSON-formatted list of dictionaries,\n",
    "# with each dictionary representing one event\n",
    "event_list = response.json()\n",
    "print(\"Number of events received:\", len(event_list))\n",
    "\n",
    "util.print_data(event_list, depth=2, nchild=7, nlines=25)"
   ]
  },
  {
   "cell_type": "markdown",
   "metadata": {},
   "source": [
    "---\n",
    "\n",
    "## Part B: Path Parameters\n",
    "\n",
    "In the previous section, we considered the `/events` endpoint, which did not make use of parameters.  Therefore, we could also view the results in a browswer: http://api.github.com/events.\n",
    "\n",
    "Some APIs use the _endpoint-path_ portion of the _resource-path_ in a request to provide parameters as steps within the path.  An example of this is the endpoint to query information about a specific organization from the GitHub API.\n",
    "\n",
    "Such a request is shown as:\n",
    "```\n",
    "GET /orgs/:org\n",
    "```\n",
    "where `:org` specifies a parameter that must be inserted.  Note that some API documentation will use `{variable}` or `<<variable>>` instead of `:variable` to identify parameters that must be provided.\n",
    "\n",
    "You can see more about this endpoint in the [GitHub API documentation](https://docs.github.com/en/rest/orgs/orgs#get-an-organization).\n",
    "\n",
    "We'll try it out for the `microsoft` organization."
   ]
  },
  {
   "cell_type": "code",
   "execution_count": 4,
   "metadata": {},
   "outputs": [
    {
     "name": "stdout",
     "output_type": "stream",
     "text": [
      "{\n",
      "  \"login\": \"microsoft\"\n",
      "  \"id\": 6154722\n",
      "  \"node_id\": \"MDEyOk9yZ2FuaXphdGlvbjYxNTQ3MjI=\"\n",
      "  \"url\": \"https://api.github.com/orgs/microsoft\"\n",
      "  \"repos_url\": \"https://api.github.com/orgs/microsoft/repos\"\n",
      "  \"events_url\": \"https://api.github.com/orgs/microsoft/events\"\n",
      "  \"hooks_url\": \"https://api.github.com/orgs/microsoft/hooks\"\n",
      "  ...\n",
      "}\n"
     ]
    }
   ],
   "source": [
    "# Use the endpoint-path portion of the resource-path to encode parameters\n",
    "org = \"microsoft\"\n",
    "resource_path = f\"/orgs/{org}\" # using format-string instead of s.format()\n",
    "url = util.buildURL(resource_path, location)\n",
    "\n",
    "response = requests.get(url)\n",
    "assert response.status_code == 200\n",
    "\n",
    "# The /orgs endpoint provides JSON-formatted info about a given org\n",
    "data = response.json()\n",
    "util.print_data(data, depth=3, nchild=7, width=80)"
   ]
  },
  {
   "cell_type": "markdown",
   "metadata": {},
   "source": [
    "Similarly, we can view events related to a specific repository belonging to a specific organization, using the endpoint:\n",
    "```\n",
    "GET /repos/:owner/:repo/events\n",
    "```\n",
    "\n",
    "One public Microsoft repository is [`vscode`](https://github.com/microsoft/vscode), the repository housing the code for [Visual Studio Code](https://code.visualstudio.com/).  We'll again use path parameters to perform a `GET` request using this endpoint."
   ]
  },
  {
   "cell_type": "code",
   "execution_count": 5,
   "metadata": {},
   "outputs": [
    {
     "name": "stdout",
     "output_type": "stream",
     "text": [
      "[\n",
      "  {\n",
      "    \"id\": \"25737885445\"\n",
      "    \"type\": \"IssueCommentEvent\"\n",
      "    \"actor\": \n",
      "    {\n",
      "      \"id\": 43756134\n",
      "      \"login\": \"TUCAOEVER\"\n",
      "      \"display_login\": \"TUCAOEVER\"\n",
      "      \"gravatar_id\": \"\"\n",
      "      \"url\": \"https://api.github.com/users/TUCAOEVER\"\n",
      "      \"avatar_url\": \"https://avatars.githubusercontent.com/u/43756134?\"\n",
      "    }\n",
      "    \"repo\": \n",
      "    {\n",
      "      \"id\": 41881900\n",
      "      \"name\": \"microsoft/vscode\"\n",
      "      \"url\": \"https://api.github.com/repos/microsoft/vscode\"\n",
      "    }\n",
      "    \"payload\": \n",
      "    {\n",
      "      \"action\": \"created\"\n",
      "      \"issue\": \n",
      "      {\n",
      "        \"url\": \"https://api.github.com/repos/microsoft/vscode/issues/167151\"\n",
      "        \"repository_url\": \"https://api.github.com/repos/microsoft/vscode\"\n",
      "        \"labels_url\": \"https://api.github.com/repos/microsoft/vscode/issues/1...\n",
      "        \"comments_url\": \"https://api.github.com/repos/microsoft/vscode/issues...\n",
      "        \"events_url\": \"https://api.github.com/repos/microsoft/vscode/issues/1...\n",
      "        \"html_url\": \"https://github.com/microsoft/vscode/issues/167151\"\n"
     ]
    }
   ],
   "source": [
    "# Use the endpoint-path portion of the resource-path to encode parameters\n",
    "org = \"microsoft\"\n",
    "repo = \"vscode\"\n",
    "resource_path = f\"/repos/{org}/{repo}/events\" # using format-string\n",
    "url = util.buildURL(resource_path, location)\n",
    "\n",
    "response = requests.get(url)\n",
    "assert response.status_code == 200\n",
    "\n",
    "# The /repos/:owner/:repo/events endpoint provides a list of\n",
    "# JSON-formatted events for a given repository belonging to a given org\n",
    "data = response.json()\n",
    "util.print_data(data, depth=3, nchild=7, nlines=30, width=80)"
   ]
  },
  {
   "cell_type": "markdown",
   "metadata": {},
   "source": [
    "**Q1:** Now, try out another GitHub API endpoint that uses path parameters.  You should [list repository issues](https://docs.github.com/en/rest/issues/issues#list-repository-issues) for the [`pytorch`](https://github.com/pytorch/pytorch) repository.  Store the resulting `JSON` array in a Python `list` named `pytorch_issues`."
   ]
  },
  {
   "cell_type": "code",
   "execution_count": 6,
   "metadata": {},
   "outputs": [
    {
     "name": "stdout",
     "output_type": "stream",
     "text": [
      "[\n",
      "  {\n",
      "    \"url\": \"https://api.github.com/repos/pytorch/pytorch/issues/90439\"\n",
      "    \"repository_url\": \"https://api.github.com/repos/pytorch/pytorch\"\n",
      "    \"labels_url\": \"https://api.github.com/repos/pytorch/pytorch/issues/90439/...\n",
      "    \"comments_url\": \"https://api.github.com/repos/pytorch/pytorch/issues/9043...\n",
      "    \"events_url\": \"https://api.github.com/repos/pytorch/pytorch/issues/90439/...\n",
      "    \"html_url\": \"https://github.com/pytorch/pytorch/issues/90439\"\n",
      "    \"id\": 1483448067\n",
      "    ...\n",
      "  }\n",
      "  {\n",
      "    \"url\": \"https://api.github.com/repos/pytorch/pytorch/issues/90438\"\n",
      "    \"repository_url\": \"https://api.github.com/repos/pytorch/pytorch\"\n",
      "    \"labels_url\": \"https://api.github.com/repos/pytorch/pytorch/issues/90438/...\n",
      "    \"comments_url\": \"https://api.github.com/repos/pytorch/pytorch/issues/9043...\n",
      "    \"events_url\": \"https://api.github.com/repos/pytorch/pytorch/issues/90438/...\n",
      "    \"html_url\": \"https://github.com/pytorch/pytorch/pull/90438\"\n",
      "    \"id\": 1483421006\n",
      "    ...\n",
      "  }\n",
      "  {\n",
      "    \"url\": \"https://api.github.com/repos/pytorch/pytorch/issues/90437\"\n",
      "    \"repository_url\": \"https://api.github.com/repos/pytorch/pytorch\"\n",
      "    \"labels_url\": \"https://api.github.com/repos/pytorch/pytorch/issues/90437/...\n",
      "    \"comments_url\": \"https://api.github.com/repos/pytorch/pytorch/issues/9043...\n",
      "    \"events_url\": \"https://api.github.com/repos/pytorch/pytorch/issues/90437/...\n",
      "    \"html_url\": \"https://github.com/pytorch/pytorch/pull/90437\"\n",
      "    \"id\": 1483419317\n",
      "    ...\n"
     ]
    }
   ],
   "source": [
    "# YOUR CODE HERE\n",
    "# raise NotImplementedError()\n",
    "resource_path = \"/repos/pytorch/pytorch/issues\"\n",
    "location = \"api.github.com\"\n",
    "url = util.buildURL(resource_path, location)\n",
    "\n",
    "response = requests.get(url)\n",
    "assert response.status_code == 200\n",
    "\n",
    "pytorch_issues = response.json()\n",
    "util.print_data(pytorch_issues, depth=3, nchild=7, nlines=30, width=80)"
   ]
  },
  {
   "cell_type": "code",
   "execution_count": 7,
   "metadata": {},
   "outputs": [],
   "source": [
    "# Testing cell\n",
    "assert isinstance(pytorch_issues, list)\n",
    "assert len(pytorch_issues) == 30\n",
    "assert isinstance(pytorch_issues[0], dict)\n",
    "assert \"url\" in pytorch_issues[0]\n",
    "assert \"number\" in pytorch_issues[0]\n",
    "assert \"created_at\" in pytorch_issues[0]\n",
    "assert \"comments\" in pytorch_issues[0]"
   ]
  },
  {
   "cell_type": "markdown",
   "metadata": {},
   "source": [
    "**Q2:** Take a look at the documentation for the [`issues`](https://docs.github.com/en/rest/issues/issues#list-repository-issues) GitHub API endpoint.  What are the possible status codes a request to this endpoint can return?"
   ]
  },
  {
   "cell_type": "markdown",
   "metadata": {},
   "source": [
    "201\t\n",
    "Created\n",
    "\n",
    "403\t\n",
    "Forbidden\n",
    "\n",
    "404\t\n",
    "Resource not found\n",
    "\n",
    "410\t\n",
    "Gone\n",
    "\n",
    "422\t\n",
    "Validation failed, or the endpoint has been spammed.\n",
    "\n",
    "503\t\n",
    "Service unavailable"
   ]
  },
  {
   "cell_type": "markdown",
   "metadata": {},
   "source": [
    "---\n",
    "\n",
    "## Part C: Authenticating API Key\n",
    "\n",
    "Although GitHub has endpoints that can illustrate the remaining concepts we'll explore, it can be helpful to see multiple examples.  For this, we'll use The Movie Database (TMDB).\n",
    "\n",
    "First, you'll need to make a free TMDB account to work with its API: [https://www.themoviedb.org/signup](https://www.themoviedb.org/signup).\n",
    "\n",
    "Here are some helpful links:\n",
    "\n",
    "- TMDB Terms of Use: [https://www.themoviedb.org/documentation/api/terms-of-use](https://www.themoviedb.org/documentation/api/terms-of-use)\n",
    "- TMDB API Getting Started page: [https://developers.themoviedb.org/3/getting-started/introduction](https://developers.themoviedb.org/3/getting-started/introduction)\n",
    "- TMDB API Documentation: [https://www.themoviedb.org/documentation/api](https://www.themoviedb.org/documentation/api)"
   ]
  },
  {
   "cell_type": "markdown",
   "metadata": {},
   "source": [
    "Some APIs require an API key, which is obtained by an application developer, and identifies the application the API.  Your API key is like a password -- you should not share it with anyone!\n",
    "\n",
    "Before continuing, register an \"application\" with TMDB to get an API key: [https://www.themoviedb.org/settings/api](https://www.themoviedb.org/settings/api).\n",
    "\n",
    "Note that you do not need to give too much information.  For example, you could reasonably use Denison's campus address for the address.  Here is an example:\n",
    "\n",
    "```\n",
    "    Application Type: Personal\n",
    "\n",
    "    Application Name: Test Application\n",
    "    Application URL: localhost\n",
    "    Application Summary: Test application to try out TMDB API\n",
    "\n",
    "    Address: 100 West College Street, Granville, Ohio 43023\n",
    "```"
   ]
  },
  {
   "cell_type": "markdown",
   "metadata": {},
   "source": [
    "You should treat your API key like a password -- it unqiuely identifies you.  We'll store it locally in a `creds.json` file.  Open [creds.json](`creds.json`) and paste your \"API Key (v3 auth) from https://www.themoviedb.org/settings/api as the value for the key `\"apikey\"`.  Your file should look something like this (note that the API key below is not valid, but it's the same length yours should be):"
   ]
  },
  {
   "cell_type": "code",
   "execution_count": 8,
   "metadata": {},
   "outputs": [
    {
     "data": {
      "text/plain": [
       "{'tmdb': {'protocol': 'https',\n",
       "  'location': 'api.themoviedb.org',\n",
       "  'apikey': '64cefb3e82db8d373423a7bd0aa8956d'}}"
      ]
     },
     "execution_count": 8,
     "metadata": {},
     "output_type": "execute_result"
    }
   ],
   "source": [
    "{\n",
    "    \"tmdb\": {\n",
    "        \"protocol\": \"https\",\n",
    "        \"location\": \"api.themoviedb.org\",\n",
    "        \"apikey\": \"64cefb3e82db8d373423a7bd0aa8956d\"\n",
    "    }\n",
    "}"
   ]
  },
  {
   "cell_type": "markdown",
   "metadata": {},
   "source": [
    "**Q3:** Perform an API request given your API key.  Note that we can use another utility function to parse the JSON-formatted `creds.json`, returning the dictionary for `\"tmdb\"` information.\n",
    "\n",
    "Write code to access this endpoint: `https://api.themoviedb.org/3/tv/popular?api_key={apikey}`.  Store your `JSON` results in a variable `tmdb_data`."
   ]
  },
  {
   "cell_type": "code",
   "execution_count": 9,
   "metadata": {},
   "outputs": [
    {
     "name": "stdout",
     "output_type": "stream",
     "text": [
      "{\n",
      "  \"page\": 1\n",
      "  \"results\": \n",
      "  [\n",
      "    {\n",
      "      \"backdrop_path\": \"/nPWRN9MDIjO2gDB7nYOPje1pBLu.jpg\"\n",
      "      \"first_air_date\": \"2022-11-23\"\n",
      "      \"genre_ids\": \n",
      "      [\n",
      "      ]\n",
      "      \"id\": 119051\n",
      "      \"name\": \"Wednesday\"\n",
      "      \"origin_country\": \n",
      "      [\n",
      "      ]\n",
      "      \"original_language\": \"en\"\n",
      "      ...\n",
      "    }\n",
      "    {\n",
      "      \"backdrop_path\": \"/5DUMPBSnHOZsbBv81GFXZXvDpo6.jpg\"\n",
      "      \"first_air_date\": \"2022-10-12\"\n",
      "      \"genre_ids\": \n",
      "      [\n",
      "      ]\n",
      "      \"id\": 114410\n",
      "      \"name\": \"Chainsaw Man\"\n",
      "      \"origin_country\": \n",
      "      [\n",
      "      ]\n",
      "      \"original_language\": \"ja\"\n"
     ]
    }
   ],
   "source": [
    "# Use a util function to read the API key from creds.json\n",
    "tmdb_creds = util.read_creds(\"tmdb\", \".\", \"creds.json\")\n",
    "apikey = tmdb_creds[\"apikey\"]\n",
    "\n",
    "# YOUR CODE HERE\n",
    "# raise NotImplementedError()\n",
    "response = requests.get(\"https://api.themoviedb.org/3/tv/popular?api_key={}\".format(apikey))\n",
    "assert response.status_code == 200\n",
    "\n",
    "tmdb_data = response.json()\n",
    "util.print_data(tmdb_data, depth=3, nchild=7, nlines=30, width=80)"
   ]
  },
  {
   "cell_type": "code",
   "execution_count": 10,
   "metadata": {},
   "outputs": [],
   "source": [
    "# Testing cell\n",
    "assert isinstance(tmdb_data, dict)\n",
    "assert \"page\" in tmdb_data\n",
    "assert tmdb_data[\"page\"] == 1\n",
    "assert len(tmdb_data) == 4"
   ]
  },
  {
   "cell_type": "markdown",
   "metadata": {},
   "source": [
    "**Q4:** How many results does this API endpoint return?  What is the name of the TV show from the first-returned result?  Write code to answer both of these questions using your data in `tmdb_data` (don't hard-code the values), and store your results in variables `tmdb_results_count` and `tmdb_tv_show`."
   ]
  },
  {
   "cell_type": "code",
   "execution_count": 11,
   "metadata": {},
   "outputs": [],
   "source": [
    "# YOUR CODE HERE\n",
    "# raise NotImplementedError()\n",
    "tmdb_results_count = len(tmdb_data[\"results\"])\n",
    "tmdb_tv_show = tmdb_data[\"results\"][0][\"name\"]"
   ]
  },
  {
   "cell_type": "markdown",
   "metadata": {},
   "source": [
    "---\n",
    "\n",
    "## Part D: Query Parameters\n",
    "\n",
    "In addition to the API key, we can provide other parameters as part of the _query-string_ portion of the _resource-path_ in a `GET` request.  For example, the `/search` endpoint of the TMDB API allows us to provide the `query` string to search for movies matching that query."
   ]
  },
  {
   "cell_type": "code",
   "execution_count": 12,
   "metadata": {},
   "outputs": [
    {
     "name": "stdout",
     "output_type": "stream",
     "text": [
      "200\n",
      "/3/search/movie?query=Star+Wars&api_key=e81084...\n",
      "{\n",
      "  \"page\": 1\n",
      "  \"results\": \n",
      "  [\n",
      "    {\n",
      "      \"adult\": False\n",
      "      \"backdrop_path\": \"/yrdAamkeqXHm0UYukk8xgoCvc7G.jpg\"\n",
      "      \"genre_ids\": \n",
      "      [\n",
      "      ]\n",
      "      \"id\": 11\n",
      "      \"original_language\": \"en\"\n",
      "      \"original_title\": \"Star Wars\"\n",
      "      \"overview\": \"Princess Leia is captured and held hostage by the evil Imp...\n",
      "      \"popularity\": 69.365\n",
      "      \"poster_path\": \"/6FfCtAuVAW8XJjZ7eWeLibRLWTw.jpg\"\n",
      "      ...\n",
      "    }\n",
      "    {\n",
      "      \"adult\": False\n",
      "      \"backdrop_path\": \"/8BTsTfln4jlQrLXUBquXJ0ASQy9.jpg\"\n",
      "      \"genre_ids\": \n",
      "      [\n",
      "      ]\n",
      "      \"id\": 140607\n",
      "      \"original_language\": \"en\"\n",
      "      \"original_title\": \"Star Wars: The Force Awakens\"\n",
      "      \"overview\": \"Thirty years after defeating the Galactic Empire, Han Solo...\n",
      "      \"popularity\": 51.204\n",
      "      \"poster_path\": \"/wqnLdwVXoBjKibFRR5U3y0aDUhs.jpg\"\n"
     ]
    }
   ],
   "source": [
    "# Build the URL\n",
    "resource_path = \"/3/search/movie\"\n",
    "location = \"api.themoviedb.org\"\n",
    "url = util.buildURL(resource_path, location)\n",
    "\n",
    "# Use a util function to read the API key from creds.json\n",
    "tmdb_creds = util.read_creds(\"tmdb\", \".\", \"creds.json\")\n",
    "apikey = tmdb_creds[\"apikey\"]\n",
    "\n",
    "query_params = {\"query\": \"Star Wars\",\n",
    "                \"api_key\": apikey}\n",
    "\n",
    "# Use the query parameters within the request\n",
    "response = requests.get(url, params=query_params)\n",
    "print(response.status_code)\n",
    "assert response.status_code == 200\n",
    "\n",
    "# Look at how the path URL was encoded (e.g., the space as +)\n",
    "print(response.request.path_url[:46] + \"...\")\n",
    "\n",
    "# View the resulting JSON\n",
    "search_results = response.json()\n",
    "util.print_data(search_results, depth=2, nchild=9, nlines=30, width=80)"
   ]
  },
  {
   "cell_type": "markdown",
   "metadata": {},
   "source": [
    "---\n",
    "\n",
    "## Part E: Header Parameters\n",
    "\n",
    "The final place we may supply parameters to a `GET` request is within the request headers.  For example, even though TMDB always returns JSON-formatted data, some other APIs may allow the client to specify the desired data format, e.g., `\"Accept\": \"application/json\"` or `\"Accept\": \"text/xml\"`.\n",
    "\n",
    "Looking at the TMDB API documentation, you would find the headers are required for `POST` and `DELETE` requests, as well as `GET` requests related to a specific account; these headers have additional authentication information (discussed in Chapter 24).\n",
    "\n",
    "For now, we can still create a headers dictionary and provide it for our `GET` requests, even if it may be ignored."
   ]
  },
  {
   "cell_type": "code",
   "execution_count": 13,
   "metadata": {},
   "outputs": [
    {
     "name": "stdout",
     "output_type": "stream",
     "text": [
      "{\n",
      "  \"User-Agent\": \"python-requests/2.27.1\",\n",
      "  \"Accept-Encoding\": \"gzip, deflate\",\n",
      "  \"Accept\": \"*/*\",\n",
      "  \"Connection\": \"keep-alive\",\n",
      "  \"Content-Type\": \"application/json\"\n",
      "}\n"
     ]
    }
   ],
   "source": [
    "# Build the URL\n",
    "resource_path = \"/3/search/movie\"\n",
    "location = \"api.themoviedb.org\"\n",
    "url = util.buildURL(resource_path, location)\n",
    "\n",
    "# Use a util function to read the API key from creds.json\n",
    "tmdb_creds = util.read_creds(\"tmdb\", \".\", \"creds.json\")\n",
    "apikey = tmdb_creds[\"apikey\"]\n",
    "\n",
    "query_params = {\"query\": \"Star Wars\",\n",
    "                \"api_key\": apikey}\n",
    "header_params = {\"Content-Type\": \"application/json\",\n",
    "                 \"Accept-Encoding\": \"gzip, deflate\"}\n",
    "\n",
    "# Use the query and header parameters within the request\n",
    "response = requests.get(url, params=query_params, headers=header_params)\n",
    "assert response.status_code == 200\n",
    "\n",
    "# View the headers of the request\n",
    "request = response.request\n",
    "util.print_headers(request.headers)"
   ]
  },
  {
   "cell_type": "markdown",
   "metadata": {},
   "source": [
    "Note that our headers may be ignored.  For instance, TMDB will only provide JSON-formatted data, so if we give a different `Content-Type`, it still provides valid JSON."
   ]
  },
  {
   "cell_type": "code",
   "execution_count": 14,
   "metadata": {},
   "outputs": [
    {
     "name": "stdout",
     "output_type": "stream",
     "text": [
      "{\n",
      "  \"User-Agent\": \"python-requests/2.27.1\",\n",
      "  \"Accept-Encoding\": \"gzip, deflate\",\n",
      "  \"Accept\": \"*/*\",\n",
      "  \"Connection\": \"keep-alive\",\n",
      "  \"Content-Type\": \"text/html\"\n",
      "}\n"
     ]
    }
   ],
   "source": [
    "# Repeat the previous request, but specify a different content type\n",
    "# (which will be ignored by the API)\n",
    "header_params = {\"Content-Type\": \"text/html\",\n",
    "                 \"Accept-Encoding\": \"gzip, deflate\"}\n",
    "\n",
    "# Use the query and header parameters within the request\n",
    "response = requests.get(url, params=query_params, headers=header_params)\n",
    "assert response.status_code == 200\n",
    "\n",
    "# View the headers of the request\n",
    "request = response.request\n",
    "util.print_headers(request.headers)"
   ]
  },
  {
   "cell_type": "code",
   "execution_count": 15,
   "metadata": {},
   "outputs": [
    {
     "name": "stdout",
     "output_type": "stream",
     "text": [
      "{\n",
      "  \"page\": 1\n",
      "  \"results\": \n",
      "  [\n",
      "    {\n",
      "      \"adult\": False\n",
      "      \"backdrop_path\": \"/yrdAamkeqXHm0UYukk8xgoCvc7G.jpg\"\n",
      "      \"genre_ids\": \n",
      "      [\n",
      "      ]\n"
     ]
    }
   ],
   "source": [
    "# Try to parse the result as JSON\n",
    "data = response.json()\n",
    "util.print_data(search_results, depth=2, nchild=9, nlines=10, width=80)"
   ]
  },
  {
   "cell_type": "markdown",
   "metadata": {},
   "source": [
    "**Q5:** Some APIs are more restrictive than general web resources, so it is not a good idea to use unsupported headers.  For instance, the TMDB API does not support `\"Transfer-Encoding\": \"chunked\"`.  Write a request that includes this header, resulting in a `501: Not Implemented` status code for the response.  Store your response in a variable `bad_response`."
   ]
  },
  {
   "cell_type": "code",
   "execution_count": 16,
   "metadata": {},
   "outputs": [
    {
     "name": "stdout",
     "output_type": "stream",
     "text": [
      "Status code: 501\n"
     ]
    }
   ],
   "source": [
    "# YOUR CODE HERE\n",
    "# raise NotImplementedError()\n",
    "resource_path = \"/3/search/movie\"\n",
    "location = \"api.themoviedb.org\"\n",
    "url = util.buildURL(resource_path, location)\n",
    "\n",
    "# Use a util function to read the API key from creds.json\n",
    "tmdb_creds = util.read_creds(\"tmdb\", \".\", \"creds.json\")\n",
    "apikey = tmdb_creds[\"apikey\"]\n",
    "\n",
    "query_params = {\"query\": \"Star Wars\",\n",
    "                \"api_key\": apikey}\n",
    "header_params = {\"Content-Type\": \"application/json\",\n",
    "                 \"Transfer-Encoding\": \"chunked\"}\n",
    "\n",
    "# Use the query and header parameters within the request\n",
    "bad_response = requests.get(url, params=query_params, headers=header_params)\n",
    "\n",
    "print(\"Status code:\", bad_response.status_code) # 501: Not Implemented"
   ]
  },
  {
   "cell_type": "code",
   "execution_count": 17,
   "metadata": {},
   "outputs": [],
   "source": [
    "# Testing cell\n",
    "assert bad_response.status_code == 501"
   ]
  },
  {
   "cell_type": "markdown",
   "metadata": {},
   "source": [
    "---\n",
    "\n",
    "## Part F: `POST` and `POST` Body\n",
    "\n",
    "For our final example, we build a `POST` request to rate a movie using the TMDB API.  If we look at the [documentation for this endpoint](https://developers.themoviedb.org/3/movies/rate-movie), we'll see that we need the following:\n",
    "\n",
    "- Path parameter: `movie_id` (integer) - the movie to rate\n",
    "- Header: `Content-Type` (string) - content type, defaults to `\"application/json;charset=utf-8\"`\n",
    "- Query String: `api_key` (string) - your API key\n",
    "- Request Body: `value` (number) - the rating\n",
    "\n",
    "The `POST` request will not succeed unless we provide a guest session ID (this is separate from the user's API key).  First, we retrieve a guest session ID:"
   ]
  },
  {
   "cell_type": "code",
   "execution_count": 18,
   "metadata": {},
   "outputs": [
    {
     "name": "stdout",
     "output_type": "stream",
     "text": [
      "{\n",
      "  \"success\": True\n",
      "  \"guest_session_id\": \"fb4bd629225696414e26d057dc9e9171\"\n",
      "  \"expires_at\": \"2022-12-09 02:54:28 UTC\"\n",
      "}\n"
     ]
    }
   ],
   "source": [
    "# Build the URL\n",
    "resource_path = \"/3/authentication/guest_session/new\"\n",
    "location = \"api.themoviedb.org\"\n",
    "url = util.buildURL(resource_path, location)\n",
    "\n",
    "# Use a util function to read the API key from creds.json\n",
    "tmdb_creds = util.read_creds(\"tmdb\", \".\", \"creds.json\")\n",
    "apikey = tmdb_creds[\"apikey\"]\n",
    "\n",
    "query_params = {\"api_key\": apikey}\n",
    "\n",
    "# Perform a GET request to receive a guest session ID\n",
    "response = requests.get(url, params=query_params)\n",
    "assert response.status_code == 200\n",
    "\n",
    "results = response.json()\n",
    "util.print_data(results, depth=2, nchild=3)"
   ]
  },
  {
   "cell_type": "markdown",
   "metadata": {},
   "source": [
    "**Q6:** Copy the guest session ID you receive into the code cell below.  Then, complete the `POST` request based on the [documentation](https://developers.themoviedb.org/3/movies/rate-movie).  You can use any movie ID you like, or just stick with `181812`.\n",
    "\n",
    "Note that the body you provide should consist of a single key-value pair, mapping the (confusingly named) key `value` to a float between `0.5` and `10.0`.  Your body should be a Python `string` representing valid `JSON`."
   ]
  },
  {
   "cell_type": "code",
   "execution_count": 19,
   "metadata": {},
   "outputs": [
    {
     "name": "stdout",
     "output_type": "stream",
     "text": [
      "b'{\"value\": 5.5}'\n",
      "201\n",
      "{\n",
      "  \"success\": true,\n",
      "  \"status_code\": 1,\n",
      "  \"status_message\": \"Success.\"\n",
      "}\n"
     ]
    }
   ],
   "source": [
    "# YOUR CODE HERE\n",
    "# raise NotImplementedError()\n",
    "\n",
    "# TODO:\n",
    "# 1. Use the endpoint-path portion of the resource-path to encode parameters\n",
    "# 2. Use a util function to read the API key from creds.json\n",
    "# 3. Build the header parameters\n",
    "# 4. Build the body\n",
    "# 5. Make the POST request (use the requests.post function)\n",
    " \n",
    "# TODO: use the result from the previous cell's output for step 3\n",
    "guest_session_id = results[\"guest_session_id\"]\n",
    "query_params = {\"api_key\": apikey,\n",
    "                \"guest_session_id\": guest_session_id}\n",
    "header_params = {\"Content-Type\": \"application/json;charset=utf-8\"}\n",
    "\n",
    "resource_path = \"3/movie/181812/rating\"\n",
    "location = \"api.themoviedb.org\"\n",
    "url = util.buildURL(resource_path, location)\n",
    "body = {\"value\": 5.5}\n",
    "\n",
    "response = requests.post(url, params=query_params, headers=header_params, json=body)\n",
    "\n",
    "print(response.request.body) # Check the body you sent\n",
    "print(response.status_code)  # Check the resulting status code\n",
    "util.print_data(response.json()) # Look at the body of the response"
   ]
  },
  {
   "cell_type": "code",
   "execution_count": 20,
   "metadata": {},
   "outputs": [],
   "source": [
    "# Testing cell\n",
    "assert response.status_code == 201\n",
    "assert response.json().get(\"status_message\") == \"Success.\""
   ]
  },
  {
   "cell_type": "markdown",
   "metadata": {},
   "source": [
    "---\n",
    "\n",
    "## Part G: Try It Out Yourself!\n",
    "\n",
    "**Q7:** Write a function \n",
    "```\n",
    "    getGenreDict(my_api_key)\n",
    "``` \n",
    "that returns a Python dictionary mapping **Movie** genre names to id numbers, e.g.,\n",
    "```\n",
    "    {'Action': 28,\n",
    "     'Adventure': 12,\n",
    "      ...}\n",
    "```\n",
    "\n",
    "Your function should only make a single call to `requests.get()`, with the appropriate [endpoint path](https://developers.themoviedb.org/3/genres/get-movie-list) for TMDB, and with the given API key.\n",
    "\n",
    "Return `None` if something goes wrong.  Note that this is not asking for the entire JSON result, but a dictionary mapping genre names to id numbers.\n",
    "\n",
    "_Hint:_ You may want to write this as a global cell to get it working and to examine the results, and then convert it into a function."
   ]
  },
  {
   "cell_type": "code",
   "execution_count": 21,
   "metadata": {},
   "outputs": [],
   "source": [
    "# YOUR CODE HERE\n",
    "# raise NotImplementedError()\n",
    "def getGenreDict(my_api_key):\n",
    "    query_params = {\"api_key\": my_api_key}\n",
    "    resource_path = \"3/genre/movie/list\"\n",
    "    location = \"api.themoviedb.org\"\n",
    "    header_params = {\"Content-Type\": \"application/json;charset=utf-8\"}\n",
    "    url = util.buildURL(resource_path, location)\n",
    "\n",
    "    response = requests.get(url, params=query_params, headers=header_params)\n",
    "    if response.status_code == 200:\n",
    "        data = {row[\"name\"]: row[\"id\"] for row in response.json()[\"genres\"]}\n",
    "        return data\n",
    "    return None"
   ]
  },
  {
   "cell_type": "code",
   "execution_count": 22,
   "metadata": {},
   "outputs": [
    {
     "name": "stdout",
     "output_type": "stream",
     "text": [
      "{'Action': 28, 'Adventure': 12, 'Animation': 16, 'Comedy': 35, 'Crime': 80, 'Documentary': 99, 'Drama': 18, 'Family': 10751, 'Fantasy': 14, 'History': 36, 'Horror': 27, 'Music': 10402, 'Mystery': 9648, 'Romance': 10749, 'Science Fiction': 878, 'TV Movie': 10770, 'Thriller': 53, 'War': 10752, 'Western': 37}\n"
     ]
    }
   ],
   "source": [
    "# Debugging cell\n",
    "d = getGenreDict(apikey)\n",
    "print(d)"
   ]
  },
  {
   "cell_type": "code",
   "execution_count": 23,
   "metadata": {},
   "outputs": [],
   "source": [
    "# Testing cell\n",
    "d = getGenreDict(apikey)\n",
    "assert len(d) == 19\n",
    "assert d[\"Action\"] == 28\n",
    "assert d[\"Fantasy\"] == 14\n",
    "assert d[\"Music\"] == 10402\n",
    "\n",
    "assert getGenreDict(apikey+'z') == None # invalid API key"
   ]
  },
  {
   "cell_type": "markdown",
   "metadata": {},
   "source": [
    "**Q8:** Write a function \n",
    "```\n",
    "    search_person_id(my_api_key, name)\n",
    "``` \n",
    "that uses the `/search/person` endpoint ([https://developers.themoviedb.org/3/search/search-people](https://developers.themoviedb.org/3/search/search-people)) to conduct a search for the given `name`, and returns the `id` of the first entry in the `results` list. This should use only one call to `requests.get()`.\n",
    "\n",
    "Return `None` if something goes wrong, and return `-1` if there were no results."
   ]
  },
  {
   "cell_type": "code",
   "execution_count": 24,
   "metadata": {},
   "outputs": [],
   "source": [
    "# YOUR CODE HERE\n",
    "# raise NotImplementedError()\n",
    "def search_person_id(my_api_key, name):\n",
    "    query_params = {\"api_key\": my_api_key, \"query\": name}\n",
    "    resource_path = \"3/search/person\"\n",
    "    location = \"api.themoviedb.org\"\n",
    "    header_params = {\"Content-Type\": \"application/json;charset=utf-8\"}\n",
    "    url = util.buildURL(resource_path, location)\n",
    "\n",
    "    response = requests.get(url, params=query_params, headers=header_params)\n",
    "    if response.status_code == 200:\n",
    "        if len(response.json()[\"results\"]) > 0:\n",
    "            return response.json()[\"results\"][0][\"id\"]\n",
    "        return -1\n",
    "    return None"
   ]
  },
  {
   "cell_type": "code",
   "execution_count": 25,
   "metadata": {},
   "outputs": [
    {
     "name": "stdout",
     "output_type": "stream",
     "text": [
      "543261\n"
     ]
    }
   ],
   "source": [
    "# Debugging cell\n",
    "print(search_person_id(apikey, \"Karen Gillan\"))\n"
   ]
  },
  {
   "cell_type": "code",
   "execution_count": 26,
   "metadata": {},
   "outputs": [],
   "source": [
    "# Testing cell\n",
    "assert search_person_id(apikey, \"Karen Gillan\") == 543261\n",
    "assert search_person_id(apikey, \"Bradley Cooper\") == 51329\n",
    "\n",
    "assert search_person_id(apikey, \"Lulu Amert\") == -1 # no results for a cat\n",
    "assert search_person_id(apikey+'z', 'Bill Murray') == None # invalid API key"
   ]
  },
  {
   "cell_type": "markdown",
   "metadata": {},
   "source": [
    "---\n",
    "\n",
    "---\n",
    "\n",
    "## Part H\n",
    "\n",
    "**Q9:** How much time (in minutes/hours) did you spend on this homework assignment?"
   ]
  },
  {
   "cell_type": "markdown",
   "metadata": {},
   "source": [
    "For about 40 minutes"
   ]
  },
  {
   "cell_type": "markdown",
   "metadata": {},
   "source": [
    "**Q10:** Who was your partner for this assignment?  If you worked alone, say so instead."
   ]
  },
  {
   "cell_type": "markdown",
   "metadata": {},
   "source": [
    "I worked alone"
   ]
  }
 ],
 "metadata": {
  "interpreter": {
   "hash": "c1b6934e936e1ef54c6a95f48075e41a1292402ce0d7d094af8478baa001b4f5"
  },
  "kernelspec": {
   "display_name": "Python 3 (ipykernel)",
   "language": "python",
   "name": "python3"
  },
  "language_info": {
   "codemirror_mode": {
    "name": "ipython",
    "version": 3
   },
   "file_extension": ".py",
   "mimetype": "text/x-python",
   "name": "python",
   "nbconvert_exporter": "python",
   "pygments_lexer": "ipython3",
   "version": "3.9.12"
  }
 },
 "nbformat": 4,
 "nbformat_minor": 2
}
