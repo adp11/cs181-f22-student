{
 "cells": [
  {
   "cell_type": "markdown",
   "metadata": {},
   "source": [
    "# Denison CS181/DA210 Homework 5.a - Step 1\n",
    "\n",
    "Before you turn this problem in, make sure everything runs as expected. This is a combination of **restarting the kernel** and then **running all cells** (in the menubar, select Kernel$\\rightarrow$Restart And Run All).\n",
    "\n",
    "Make sure you fill in any place that says `# YOUR CODE HERE` or \"YOUR ANSWER HERE\"."
   ]
  },
  {
   "cell_type": "markdown",
   "metadata": {},
   "source": [
    "---"
   ]
  },
  {
   "cell_type": "markdown",
   "metadata": {},
   "source": [
    "#### Setup\n",
    "\n",
    "Note that for these exercises, we'll use `mysocket.py`, provided with the book, and available to you now in `modules/` in this repository."
   ]
  },
  {
   "cell_type": "code",
   "execution_count": 1,
   "metadata": {
    "deletable": false,
    "editable": false,
    "nbgrader": {
     "cell_type": "code",
     "checksum": "4425ca38ce8727c571bf1f16ffe1e078",
     "grade": false,
     "grade_id": "cell-b9abcf27cf7faf8f",
     "locked": true,
     "schema_version": 3,
     "solution": false,
     "task": false
    }
   },
   "outputs": [
    {
     "data": {
      "text/plain": [
       "<module 'mysocket' from 'C:\\\\Users\\\\Hudson Pham\\\\Documents\\\\school\\\\denison sophomore\\\\CS181\\\\cs181-f22\\\\modules\\\\mysocket.py'>"
      ]
     },
     "execution_count": 1,
     "metadata": {},
     "output_type": "execute_result"
    }
   ],
   "source": [
    "import os\n",
    "import os.path\n",
    "import sys\n",
    "import importlib\n",
    "\n",
    "module_dir = \"../../modules\"\n",
    "module_path = os.path.abspath(module_dir)\n",
    "if not module_path in sys.path:\n",
    "    sys.path.append(module_path)\n",
    "\n",
    "import mysocket as sock\n",
    "importlib.reload(sock)"
   ]
  },
  {
   "cell_type": "markdown",
   "metadata": {},
   "source": [
    "---\n",
    "\n",
    "## Part A: Identifying Resources with URLs and URIs\n",
    "\n",
    "Uniform Resource Identifiers (URIs) and Uniform Resource Locators (URLs) define a standard notation for specifying the files, data, and resources of the internet.  Note that URI is the broader term, so all URLs are URIs.\n",
    "\n",
    "Using an explicit protocol scheme, host location, and resource path, URLs can be used to uniquely identify a resource at a specific location on the internet.  These components are summarized in the following table:\n",
    "\n",
    "Item | Description\n",
    ":----|:--------------\n",
    "_protocol_ | The network stack layer above TCP; we'll use `http` and `https`\n",
    "_location_ | The server/host machine within the internet\n",
    "_port_     | The program used for connections; we usually use port 80 for `HTTP` web server programs and port 443 for HTTPS web server programs\n",
    "_resource-path_ | Identifies a particular resource within the host/port endpoint; could also include a query string"
   ]
  },
  {
   "cell_type": "markdown",
   "metadata": {},
   "source": [
    "The general form of a URL is given by the following (shown with extra spaces for readability):\n",
    "\n",
    "_protocol_ : // _location_ [ : _port_ ] _resource-path_"
   ]
  },
  {
   "cell_type": "markdown",
   "metadata": {},
   "source": [
    "**Q1:** Type the following URL in a web browser: http://datasystems.denison.edu:80/topnames.html.  What are the _protocol_, _location_, _port_, and _resource-path_ for this URL?\n",
    "\n",
    "Hint: Be very careful about specifying where any forward slashes ( `/` ) belong!"
   ]
  },
  {
   "cell_type": "markdown",
   "metadata": {},
   "source": [
    "Here is what we get after hitting the provided URL in this URL bar in browser:\n",
    "\n",
    "Protocol: https\n",
    "\n",
    "Location: datasystems.denison.edu\n",
    "\n",
    "Port: 443\n",
    "\n",
    "Resource-path: /topnames.html"
   ]
  },
  {
   "cell_type": "markdown",
   "metadata": {},
   "source": [
    "**Q2:** Now, use a search engine to search for \"Denison University\".  What are the _protocol_, _location_, _port_, and _resource-path_ for the resulting URL? "
   ]
  },
  {
   "cell_type": "markdown",
   "metadata": {},
   "source": [
    "https://www.google.com/search?q=Denison+University&sxsrf=ALiCzsbODEA8OET98kGQm5qc2ivSglvjRA%3A1669783005866&source=hp&ei=3d2GY8O_MY-cptQP47mWkAE&iflsig=AJiK0e8AAAAAY4br7f8MCsfqPWqNODKAuuis_17ABbV9&ved=0ahUKEwiDoqe3itX7AhUPjokEHeOcBRIQ4dUDCAw&uact=5&oq=Denison+University&gs_lcp=Cgdnd3Mtd2l6EAMyBAguECcyBQgAEIAEMgUIABCABDIFCAAQgAQyBQgAEIAEMgUIABCABDIFCAAQgAQyCwgAEIAEELEDEIMBMgUIABCABDIFCAAQgAQ6BwgjEOoCECc6BAgjECc6BQgAEJECOgsILhCABBDHARDRAzoOCC4QgAQQsQMQxwEQ0QM6CAgAEIAEELEDOhEILhCDARDHARCxAxDRAxCABDoICAAQsQMQgwE6CwguEIAEEMcBEK8BOgsILhCABBCxAxCDAToICC4QgAQQ1AI6CwguEMcBENEDEJECOg4IABCABBCxAxCDARDJAzoICC4QgAQQsQM6BQguEIAEOg0ILhCxAxDHARDRAxAKOgsILhCvARDHARCABFDPAVjuFWCBGGgBcAB4AIABYogBlQuSAQIxOJgBAKABAbABCg&sclient=gws-wiz\n",
    "\n",
    "Protocol: https\n",
    "\n",
    "Location: www.google.com\n",
    "\n",
    "Port: 443\n",
    "\n",
    "Resource-path: /search?q=Denison+University&sxsrf=ALiCzsbODEA8OET98kGQm5qc2ivSglvjRA%3A1669783005866&source=hp&ei=3d2GY8O_MY-cptQP47mWkAE&iflsig=AJiK0e8AAAAAY4br7f8MCsfqPWqNODKAuuis_17ABbV9&ved=0ahUKEwiDoqe3itX7AhUPjokEHeOcBRIQ4dUDCAw&uact=5&oq=Denison+University&gs_lcp=Cgdnd3Mtd2l6EAMyBAguECcyBQgAEIAEMgUIABCABDIFCAAQgAQyBQgAEIAEMgUIABCABDIFCAAQgAQyCwgAEIAEELEDEIMBMgUIABCABDIFCAAQgAQ6BwgjEOoCECc6BAgjECc6BQgAEJECOgsILhCABBDHARDRAzoOCC4QgAQQsQMQxwEQ0QM6CAgAEIAEELEDOhEILhCDARDHARCxAxDRAxCABDoICAAQsQMQgwE6CwguEIAEEMcBEK8BOgsILhCABBCxAxCDAToICC4QgAQQ1AI6CwguEMcBENEDEJECOg4IABCABBCxAxCDARDJAzoICC4QgAQQsQM6BQguEIAEOg0ILhCxAxDHARDRAxAKOgsILhCvARDHARCABFDPAVjuFWCBGGgBcAB4AIABYogBlQuSAQIxOJgBAKABAbABCg&sclient=gws-wiz"
   ]
  },
  {
   "cell_type": "markdown",
   "metadata": {},
   "source": [
    "---\n",
    "\n",
    "## Part B: HTTP Definition\n",
    "\n",
    "Web browsers are simply programs that request data (often HTML of web pages) from web servers, and display them to the user.  HTTP exists to enable these requests.\n",
    "\n",
    "As discussed in class, HTTP is an application protocol, and is therefore built on TCP and the sockets interface.\n",
    "\n",
    "0. The web server program is in an ``always ready'' state, waiting with an unresolved TCP socket endpoint, listening for requests for port 80 (for HTTP).  \n",
    "1. A client (e.g., your web browser or this notebook) makes a TCP connection to the server endpoint, and a bidrectional communication is initiated.  \n",
    "2. The client constructs an _HTTP request_.  \n",
    "3. The request is sent:  \n",
    "3a. The request is sent over the TCP socket connection to the server.  \n",
    "3b. The server receives the request and processes it, constructing an _HTTP response_.  \n",
    "4. The response is sent:  \n",
    "4a. The response is sent over the TCP socket connection back to the client.  \n",
    "4b. The client receives the response and processes it.  \n",
    "5. Both the client and server close the TCP socket connection.\n",
    "\n",
    "Note that steps 2-4 can happen just once or many times, depending on the HTTP request parameters."
   ]
  },
  {
   "cell_type": "markdown",
   "metadata": {},
   "source": [
    "A module, `mysocket`, is included with our textbook, and import above as `import mysocket as sock`.  It provides the following helper functions:\n",
    "\n",
    "Function                                           | Description\n",
    "---------------------------------------------------|-------------------------------------------------------------------\n",
    "`makeConnection(host, port)`                       | Establish a TCP connection from the client machine to a server at the given machine `host` and listening at the given `port`. This returns the socket connection.  This corresponds to Step 1 of the client-side steps.\n",
    "`sendString(conn, s)`                              | Given an established socket `conn`, take `s`, a string, and send it over the connection.  This corresponds to Step 3 of the client-side steps, where `s` would define all the characters making up a complete HTTP request.\n",
    "`receiveTillClose(conn)`                            | This performs a socket `recv()` from the connection, consuming data until the server closes the connection.  This returns the complete HTTP response message. This corresponds to Step 4 of the client-side steps, and assumes that a connection close will define the end of the response message.\n",
    "\n",
    "-----------------------------------------------------------------------------------------------------------------------"
   ]
  },
  {
   "cell_type": "markdown",
   "metadata": {},
   "source": [
    "Let's now walk through the steps of communication:"
   ]
  },
  {
   "cell_type": "markdown",
   "metadata": {},
   "source": [
    "**Step 1**"
   ]
  },
  {
   "cell_type": "code",
   "execution_count": 2,
   "metadata": {},
   "outputs": [],
   "source": [
    "connection = sock.makeConnection(\"httpbin.org\", 80)\n",
    "assert connection is not None"
   ]
  },
  {
   "cell_type": "markdown",
   "metadata": {},
   "source": [
    "**Step 2**"
   ]
  },
  {
   "cell_type": "code",
   "execution_count": 3,
   "metadata": {},
   "outputs": [
    {
     "name": "stdout",
     "output_type": "stream",
     "text": [
      "GET / HTTP/1.1\r\n",
      "Host: httpbin.org\r\n",
      "Connection: close\r\n",
      "\r\n",
      "\n"
     ]
    }
   ],
   "source": [
    "request_line = 'GET / HTTP/1.1\\r\\n'     # we've already seen this\n",
    "host_line = 'Host: httpbin.org\\r\\n'     # required for HTTP 1.1\n",
    "one_and_done = 'Connection: close\\r\\n'  # specifies whether to keep connection alive\n",
    "empty_line = '\\r\\n'                     # we need this before the (optional) body\n",
    "\n",
    "request_message = request_line + host_line + \\\n",
    "                  one_and_done + empty_line\n",
    "                  \n",
    "print(request_message)"
   ]
  },
  {
   "cell_type": "markdown",
   "metadata": {},
   "source": [
    "**Step 3**"
   ]
  },
  {
   "cell_type": "code",
   "execution_count": 4,
   "metadata": {},
   "outputs": [],
   "source": [
    "sock.sendString(connection, request_message)"
   ]
  },
  {
   "cell_type": "markdown",
   "metadata": {},
   "source": [
    "**Step 4**"
   ]
  },
  {
   "cell_type": "code",
   "execution_count": 5,
   "metadata": {},
   "outputs": [],
   "source": [
    "response = sock.receiveTillClose(connection)"
   ]
  },
  {
   "cell_type": "markdown",
   "metadata": {},
   "source": [
    "**Step 5**"
   ]
  },
  {
   "cell_type": "code",
   "execution_count": 6,
   "metadata": {},
   "outputs": [],
   "source": [
    "connection.close()"
   ]
  },
  {
   "cell_type": "markdown",
   "metadata": {},
   "source": [
    "We can view the first 250 characters of the response (lines are separated by `'\\r\\n'`):"
   ]
  },
  {
   "cell_type": "code",
   "execution_count": 7,
   "metadata": {},
   "outputs": [
    {
     "name": "stdout",
     "output_type": "stream",
     "text": [
      "HTTP/1.1 200 OK\r\n",
      "Date: Wed, 30 Nov 2022 19:43:25 GMT\r\n",
      "Content-Type: text/html; charset=utf-8\r\n",
      "Content-Length: 9593\r\n",
      "Connection: close\r\n",
      "Server: gunicorn/19.9.0\r\n",
      "Access-Control-Allow-Origin: *\r\n",
      "Access-Control-Allow-Credentials: true\r\n",
      "\r\n",
      "<!DOCTYPE html>\n",
      "\n"
     ]
    }
   ],
   "source": [
    "print(response[:250])"
   ]
  },
  {
   "cell_type": "markdown",
   "metadata": {
    "deletable": false,
    "editable": false,
    "nbgrader": {
     "cell_type": "markdown",
     "checksum": "f3ff789e838ced12128b6321d7812a20",
     "grade": false,
     "grade_id": "cell-b0630fc52541276a",
     "locked": true,
     "schema_version": 3,
     "solution": false,
     "task": false
    }
   },
   "source": [
    "---\n",
    "\n",
    "## Part C: Practice with HTTP Requests\n",
    "\n",
    "**Q3:** Suppose we wish to retrieve (GET) a file via HTTP (so port 80) from `datasystems.denison.edu`.  The resource path of the file is `/data/ind0.json`.  We wish to use version 1.1 of HTTP and to request that the connection be closed after a single request/reply exchange.  We will need a header line to satisfy the HTTP 1.1 requirement of a valid `Host` header.  Write a sequence of code to compose a valid HTTP request as a Python string, and assign the result to `message`."
   ]
  },
  {
   "cell_type": "code",
   "execution_count": 8,
   "metadata": {
    "deletable": false,
    "nbgrader": {
     "cell_type": "code",
     "checksum": "98b4d5b92050b39164ffe73b3df717ce",
     "grade": false,
     "grade_id": "cell-cae4365673329fd8",
     "locked": false,
     "schema_version": 3,
     "solution": true,
     "task": false
    }
   },
   "outputs": [
    {
     "name": "stdout",
     "output_type": "stream",
     "text": [
      "GET /data/ind0.json HTTP/1.1\r\n",
      "Host: datasystems.denison.edu\r\n",
      "Connection: close\r\n",
      "\r\n",
      "\n",
      "--------------------\n"
     ]
    }
   ],
   "source": [
    "# YOUR CODE HERE\n",
    "# raise NotImplementedError()\n",
    "request_line = 'GET /data/ind0.json HTTP/1.1\\r\\n'     \n",
    "host_line = 'Host: datasystems.denison.edu\\r\\n'     \n",
    "one_and_done = 'Connection: close\\r\\n'  \n",
    "empty_line = '\\r\\n'                     \n",
    "\n",
    "message = request_line + host_line + \\\n",
    "                  one_and_done + empty_line\n",
    "\n",
    "print(message)\n",
    "print(\"--------------------\")"
   ]
  },
  {
   "cell_type": "code",
   "execution_count": 9,
   "metadata": {
    "deletable": false,
    "editable": false,
    "nbgrader": {
     "cell_type": "code",
     "checksum": "95eb520c5d1f6600409984dcb17ae253",
     "grade": true,
     "grade_id": "cell-c37e0233f773840c",
     "locked": true,
     "points": 2,
     "schema_version": 3,
     "solution": false,
     "task": false
    }
   },
   "outputs": [],
   "source": [
    "# Testing cell\n",
    "assert type(message) == str\n",
    "assert message[:3] == \"GET\"\n",
    "assert message[4:4+len(\"/data/ind0.json\")] == \"/data/ind0.json\"\n",
    "assert \"Host: datasystems.denison.edu\" in message\n",
    "assert message.count('\\r\\n') == 4\n",
    "assert message[-4:] == '\\r\\n\\r\\n'"
   ]
  },
  {
   "cell_type": "markdown",
   "metadata": {
    "deletable": false,
    "editable": false,
    "nbgrader": {
     "cell_type": "markdown",
     "checksum": "be3bdee9a1558d735ca8d017fe03c1fa",
     "grade": false,
     "grade_id": "cell-71dd066a007cc94e",
     "locked": true,
     "schema_version": 3,
     "solution": false,
     "task": false
    }
   },
   "source": [
    "**Q4:** Write a sequence of code to establish a connection to the host `datasystems.denison.edu` at port 80, to send the string `message` from the previous problem to the host, receive the reply from the host until the server closes the connection, assigning the reply to `reply`, and close the connection.  Note: if the request is not completely correct, a network connection can wait forever for a reply that will never come.  So if you have difficulty here, double check your answer to the previous problem."
   ]
  },
  {
   "cell_type": "code",
   "execution_count": 10,
   "metadata": {
    "deletable": false,
    "nbgrader": {
     "cell_type": "code",
     "checksum": "2f71c9946d84bfddab0acc242b69efa2",
     "grade": false,
     "grade_id": "cell-59b25ae0233eb2f6",
     "locked": false,
     "schema_version": 3,
     "solution": true,
     "task": false
    }
   },
   "outputs": [
    {
     "name": "stdout",
     "output_type": "stream",
     "text": [
      "HTTP/1.1 200 OK\r\n",
      "Date: Wed, 30 Nov 2022 19:43:25 GMT\r\n",
      "Server: Apache/2.4.6 (CentOS)\r\n",
      "Last-Modified: Wed, 16 Dec 2020 23:45:42 GMT\r\n",
      "ETag: \"10d-5b69d7922d580\"\r\n",
      "Accept-Ranges: bytes\r\n",
      "Content-Length: 269\r\n",
      "Connection: close\r\n",
      "Content-Type: application/json\r\n",
      "\r\n",
      "{\"FRA\": {\"2007\": {\"pop\": 64.02, \"gdp\": 2657.21}, \"2017\": {\"pop\": 66.87, \"gdp\": 2586.29}}, \"GBR\": {\"2007\": {\"pop\": 61.32, \"gdp\": 3084.12}, \"2017\": {\"pop\": 66.06, \"gdp\": 2637.87}}, \"USA\": {\"2007\": {\"pop\": 301.23, \"gdp\": 14451.9}, \"2017\": {\"pop\": 325.15, \"gdp\": 19485.4}}}\n"
     ]
    }
   ],
   "source": [
    "# Step 1\n",
    "# YOUR CODE HERE\n",
    "# raise NotImplementedError()\n",
    "connection = sock.makeConnection(\"datasystems.denison.edu\", 80)\n",
    "\n",
    "# Step 2\n",
    "# YOUR CODE HERE\n",
    "# raise NotImplementedError()\n",
    "sock.sendString(connection, message)\n",
    "\n",
    "# Step 3\n",
    "# YOUR CODE HERE\n",
    "# raise NotImplementedError()\n",
    "reply = sock.receiveTillClose(connection)\n",
    "\n",
    "# Step 4\n",
    "# YOUR CODE HERE\n",
    "# raise NotImplementedError()\n",
    "connection.close()\n",
    "\n",
    "# Step 5\n",
    "# YOUR CODE HERE\n",
    "# raise NotImplementedError()\n",
    "\n",
    "print(reply)"
   ]
  },
  {
   "cell_type": "code",
   "execution_count": 11,
   "metadata": {
    "deletable": false,
    "editable": false,
    "nbgrader": {
     "cell_type": "code",
     "checksum": "d6656362f5c6e74e4e051f6dd3c9e7cc",
     "grade": true,
     "grade_id": "cell-a262284d7dd83250",
     "locked": true,
     "points": 2,
     "schema_version": 3,
     "solution": false,
     "task": false
    }
   },
   "outputs": [],
   "source": [
    "# Testing cell\n",
    "assert type(reply) == str\n",
    "assert \"200 OK\" in reply\n",
    "assert \"application/json\" in reply\n",
    "assert reply.endswith(\"19485.4}}}\")"
   ]
  },
  {
   "cell_type": "markdown",
   "metadata": {
    "deletable": false,
    "editable": false,
    "nbgrader": {
     "cell_type": "markdown",
     "checksum": "5d87df8e48d6980c81b479dd3a57bde9",
     "grade": false,
     "grade_id": "cell-3a541deeebbe933f",
     "locked": true,
     "schema_version": 3,
     "solution": false,
     "task": false
    }
   },
   "source": [
    "**Q5:** Suppose we want to generalize the scenario from the first exercise, where the two things that can change are the *host location* and the *resource path*.  For example, we might want to change the host to `httpbin.org` and the resource path to `/`, or many other combinations.  Write a function\n",
    "```\n",
    "    buildRequest(location, resource)\n",
    "```    \n",
    "that constructs and returns a Python string containing a valid HTTP GET request that incorporates the parameters `location` and `resource` into the request at the appropriate places, and includes the appropriate header lines (for the required `Host` and to request the server close the connection after the exchange).\n",
    "\n",
    "Note: Your function should not actually _issue_ the request."
   ]
  },
  {
   "cell_type": "code",
   "execution_count": 12,
   "metadata": {
    "deletable": false,
    "nbgrader": {
     "cell_type": "code",
     "checksum": "03a6242e28c1bda5fcbb946bf42b8b37",
     "grade": false,
     "grade_id": "cell-fdcdf3fee2f5371c",
     "locked": false,
     "schema_version": 3,
     "solution": true,
     "task": false
    }
   },
   "outputs": [
    {
     "name": "stdout",
     "output_type": "stream",
     "text": [
      "GET /get HTTP/1.1\n",
      "Host: httpbin.org\n",
      "Connection: close\n",
      "\n",
      "\n",
      "---------------------\n"
     ]
    }
   ],
   "source": [
    "# YOUR CODE HERE\n",
    "# raise NotImplementedError()\n",
    "def buildRequest(location, resource):\n",
    "    request_line = 'GET {} HTTP/1.1\\r\\n'.format(resource)     \n",
    "    host_line = 'Host: {}\\r\\n'.format(location) \n",
    "    one_and_done = 'Connection: close\\r\\n'  \n",
    "    empty_line = '\\r\\n'                     \n",
    "\n",
    "    return request_line + host_line + one_and_done + empty_line\n",
    "\n",
    "print(buildRequest(\"httpbin.org\", \"/get\"))\n",
    "print(\"---------------------\")"
   ]
  },
  {
   "cell_type": "code",
   "execution_count": 13,
   "metadata": {
    "deletable": false,
    "editable": false,
    "nbgrader": {
     "cell_type": "code",
     "checksum": "8b48a658cb08f13258818fc2cbb8baa0",
     "grade": true,
     "grade_id": "cell-81a9009c478f82fa",
     "locked": true,
     "points": 2,
     "schema_version": 3,
     "solution": false,
     "task": false
    }
   },
   "outputs": [],
   "source": [
    "# Testing cell\n",
    "\n",
    "r1 = buildRequest(\"datasystems.denison.edu\", \"/data/ind0.json\")\n",
    "assert r1[:3] == \"GET\"\n",
    "assert r1[4:4+len(\"/data/ind0.json\")] == \"/data/ind0.json\"\n",
    "assert \"Host: datasystems.denison.edu\" in r1\n",
    "assert r1.count('\\r\\n') == 4\n",
    "assert r1[-4:] == '\\r\\n\\r\\n'\n",
    "\n",
    "r2 = buildRequest(\"httpbin.org\", \"/get\")\n",
    "assert r2[:3] == \"GET\"\n",
    "assert r2[4:4+len(\"/get\")] == \"/get\"\n",
    "assert \"Host: httpbin.org\" in r2\n",
    "assert r2.count('\\r\\n') == 4\n",
    "assert r2[-4:] == '\\r\\n\\r\\n'"
   ]
  },
  {
   "cell_type": "markdown",
   "metadata": {
    "deletable": false,
    "editable": false,
    "nbgrader": {
     "cell_type": "markdown",
     "checksum": "d51915b5cb1442d677ce07f519fee8ed",
     "grade": false,
     "grade_id": "cell-6002097ec5363a4b",
     "locked": true,
     "schema_version": 3,
     "solution": false,
     "task": false
    }
   },
   "source": [
    "**Q6:** Write a function\n",
    "```\n",
    "    issueRequest(location, resource)\n",
    "```\n",
    "that first constructs a valid HTTP GET request for `resource` at host `location`, as a Python string (using your function from the previous question), and then performs the  request-reply steps of making the connection, sending the string request, receiving a reply until the connection closes, and finally closing the client side of the connection.  The function should return the reply."
   ]
  },
  {
   "cell_type": "code",
   "execution_count": 14,
   "metadata": {
    "deletable": false,
    "nbgrader": {
     "cell_type": "code",
     "checksum": "30b19964bf942508b8b6d992a796dc21",
     "grade": false,
     "grade_id": "cell-b0ae35dd066cdd61",
     "locked": false,
     "schema_version": 3,
     "solution": true,
     "task": false
    }
   },
   "outputs": [
    {
     "name": "stdout",
     "output_type": "stream",
     "text": [
      "HTTP/1.1 200 OK\r\n",
      "Date: Wed, 30 Nov 2022 19:43:25 GMT\r\n",
      "Server: Apache/2.4.6 (CentOS)\r\n",
      "Accept-Ranges: bytes\r\n",
      "Content-Length: 496\r\n",
      "Connection: close\r\n",
      "Content-Type: text/html; charset=UTF-8\r\n",
      "\r\n",
      "<!DOCTYPE html>\n",
      "<html lang=\"en\">\n",
      "  <head>\n",
      "    <title>Data Systems Basic HTML Page</title>\n",
      "  </head>\n",
      "  <body>\n",
      "    <h1>First Level Heading</h1>\n",
      "\n",
      "    <p>Paragraph defined in <b>body</b>.\n",
      "\n",
      "    <h2>Second Level Heading</h2>\n",
      "\n",
      "    <a href=\"http://docs.python.org\">Link</a> to Python documentation.\n",
      "    </p>\n",
      "\n",
      "    <ul>\n",
      "      <li>Item 1\n",
      "      <ol>\n",
      "        <li>Item 1 nested</li>\n",
      "        <li>Item 2 nested</li>\n",
      "      </ol>\n",
      "      </li>\n",
      "      <li>Item 2</li>\n",
      "      <li>Item 3</li>\n",
      "    </ul>\n",
      "  </body>\n",
      "</html>\n",
      "\n"
     ]
    }
   ],
   "source": [
    "# YOUR CODE HERE\n",
    "# raise NotImplementedError()\n",
    "def issueRequest(location, resource):\n",
    "    connection = sock.makeConnection(location, 80)\n",
    "    sock.sendString(connection, buildRequest(location, resource))\n",
    "    reply = sock.receiveTillClose(connection)\n",
    "    connection.close()\n",
    "    return reply\n",
    "\n",
    "print(issueRequest(\"datasystems.denison.edu\", \"/basic.html\"))"
   ]
  },
  {
   "cell_type": "code",
   "execution_count": 15,
   "metadata": {},
   "outputs": [
    {
     "name": "stdout",
     "output_type": "stream",
     "text": [
      "HTTP/1.1 200 OK\r\n",
      "Date: Wed, 30 Nov 2022 19:43:25 GMT\r\n",
      "Server: Apache/2.4.6 (CentOS)\r\n",
      "Accept-Ranges: bytes\r\n",
      "Content-Length: 496\r\n",
      "Connection: close\r\n",
      "Content-Type: text/html; charset=UTF-8\r\n",
      "\r\n",
      "<!DOCTYPE html>\n",
      "<html lang=\"en\">\n",
      "  <head>\n",
      "    <title>Data Systems Basic HTML Page</title>\n",
      "  </head>\n",
      "  <body>\n",
      "    <h1>First Level Heading</h1>\n",
      "\n",
      "    <p>Paragraph defined in <b>body</b>.\n",
      "\n",
      "    <h2>Second Level Heading</h2>\n",
      "\n",
      "    <a href=\"http://docs.python.org\">Link</a> to Python documentation.\n",
      "    </p>\n",
      "\n",
      "    <ul>\n",
      "      <li>Item 1\n",
      "      <ol>\n",
      "        <li>Item 1 nested</li>\n",
      "        <li>Item 2 nested</li>\n",
      "      </ol>\n",
      "      </li>\n",
      "      <li>Item 2</li>\n",
      "      <li>Item 3</li>\n",
      "    </ul>\n",
      "  </body>\n",
      "</html>\n",
      "\n"
     ]
    }
   ],
   "source": [
    "# Debugging cell #1\n",
    "resp1 = issueRequest(\"datasystems.denison.edu\", \"/basic.html\")\n",
    "print(resp1)"
   ]
  },
  {
   "cell_type": "code",
   "execution_count": 16,
   "metadata": {},
   "outputs": [
    {
     "name": "stdout",
     "output_type": "stream",
     "text": [
      "HTTP/1.1 200 OK\r\n",
      "Date: Wed, 30 Nov 2022 19:43:25 GMT\r\n",
      "Server: Apache/2.4.6 (CentOS)\r\n",
      "Last-Modified: Wed, 16 Dec 2020 23:45:42 GMT\r\n",
      "ETag: \"10d-5b69d7922d580\"\r\n",
      "Accept-Ranges: bytes\r\n",
      "Content-Length: 269\r\n",
      "Connection: close\r\n",
      "Content-Type: application/json\r\n",
      "\r\n",
      "{\"FRA\": {\"2007\": {\"pop\": 64.02, \"gdp\": 2657.21}, \"2017\": {\"pop\": 66.87, \"gdp\": 2586.29}}, \"GBR\": {\"2007\": {\"pop\": 61.32, \"gdp\": 3084.12}, \"2017\": {\"pop\": 66.06, \"gdp\": 2637.87}}, \"USA\": {\"2007\": {\"pop\": 301.23, \"gdp\": 14451.9}, \"2017\": {\"pop\": 325.15, \"gdp\": 19485.4}}}\n"
     ]
    }
   ],
   "source": [
    "# Debugging cell #2\n",
    "resp2 = issueRequest(\"datasystems.denison.edu\", \"/data/ind0.json\")\n",
    "print(resp2)"
   ]
  },
  {
   "cell_type": "code",
   "execution_count": 17,
   "metadata": {},
   "outputs": [
    {
     "name": "stdout",
     "output_type": "stream",
     "text": [
      "HTTP/1.1 200 OK\r\n",
      "Date: Wed, 30 Nov 2022 19:43:25 GMT\r\n",
      "Content-Type: application/json\r\n",
      "Content-Length: 197\r\n",
      "Connection: close\r\n",
      "Server: gunicorn/19.9.0\r\n",
      "Access-Control-Allow-Origin: *\r\n",
      "Access-Control-Allow-Credentials: true\r\n",
      "\r\n",
      "{\n",
      "  \"args\": {}, \n",
      "  \"headers\": {\n",
      "    \"Host\": \"httpbin.org\", \n",
      "    \"X-Amzn-Trace-Id\": \"Root=1-6387b25d-460b6ae809b6e20a0e160847\"\n",
      "  }, \n",
      "  \"origin\": \"140.141.4.63\", \n",
      "  \"url\": \"http://httpbin.org/get\"\n",
      "}\n",
      "\n"
     ]
    }
   ],
   "source": [
    "# Debugging cell #3\n",
    "resp3 = issueRequest(\"httpbin.org\", \"/get\")\n",
    "print(resp3)"
   ]
  },
  {
   "cell_type": "code",
   "execution_count": 18,
   "metadata": {
    "deletable": false,
    "editable": false,
    "nbgrader": {
     "cell_type": "code",
     "checksum": "ba04b19e9ece1d78a0377739d87620ff",
     "grade": true,
     "grade_id": "cell-558109be645f32b3",
     "locked": true,
     "points": 2,
     "schema_version": 3,
     "solution": false,
     "task": false
    }
   },
   "outputs": [],
   "source": [
    "# Testing cell\n",
    "resp1 = issueRequest(\"datasystems.denison.edu\", \"/basic.html\")\n",
    "assert \"200 OK\" in resp1\n",
    "assert \"text/html\" in resp1\n",
    "assert resp1.endswith(\"</html>\\n\")\n",
    "\n",
    "resp2 = issueRequest(\"datasystems.denison.edu\", \"/data/ind0.json\")\n",
    "assert \"200 OK\" in resp2\n",
    "assert \"application/json\" in resp2\n",
    "assert resp2.endswith(\"19485.4}}}\")\n",
    "\n",
    "resp3 = issueRequest(\"httpbin.org\", \"/get\")\n",
    "assert \"200 OK\" in resp3\n",
    "assert \"application/json\" in resp3\n",
    "assert resp3.endswith(\"\"\"\"url\": \"http://httpbin.org/get\"\\n}\\n\"\"\")"
   ]
  },
  {
   "cell_type": "markdown",
   "metadata": {
    "deletable": false,
    "editable": false,
    "nbgrader": {
     "cell_type": "markdown",
     "checksum": "ab62f69ff64a86cbcffbd134ca05c332",
     "grade": false,
     "grade_id": "cell-570f8c0f34f6b769",
     "locked": true,
     "schema_version": 3,
     "solution": false,
     "task": false
    }
   },
   "source": [
    "---\n",
    "\n",
    "## Part D: HTTP Response Messages\n",
    "\n",
    "The next set of exercises are about parsing through the reply resulting from a request.  If we consider an HTTP reply, we can partition it into a status line, the set of headers, and the body.  The exercises ask for functions that, given a reply, and parse the reply and return each of these pieces."
   ]
  },
  {
   "cell_type": "markdown",
   "metadata": {
    "deletable": false,
    "editable": false,
    "nbgrader": {
     "cell_type": "markdown",
     "checksum": "1f52ffc6364db8f1a2336389169d5efa",
     "grade": false,
     "grade_id": "cell-355896e383db531b",
     "locked": true,
     "schema_version": 3,
     "solution": false,
     "task": false
    }
   },
   "source": [
    "**Q7:** Write a function\n",
    "```\n",
    "    parseStatus(reply)\n",
    "```\n",
    "that finds and returns a Python string consisting of only the status line of a reply.  The returned value should include the line-terminating `\"\\r\\n\"`."
   ]
  },
  {
   "cell_type": "code",
   "execution_count": 19,
   "metadata": {
    "deletable": false,
    "nbgrader": {
     "cell_type": "code",
     "checksum": "e9d2a665cca49b0688e3c11efcddfd07",
     "grade": false,
     "grade_id": "cell-db4474c167be79ae",
     "locked": false,
     "schema_version": 3,
     "solution": true,
     "task": false
    }
   },
   "outputs": [
    {
     "name": "stdout",
     "output_type": "stream",
     "text": [
      "'HTTP/1.1 200 OK\\r\\n'\n",
      "'HTTP/1.1 404 Not Found\\r\\n'\n"
     ]
    }
   ],
   "source": [
    "# YOUR CODE HERE\n",
    "# raise NotImplementedError()\n",
    "def parseStatus(reply):\n",
    "    return reply.split(\"\\r\\n\")[0] + \"\\r\\n\"\n",
    "\n",
    "reply = issueRequest(\"datasystems.denison.edu\", \"/basic.html\")\n",
    "print(repr(parseStatus(reply)))\n",
    "reply = issueRequest(\"datasystems.denison.edu\", \"/foobar.txt\")\n",
    "print(repr(parseStatus(reply)))"
   ]
  },
  {
   "cell_type": "code",
   "execution_count": 20,
   "metadata": {
    "deletable": false,
    "editable": false,
    "nbgrader": {
     "cell_type": "code",
     "checksum": "10a0e5e628cbe7eca5f58731c99d6c08",
     "grade": true,
     "grade_id": "cell-4e8d16f523ad3818",
     "locked": true,
     "points": 2,
     "schema_version": 3,
     "solution": false,
     "task": false
    }
   },
   "outputs": [],
   "source": [
    "r1 = issueRequest(\"datasystems.denison.edu\", \"/basic.html\")\n",
    "s1 = parseStatus(r1)\n",
    "assert s1 == \"HTTP/1.1 200 OK\\r\\n\"\n",
    "\n",
    "r2 = issueRequest(\"datasystems.denison.edu\", \"/foobar.txt\")\n",
    "s2 = parseStatus(r2)\n",
    "assert s2 == \"HTTP/1.1 404 Not Found\\r\\n\""
   ]
  },
  {
   "cell_type": "markdown",
   "metadata": {
    "deletable": false,
    "editable": false,
    "nbgrader": {
     "cell_type": "markdown",
     "checksum": "9acc8db47c6d12cd54bb50d77ba72bd6",
     "grade": false,
     "grade_id": "cell-00719c363cfc65b8",
     "locked": true,
     "schema_version": 3,
     "solution": false,
     "task": false
    }
   },
   "source": [
    "**Q8:** Write a function\n",
    "```\n",
    "    parseHeaders(reply)\n",
    "```\n",
    "that finds and returns a single Python string that starts with the first header in the reply and continues up through the last header in the reply, including the line-terminating `\"\\r\\n\"`, but *not* the empty line separating the headers from the body."
   ]
  },
  {
   "cell_type": "code",
   "execution_count": 21,
   "metadata": {
    "deletable": false,
    "nbgrader": {
     "cell_type": "code",
     "checksum": "a2c00409bce5c88e1922e9cf5bb6267a",
     "grade": false,
     "grade_id": "cell-4985de7e00373e2d",
     "locked": false,
     "schema_version": 3,
     "solution": true,
     "task": false
    }
   },
   "outputs": [
    {
     "name": "stdout",
     "output_type": "stream",
     "text": [
      "'HTTP/1.1 200 OK\\r\\nDate: Wed, 30 Nov 2022 19:43:25 GMT\\r\\nServer: Apache/2.4.6 (CentOS)\\r\\nAccept-Ranges: bytes\\r\\nContent-Length: 496\\r\\nConnection: close\\r\\nContent-Type: text/html; charset=UTF-8'\n",
      "'HTTP/1.1 404 Not Found\\r\\nDate: Wed, 30 Nov 2022 19:43:25 GMT\\r\\nServer: Apache/2.4.6 (CentOS)\\r\\nContent-Length: 296\\r\\nConnection: close\\r\\nContent-Type: text/html; charset=iso-8859-1\\r\\n'\n"
     ]
    }
   ],
   "source": [
    "# YOUR CODE HERE\n",
    "# raise NotImplementedError()\n",
    "def parseHeaders(reply):\n",
    "    a = reply.split(\"\\r\\n\")\n",
    "    aa = a[:7]\n",
    "    return \"\\r\\n\".join(aa)\n",
    "    \n",
    "reply = issueRequest(\"datasystems.denison.edu\", \"/basic.html\")\n",
    "print(repr(parseHeaders(reply)))\n",
    "reply = issueRequest(\"datasystems.denison.edu\", \"/foobar.txt\")\n",
    "print(repr(parseHeaders(reply)))"
   ]
  },
  {
   "cell_type": "code",
   "execution_count": 22,
   "metadata": {
    "deletable": false,
    "editable": false,
    "nbgrader": {
     "cell_type": "code",
     "checksum": "7da0d77518b26e6f9d72170f37adff78",
     "grade": true,
     "grade_id": "cell-c10750ab8472692f",
     "locked": true,
     "points": 2,
     "schema_version": 3,
     "solution": false,
     "task": false
    }
   },
   "outputs": [],
   "source": [
    "# Testing cell\n",
    "\n",
    "r1 = issueRequest(\"datasystems.denison.edu\", \"/basic.html\")\n",
    "h1 = parseHeaders(r1)\n",
    "assert \"Server: Apache\" in h1\n",
    "assert \"Connection: close\\r\\n\" in h1\n",
    "assert \"Content-Type: text/html\" in h1\n",
    "\n",
    "r2 = issueRequest(\"datasystems.denison.edu\", \"/foobar.txt\")\n",
    "h2 = parseHeaders(r2)\n",
    "assert \"Server: Apache\" in h2\n",
    "assert \"Connection: close\\r\\n\" in h2\n",
    "assert \"Content-Type: text/html\" in h2"
   ]
  },
  {
   "cell_type": "markdown",
   "metadata": {
    "deletable": false,
    "editable": false,
    "nbgrader": {
     "cell_type": "markdown",
     "checksum": "1d1b31a15d1ced695c444dc1c4cf0065",
     "grade": false,
     "grade_id": "cell-1a7baf449889a33a",
     "locked": true,
     "schema_version": 3,
     "solution": false,
     "task": false
    }
   },
   "source": [
    "**Q9:** Write a function\n",
    "```\n",
    "    parseBody(reply)\n",
    "```\n",
    "that finds and returns a single Python string that starts with the beginning of the body (i.e. after the empty line of the reply) and continues to the end of the reply."
   ]
  },
  {
   "cell_type": "code",
   "execution_count": 23,
   "metadata": {
    "deletable": false,
    "nbgrader": {
     "cell_type": "code",
     "checksum": "129baf755382dd175737885fb65c504f",
     "grade": false,
     "grade_id": "cell-fd88ef8bb50a41c1",
     "locked": false,
     "schema_version": 3,
     "solution": true,
     "task": false
    }
   },
   "outputs": [
    {
     "name": "stdout",
     "output_type": "stream",
     "text": [
      "<!DOCTYPE html>\n",
      "<html lang=\"en\">\n",
      "  <head>\n",
      "    <title>Data Systems Basic HTML Page</title>\n",
      "  </head>\n",
      "  <body>\n",
      "    <h1>First Level Heading</h1>\n",
      "\n",
      "    <p>Paragraph defined in <b>body</b>.\n",
      "\n",
      "    <h2>Second Level Heading</h2>\n",
      "\n",
      "    <a href=\"http://docs.python.org\">Link</a> to Python documentation.\n",
      "    </p>\n",
      "\n",
      "    <ul>\n",
      "      <li>Item 1\n",
      "      <ol>\n",
      "        <li>Item 1 nested</li>\n",
      "        <li>Item 2 nested</li>\n",
      "      </ol>\n",
      "      </li>\n",
      "      <li>Item 2</li>\n",
      "      <li>Item 3</li>\n",
      "    </ul>\n",
      "  </body>\n",
      "</html>\n",
      "\n",
      "<!DOCTYPE HTML PUBLIC \"-//IETF//DTD HTML 2.0//EN\">\n",
      "<html><head>\n",
      "<title>404 Not Found</title>\n",
      "</head><body>\n",
      "<h1>Not Found</h1>\n",
      "<p>The requested URL /foobar.txt was not found on this server.</p>\n",
      "<hr>\n",
      "<address>Apache/2.4.6 (CentOS) Server at datasystems.denison.edu Port 80</address>\n",
      "</body></html>\n",
      "\n"
     ]
    }
   ],
   "source": [
    "# YOUR CODE HERE\n",
    "# raise NotImplementedError()\n",
    "def parseBody(reply):\n",
    "    a = reply.split(\"\\r\\n\")\n",
    "    if \"OK\" in a[0]:\n",
    "        return \"\\r\\n\".join(a[8:])\n",
    "    return \"\\r\\n\".join(a[7:])\n",
    "\n",
    "reply = issueRequest(\"datasystems.denison.edu\", \"/basic.html\")\n",
    "print(parseBody(reply))\n",
    "reply = issueRequest(\"datasystems.denison.edu\", \"/foobar.txt\")\n",
    "print(parseBody(reply))"
   ]
  },
  {
   "cell_type": "code",
   "execution_count": 24,
   "metadata": {
    "deletable": false,
    "editable": false,
    "nbgrader": {
     "cell_type": "code",
     "checksum": "4993b452f397939e4b35b63c8e821b7c",
     "grade": true,
     "grade_id": "cell-7859319f27b6d899",
     "locked": true,
     "points": 2,
     "schema_version": 3,
     "solution": false,
     "task": false
    }
   },
   "outputs": [],
   "source": [
    "# Testing cell\n",
    "r1 = issueRequest(\"datasystems.denison.edu\", \"/basic.html\")\n",
    "b1 = parseBody(r1)\n",
    "r2 = issueRequest(\"datasystems.denison.edu\", \"/foobar.txt\")\n",
    "b2 = parseBody(r2)\n",
    "assert b1.startswith(\"<!DOCTYPE html>\")\n",
    "assert b1.endswith(\"</html>\\n\")\n",
    "assert b2.startswith(\"<!DOCTYPE HTML\")\n",
    "assert b2.endswith(\"</body></html>\\n\")"
   ]
  },
  {
   "cell_type": "markdown",
   "metadata": {},
   "source": [
    "---\n",
    "\n",
    "---\n",
    "\n",
    "## Part E\n",
    "\n",
    "**Q10:** How much time (in minutes/hours) did you spend on this homework assignment?"
   ]
  },
  {
   "cell_type": "markdown",
   "metadata": {},
   "source": [
    "For about 40 minutes"
   ]
  },
  {
   "cell_type": "markdown",
   "metadata": {},
   "source": [
    "**Q11:** Who was your partner for this assignment?  If you worked alone, say so instead."
   ]
  },
  {
   "cell_type": "markdown",
   "metadata": {},
   "source": [
    "I worked alone"
   ]
  }
 ],
 "metadata": {
  "kernelspec": {
   "display_name": "Python 3 (ipykernel)",
   "language": "python",
   "name": "python3"
  },
  "language_info": {
   "codemirror_mode": {
    "name": "ipython",
    "version": 3
   },
   "file_extension": ".py",
   "mimetype": "text/x-python",
   "name": "python",
   "nbconvert_exporter": "python",
   "pygments_lexer": "ipython3",
   "version": "3.9.12"
  }
 },
 "nbformat": 4,
 "nbformat_minor": 4
}
