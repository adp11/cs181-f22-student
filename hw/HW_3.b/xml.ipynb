{
 "cells": [
  {
   "cell_type": "markdown",
   "metadata": {},
   "source": [
    "# Denison CS181/DA210 Homework 3.b - Step 1\n",
    "\n",
    "Before you turn this problem in, make sure everything runs as expected. This is a combination of **restarting the kernel** and then **running all cells** (in the menubar, select Kernel$\\rightarrow$Restart And Run All).\n",
    "\n",
    "Make sure you fill in any place that says `# YOUR CODE HERE` or \"YOUR ANSWER HERE\"."
   ]
  },
  {
   "cell_type": "markdown",
   "metadata": {},
   "source": [
    "---"
   ]
  },
  {
   "cell_type": "code",
   "execution_count": 1,
   "metadata": {},
   "outputs": [],
   "source": [
    "import io\n",
    "from lxml import etree\n",
    "import json\n",
    "import sys\n",
    "import os.path\n",
    "import pandas as pd\n",
    "\n",
    "datadir = \"publicdata\""
   ]
  },
  {
   "cell_type": "markdown",
   "metadata": {},
   "source": [
    "---\n",
    "\n",
    "## Part A\n",
    "\n",
    "**Q1:** Consider the following table of `subjects` data:\n",
    "\n",
    "subject | name | department\n",
    "---------|-----|--------------\n",
    "CS | Computer Science | CS\n",
    "MATH | Mathematics | MATH\n",
    "ENGL | English Literature | ENGL\n",
    "\n",
    "Using a *text editor*, edit and create a file named `subjects.xml` in the `datadir` directory (`\"publicdata\"`) that contains a legal XML representation of this data.\n",
    "\n",
    "Once created, write a Python code sequence to read and parse the file, and then, using `etree.tostring()`, create a Python string to reference the (pretty-printed) decoded string version of the tree.  Name this variable `subjects_str`."
   ]
  },
  {
   "cell_type": "code",
   "execution_count": 2,
   "metadata": {
    "deletable": false,
    "nbgrader": {
     "cell_type": "code",
     "checksum": "e93ab9966e2b2d631aab76b8bc049101",
     "grade": false,
     "grade_id": "cell-352a2a50e91b618c",
     "locked": false,
     "schema_version": 3,
     "solution": true,
     "task": false
    }
   },
   "outputs": [
    {
     "name": "stdout",
     "output_type": "stream",
     "text": [
      "<subjects>\n",
      "  <subject acronym=\"CS\">\n",
      "    <name>Computer Science</name>\n",
      "    <department>CS</department>\n",
      "  </subject>\n",
      "  <subject acronym=\"MATH\">\n",
      "    <name>Mathematics</name>\n",
      "    <department>MATH</department>\n",
      "  </subject>\n",
      "  <subject acronym=\"ENGL\">\n",
      "    <name>English Literature</name>\n",
      "    <department>ENGL</department>\n",
      "  </subject>\n",
      "</subjects>\n",
      "\n"
     ]
    }
   ],
   "source": [
    "# YOUR CODE HERE\n",
    "# raise NotImplementedError()\n",
    "\n",
    "# Pretty-print the XML data\n",
    "subjects_str = None\n",
    "stripparser = etree.XMLParser(remove_blank_text=True)\n",
    "with open(os.path.join(datadir, \"subjects.xml\")) as f:\n",
    "    tree = etree.parse(f, parser=stripparser)\n",
    "    bs = etree.tostring(tree.getroot(), pretty_print=True)\n",
    "    subjects_str = bs.decode(\"utf=8\")\n",
    "print(subjects_str)"
   ]
  },
  {
   "cell_type": "code",
   "execution_count": 3,
   "metadata": {
    "deletable": false,
    "editable": false,
    "nbgrader": {
     "cell_type": "code",
     "checksum": "4b344f790b8cab4278de4fe85353a432",
     "grade": true,
     "grade_id": "cell-33dd26f22f1d5e39",
     "locked": true,
     "points": 3,
     "schema_version": 3,
     "solution": false,
     "task": false
    }
   },
   "outputs": [],
   "source": [
    "# Testing Cell\n",
    "path = os.path.join(datadir, \"subjects.xml\")\n",
    "assert os.path.isfile(path)\n",
    "assert isinstance(subjects_str, str)\n",
    "assert 75 < len(subjects_str)"
   ]
  },
  {
   "cell_type": "markdown",
   "metadata": {},
   "source": [
    "**Q2:** Now consider the `courses` table below.  Using a text editor, edit and create `courses.xml` in the `datadir` directory (`\"publicdata\"`) that contains a legal XML tree representing this table:\n",
    "\n",
    "subject | coursenum | title\n",
    "---------|-----------|-----------------------\n",
    "CS | 173 | Intermediate Computer Science\n",
    "CS | 372 | Operating Systems\n",
    "MATH | 300 | Introduction to Proofs\n",
    "ENGL | 213 | Early British Literature\n",
    "\n",
    "Once created, write a Python code sequence to read and parse the file, and then, as in Q1, use `etree.tostring()` to assign the string version of the courses tree to the variable `courses_str`."
   ]
  },
  {
   "cell_type": "code",
   "execution_count": 4,
   "metadata": {
    "deletable": false,
    "nbgrader": {
     "cell_type": "code",
     "checksum": "d716c9113b683222048af52e7f6f946e",
     "grade": false,
     "grade_id": "cell-90c8b3ec459f1a09",
     "locked": false,
     "schema_version": 3,
     "solution": true,
     "task": false
    }
   },
   "outputs": [
    {
     "name": "stdout",
     "output_type": "stream",
     "text": [
      "<subjects>\n",
      "  <subject acronym=\"CS\">\n",
      "    <coursenum title=\"Intermediate Computer Science\">173</coursenum>\n",
      "    <coursenum title=\"Operating Systems\">372</coursenum>\n",
      "  </subject>\n",
      "  <subject acronym=\"MATH\">\n",
      "    <coursenum title=\"Introduction to Proofs\">300</coursenum>\n",
      "  </subject>\n",
      "  <subject acronym=\"ENGL\">\n",
      "    <coursenum title=\"Early British Literature\">213</coursenum>\n",
      "  </subject>\n",
      "</subjects>\n",
      "\n"
     ]
    }
   ],
   "source": [
    "# YOUR CODE HERE\n",
    "# raise NotImplementedError()\n",
    "\n",
    "# Pretty-print the XML data\n",
    "courses_str = None\n",
    "stripparser = etree.XMLParser(remove_blank_text=True)\n",
    "with open(os.path.join(datadir, \"courses.xml\")) as f:\n",
    "    tree = etree.parse(f, parser=stripparser)\n",
    "    bs = etree.tostring(tree.getroot(), pretty_print=True)\n",
    "    courses_str = bs.decode(\"utf=8\")\n",
    "print(courses_str)"
   ]
  },
  {
   "cell_type": "code",
   "execution_count": 5,
   "metadata": {
    "deletable": false,
    "editable": false,
    "nbgrader": {
     "cell_type": "code",
     "checksum": "784faed5cc0d1d0a1996daac8a2847f2",
     "grade": true,
     "grade_id": "cell-559f37743a566fde",
     "locked": true,
     "points": 3,
     "schema_version": 3,
     "solution": false,
     "task": false
    }
   },
   "outputs": [],
   "source": [
    "# Testing Cell\n",
    "path = os.path.join(datadir, \"courses.xml\")\n",
    "assert os.path.isfile(path)\n",
    "assert isinstance(courses_str, str)\n",
    "assert 75 < len(courses_str)"
   ]
  },
  {
   "cell_type": "markdown",
   "metadata": {},
   "source": [
    "**Q3:** Suppose you wanted a tree that contained **both** of the above tables.  Write a file named `school.xml` in the `datadir` directory (`\"publicdata\"`) that composes **as a single tree** both of the above component tables.\n",
    "\n",
    "As before, once created, write a Python code sequence to read and parse the file.  Call the resulting string variable `school_str`."
   ]
  },
  {
   "cell_type": "code",
   "execution_count": 6,
   "metadata": {
    "deletable": false,
    "nbgrader": {
     "cell_type": "code",
     "checksum": "48dc8dad0bd6435c04f41365e7c4340c",
     "grade": true,
     "grade_id": "cell-04bdc0fe17d48c37",
     "locked": false,
     "points": 3,
     "schema_version": 3,
     "solution": true,
     "task": false
    }
   },
   "outputs": [
    {
     "name": "stdout",
     "output_type": "stream",
     "text": [
      "<subjects>\n",
      "  <subject acronym=\"CS\" name=\"Computer Science\" department=\"CS\">\n",
      "    <coursenum title=\"Intermediate Computer Science\">173</coursenum>\n",
      "    <coursenum title=\"Operating Systems\">372</coursenum>\n",
      "  </subject>\n",
      "  <subject acronym=\"MATH\" name=\"Mathematics\" department=\"MATH\">\n",
      "    <coursenum title=\"Introduction to Proofs\">300</coursenum>\n",
      "  </subject>\n",
      "  <subject acronym=\"ENGL\" name=\"English Literature\" department=\"ENGL\">\n",
      "    <coursenum title=\"Early British Literature\">213</coursenum>\n",
      "  </subject>\n",
      "</subjects>\n",
      "\n"
     ]
    }
   ],
   "source": [
    "# YOUR CODE HERE\n",
    "# raise NotImplementedError()\n",
    "\n",
    "# Pretty-print the XML data\n",
    "school_str = None\n",
    "stripparser = etree.XMLParser(remove_blank_text=True)\n",
    "with open(os.path.join(datadir, \"school.xml\")) as f:\n",
    "    tree = etree.parse(f, parser=stripparser)\n",
    "    bs = etree.tostring(tree.getroot(), pretty_print=True)\n",
    "    school_str = bs.decode(\"utf=8\")\n",
    "print(school_str)"
   ]
  },
  {
   "cell_type": "markdown",
   "metadata": {},
   "source": [
    "**Q4:** Write a function:\n",
    "```\n",
    "    getLocalXML(filename, datadir=\".\", parser=None)\n",
    "``` \n",
    "that performs the common steps of creating a path from the given `filename` and `datadir` and parses the XML file, using the passed `parser`, if any, and returns the Element at the **root** of the tree.  If `parser` is not passed, the standard `XMLParser` should be used.\n",
    "\n",
    "If the file is not found, or if the parse is unsuccessful (due to XML not being \"well formed\"), the function should return `None`. Remember that if a parse is unsuccessful, the `etree` module raises an exception.  That means that you should have a `try` block, and indented within that block, the `parse()` invocation should occur.  The `try` block is followed by an `except Exception as e:` line, and within that, your return `None`.  If no exception is raised, code execution will proceed beyond the `try`/`except` block, and that is where you would return the root of the parsed tree."
   ]
  },
  {
   "cell_type": "code",
   "execution_count": 7,
   "metadata": {
    "deletable": false,
    "nbgrader": {
     "cell_type": "code",
     "checksum": "dc60129e2c9655261e8becb2445eadd7",
     "grade": false,
     "grade_id": "cell-81428647baf27b6c",
     "locked": false,
     "schema_version": 3,
     "solution": true,
     "task": false
    }
   },
   "outputs": [],
   "source": [
    "# YOUR CODE HERE\n",
    "# raise NotImplementedError()\n",
    "def getLocalXML(filename, datadir=\".\", parser=None):\n",
    "    '''\n",
    "    performs the common steps of creating a path from the given filename and datadir and \n",
    "    parses the XML file, using the passed parser, if any, and returns the Element at the root of the tree\n",
    "    '''\n",
    "    try:\n",
    "        with open(os.path.join(datadir, filename)) as f:\n",
    "            tree = etree.parse(f, parser=parser)\n",
    "            return tree.getroot()\n",
    "    except:\n",
    "        return None"
   ]
  },
  {
   "cell_type": "code",
   "execution_count": 8,
   "metadata": {
    "deletable": false,
    "editable": false,
    "nbgrader": {
     "cell_type": "code",
     "checksum": "d6144ce6aa101a8303fecf3330e31d89",
     "grade": true,
     "grade_id": "cell-6f7ca02f25f931f2",
     "locked": true,
     "points": 3,
     "schema_version": 3,
     "solution": false,
     "task": false
    }
   },
   "outputs": [],
   "source": [
    "# Testing cell\n",
    "assert getLocalXML.__doc__ is not None # don't forget the docstring!\n",
    "\n",
    "myparser = etree.XMLParser(remove_blank_text=True)\n",
    "\n",
    "wroot = getLocalXML(\"widombooks.xml\", datadir, myparser)\n",
    "assert len(wroot) == 8\n",
    "bad = getLocalXML(\"foo.xml\", datadir, myparser)\n",
    "assert bad == None\n",
    "bad2 = getLocalXML(\"bad.xml\", datadir)\n",
    "assert bad2==None"
   ]
  },
  {
   "cell_type": "markdown",
   "metadata": {},
   "source": [
    "---\n",
    "\n",
    "---\n",
    "\n",
    "## Part B\n",
    "\n",
    "**Q5:** How much time (in minutes/hours) did you spend on this homework assignment?"
   ]
  },
  {
   "cell_type": "markdown",
   "metadata": {},
   "source": [
    "For about 30 minutes"
   ]
  },
  {
   "cell_type": "markdown",
   "metadata": {},
   "source": [
    "**Q6:** Who was your partner for this assignment?  If you worked alone, say so instead."
   ]
  },
  {
   "cell_type": "markdown",
   "metadata": {},
   "source": [
    "I worked alone"
   ]
  }
 ],
 "metadata": {
  "kernelspec": {
   "display_name": "Python 3 (ipykernel)",
   "language": "python",
   "name": "python3"
  },
  "language_info": {
   "codemirror_mode": {
    "name": "ipython",
    "version": 3
   },
   "file_extension": ".py",
   "mimetype": "text/x-python",
   "name": "python",
   "nbconvert_exporter": "python",
   "pygments_lexer": "ipython3",
   "version": "3.9.12"
  },
  "vscode": {
   "interpreter": {
    "hash": "73a75ea109158a2d84971ce48cb4564b23b98d042ab3daf1c1f7c2d610837661"
   }
  }
 },
 "nbformat": 4,
 "nbformat_minor": 4
}
