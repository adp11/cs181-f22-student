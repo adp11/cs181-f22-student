{
 "cells": [
  {
   "cell_type": "markdown",
   "metadata": {},
   "source": [
    "# Denison CS181/DA210 Homework 2.d - Step 1\n",
    "\n",
    "Before you turn this problem in, make sure everything runs as expected. This is a combination of **restarting the kernel** and then **running all cells** (in the menubar, select Kernel$\\rightarrow$Restart And Run All).\n",
    "\n",
    "Make sure you fill in any place that says `# YOUR CODE HERE` or \"YOUR ANSWER HERE\"."
   ]
  },
  {
   "cell_type": "markdown",
   "metadata": {},
   "source": [
    "---"
   ]
  },
  {
   "cell_type": "code",
   "execution_count": 1,
   "metadata": {},
   "outputs": [],
   "source": [
    "import os\n",
    "import os.path\n",
    "import pandas as pd\n",
    "\n",
    "datadir = \"publicdata\""
   ]
  },
  {
   "cell_type": "markdown",
   "metadata": {},
   "source": [
    "---\n",
    "\n",
    "## Part A: Aggregating a `Series`/`DataFrame`\n",
    "\n",
    "**Q1:** Read CSV file `topnames.csv` in `datadir` into a data frame named `topnames0`, with no index.  Using individual operations on the `count` column, find the mean, the median, and the max count, assigning to `mean_counts`, `median_counts`, and `max_counts`."
   ]
  },
  {
   "cell_type": "code",
   "execution_count": 2,
   "metadata": {
    "deletable": false,
    "nbgrader": {
     "cell_type": "code",
     "checksum": "56a21f4d74ca19c2fd0b3be41c1d6a0d",
     "grade": false,
     "grade_id": "cell-273768f03f8357e7",
     "locked": false,
     "schema_version": 3,
     "solution": true,
     "task": false
    }
   },
   "outputs": [],
   "source": [
    "# YOUR CODE HERE\n",
    "# raise NotImplementedError()\n",
    "topnames0 = pd.read_csv(os.path.join(datadir, \"topnames.csv\"))\n",
    "countSeries = topnames0['count']\n",
    "mean_counts = countSeries.mean()\n",
    "median_counts = countSeries.median()\n",
    "max_counts = countSeries.max()"
   ]
  },
  {
   "cell_type": "code",
   "execution_count": 3,
   "metadata": {},
   "outputs": [
    {
     "name": "stdout",
     "output_type": "stream",
     "text": [
      "Mean: 44985.24460431655 Median: 52556.0 Max: 99689\n"
     ]
    }
   ],
   "source": [
    "# Printing cell\n",
    "print(\"Mean:\", mean_counts,\n",
    "      \"Median:\", median_counts,\n",
    "      \"Max:\", max_counts)"
   ]
  },
  {
   "cell_type": "code",
   "execution_count": 4,
   "metadata": {
    "deletable": false,
    "editable": false,
    "nbgrader": {
     "cell_type": "code",
     "checksum": "33717e77cbc90703a46c471991939d68",
     "grade": true,
     "grade_id": "cell-057e3c90c18b71de",
     "locked": true,
     "points": 2,
     "schema_version": 3,
     "solution": false,
     "task": false
    }
   },
   "outputs": [],
   "source": [
    "# Testing Cell\n",
    "assert abs(mean_counts - 44985.2446) < 0.001\n",
    "assert median_counts == 52556.0\n",
    "assert max_counts == 99689"
   ]
  },
  {
   "cell_type": "markdown",
   "metadata": {},
   "source": [
    "**Q2:** Using the `agg` method on the `Series` of the column vector of counts, perform the same calculation of mean, median, and max in a single step, and assign to `agg_values`.  Note that this invocation may not have an exact correspondent in the book, so you may have to look up [documentation](https://pandas.pydata.org/docs/reference/api/pandas.Series.agg.html) for using `agg` on a `Series`."
   ]
  },
  {
   "cell_type": "code",
   "execution_count": 5,
   "metadata": {
    "deletable": false,
    "nbgrader": {
     "cell_type": "code",
     "checksum": "a13203da17c6ea29f0c767ea0ec98983",
     "grade": false,
     "grade_id": "cell-b34127acc546301e",
     "locked": false,
     "schema_version": 3,
     "solution": true,
     "task": false
    }
   },
   "outputs": [],
   "source": [
    "# YOUR CODE HERE\n",
    "# raise NotImplementedError()\n",
    "\n",
    "# Display the aggregated values\n",
    "agg_values = countSeries.agg([\"mean\",\"max\",\"median\"])"
   ]
  },
  {
   "cell_type": "code",
   "execution_count": 6,
   "metadata": {
    "deletable": false,
    "editable": false,
    "nbgrader": {
     "cell_type": "code",
     "checksum": "0318b1296664a2fde935df60396140c4",
     "grade": true,
     "grade_id": "cell-69c4bfbbc5c3e7c6",
     "locked": true,
     "points": 2,
     "schema_version": 3,
     "solution": false,
     "task": false
    }
   },
   "outputs": [],
   "source": [
    "# Testing Cell\n",
    "assert abs(agg_values.loc[\"mean\"] - 44985.2446) < 0.001\n",
    "assert agg_values.loc[\"median\"] == 52556.0\n",
    "assert agg_values.loc[\"max\"] == 99689.0"
   ]
  },
  {
   "cell_type": "markdown",
   "metadata": {},
   "source": [
    "**Q3:** What is the data type of `agg_values`?  (I.e., what is the result of using `agg` on a `Series`?)"
   ]
  },
  {
   "cell_type": "markdown",
   "metadata": {},
   "source": [
    "The data type of `agg_values` is Series"
   ]
  },
  {
   "cell_type": "markdown",
   "metadata": {},
   "source": [
    "**Q4:** Create a subset of `topnames0` restricted to `Female` entries between `1960` and `1969`, inclusive.  Assign this to `female_subset`.  Then use the `agg` function, in one step, to determine the mean and median count and the number of unique names, assigning to `female_aggvalues`."
   ]
  },
  {
   "cell_type": "code",
   "execution_count": 7,
   "metadata": {
    "deletable": false,
    "nbgrader": {
     "cell_type": "code",
     "checksum": "e99a40d1c35bb027073f74d32e7f679d",
     "grade": false,
     "grade_id": "cell-66dbb0e2aa2de096",
     "locked": false,
     "schema_version": 3,
     "solution": true,
     "task": false
    }
   },
   "outputs": [
    {
     "data": {
      "text/html": [
       "<div>\n",
       "<style scoped>\n",
       "    .dataframe tbody tr th:only-of-type {\n",
       "        vertical-align: middle;\n",
       "    }\n",
       "\n",
       "    .dataframe tbody tr th {\n",
       "        vertical-align: top;\n",
       "    }\n",
       "\n",
       "    .dataframe thead th {\n",
       "        text-align: right;\n",
       "    }\n",
       "</style>\n",
       "<table border=\"1\" class=\"dataframe\">\n",
       "  <thead>\n",
       "    <tr style=\"text-align: right;\">\n",
       "      <th></th>\n",
       "      <th>count</th>\n",
       "      <th>name</th>\n",
       "    </tr>\n",
       "  </thead>\n",
       "  <tbody>\n",
       "    <tr>\n",
       "      <th>mean</th>\n",
       "      <td>51972.7</td>\n",
       "      <td>NaN</td>\n",
       "    </tr>\n",
       "    <tr>\n",
       "      <th>median</th>\n",
       "      <td>51955.0</td>\n",
       "      <td>NaN</td>\n",
       "    </tr>\n",
       "    <tr>\n",
       "      <th>nunique</th>\n",
       "      <td>NaN</td>\n",
       "      <td>2.0</td>\n",
       "    </tr>\n",
       "  </tbody>\n",
       "</table>\n",
       "</div>"
      ],
      "text/plain": [
       "           count  name\n",
       "mean     51972.7   NaN\n",
       "median   51955.0   NaN\n",
       "nunique      NaN   2.0"
      ]
     },
     "execution_count": 7,
     "metadata": {},
     "output_type": "execute_result"
    }
   ],
   "source": [
    "# YOUR CODE HERE\n",
    "# raise NotImplementedError()\n",
    "\n",
    "# Display the aggregated values\n",
    "female_subset = topnames0.loc[(topnames0[\"year\"] >= 1960) & (topnames0[\"year\"] <= 1969) & (topnames0[\"sex\"] == \"Female\") , :]\n",
    "female_aggvalues = female_subset.agg({\"count\": [\"mean\", \"median\"],\n",
    "                                    \"name\": \"nunique\"})\n",
    "female_aggvalues\n"
   ]
  },
  {
   "cell_type": "code",
   "execution_count": 8,
   "metadata": {
    "deletable": false,
    "editable": false,
    "nbgrader": {
     "cell_type": "code",
     "checksum": "9c023894c1ade68ec83ff46c4684e4b4",
     "grade": true,
     "grade_id": "cell-a39ace3d52b87ed8",
     "locked": true,
     "points": 2,
     "schema_version": 3,
     "solution": false,
     "task": false
    }
   },
   "outputs": [],
   "source": [
    "# Testing Cell\n",
    "assert female_aggvalues.shape == (3,2)\n",
    "assert female_aggvalues.loc[\"mean\", \"count\"] == 51972.7\n",
    "assert female_aggvalues.loc[\"median\", \"count\"] == 51955.0\n",
    "assert female_aggvalues.loc[\"nunique\", \"name\"] == 2.0"
   ]
  },
  {
   "cell_type": "markdown",
   "metadata": {},
   "source": [
    "**Q5:** What is the data type of `female_aggvalues`?  (I.e., what is the result of using `agg` on a subset of a `DataFrame`?)"
   ]
  },
  {
   "cell_type": "markdown",
   "metadata": {},
   "source": [
    "The data type of `female_aggvalues` is DataFrame"
   ]
  },
  {
   "cell_type": "markdown",
   "metadata": {},
   "source": [
    "**Q6:** The constraints for selecting the rows from the last problem are based on `sex` and `year`.  We often use these independent variables to set an index for a data set.  Then, when we want to filter rows, our operations that use row label/`index` values for filtering are different.\n",
    "\n",
    "Start by creating dataframe `topnames` with its index drawn from the columns `year` and `sex`.  Then,\n",
    "with a goal of the same use of the `agg` function from **Q4**, use `xs` to take a cross section of `topnames` to get the Female entries and then use `loc` to get a data frame, `female_xs_subset`.  Finally, use `agg` on this data frame to, in one step, determine the mean and median count and the number of unique names, assigning to `female_xs_aggvalues`."
   ]
  },
  {
   "cell_type": "code",
   "execution_count": 9,
   "metadata": {
    "deletable": false,
    "nbgrader": {
     "cell_type": "code",
     "checksum": "e4ebd7ea5c540803aee99c39ae158f75",
     "grade": false,
     "grade_id": "cell-26dd6084fbc01496",
     "locked": false,
     "schema_version": 3,
     "solution": true,
     "task": false
    }
   },
   "outputs": [],
   "source": [
    "# YOUR CODE HERE\n",
    "# raise NotImplementedError()\n",
    "\n",
    "# Display the aggregated values\n",
    "topnames = female_subset.set_index([\"year\", \"sex\"])\n",
    "female_xs_subset = topnames.xs(level=\"sex\", key=\"Female\")\n",
    "female_xs_aggvalues = female_xs_subset.agg({\"count\": [\"mean\", \"median\"],\n",
    "                                            \"name\": \"nunique\"})"
   ]
  },
  {
   "cell_type": "code",
   "execution_count": 10,
   "metadata": {
    "deletable": false,
    "editable": false,
    "nbgrader": {
     "cell_type": "code",
     "checksum": "2a55f1a050739815b8fe278f3edc2f5b",
     "grade": true,
     "grade_id": "cell-28e7b414f2cfbfdb",
     "locked": true,
     "points": 2,
     "schema_version": 3,
     "solution": false,
     "task": false
    }
   },
   "outputs": [],
   "source": [
    "# Testing Cell\n",
    "assert female_xs_aggvalues.shape == (3,2)\n",
    "assert female_xs_aggvalues.loc[\"mean\", \"count\"] == 51972.7\n",
    "assert female_xs_aggvalues.loc[\"median\", \"count\"] == 51955.0\n",
    "assert female_xs_aggvalues.loc[\"nunique\", \"name\"] == 2.0"
   ]
  },
  {
   "cell_type": "markdown",
   "metadata": {},
   "source": [
    "---\n",
    "\n",
    "## Part B: GroupBy\n",
    "\n",
    "**Q7:** Read CSV file `indicators2016.csv` in `datadir` into a data frame named `indicators0`, with no index. Write code to add a new column `popSize` to `indicators0` which takes value `\"high\"` if `pop > 300`, `\"low\"` if `pop < 50`, and `\"medium\"` otherwise."
   ]
  },
  {
   "cell_type": "code",
   "execution_count": 11,
   "metadata": {
    "deletable": false,
    "nbgrader": {
     "cell_type": "code",
     "checksum": "9fd6fb8998593a87d41d8b90bd19914e",
     "grade": false,
     "grade_id": "cell-12f1961184fc392c",
     "locked": false,
     "schema_version": 3,
     "solution": true,
     "task": false
    }
   },
   "outputs": [
    {
     "data": {
      "text/html": [
       "<div>\n",
       "<style scoped>\n",
       "    .dataframe tbody tr th:only-of-type {\n",
       "        vertical-align: middle;\n",
       "    }\n",
       "\n",
       "    .dataframe tbody tr th {\n",
       "        vertical-align: top;\n",
       "    }\n",
       "\n",
       "    .dataframe thead th {\n",
       "        text-align: right;\n",
       "    }\n",
       "</style>\n",
       "<table border=\"1\" class=\"dataframe\">\n",
       "  <thead>\n",
       "    <tr style=\"text-align: right;\">\n",
       "      <th></th>\n",
       "      <th>code</th>\n",
       "      <th>country</th>\n",
       "      <th>pop</th>\n",
       "      <th>gdp</th>\n",
       "      <th>life</th>\n",
       "      <th>cell</th>\n",
       "      <th>popSize</th>\n",
       "    </tr>\n",
       "  </thead>\n",
       "  <tbody>\n",
       "    <tr>\n",
       "      <th>0</th>\n",
       "      <td>ABW</td>\n",
       "      <td>Aruba</td>\n",
       "      <td>0.10</td>\n",
       "      <td>NaN</td>\n",
       "      <td>75.87</td>\n",
       "      <td>NaN</td>\n",
       "      <td>low</td>\n",
       "    </tr>\n",
       "    <tr>\n",
       "      <th>1</th>\n",
       "      <td>AFG</td>\n",
       "      <td>Afghanistan</td>\n",
       "      <td>34.66</td>\n",
       "      <td>19.47</td>\n",
       "      <td>63.67</td>\n",
       "      <td>21.60</td>\n",
       "      <td>low</td>\n",
       "    </tr>\n",
       "    <tr>\n",
       "      <th>2</th>\n",
       "      <td>AGO</td>\n",
       "      <td>Angola</td>\n",
       "      <td>28.81</td>\n",
       "      <td>95.34</td>\n",
       "      <td>61.55</td>\n",
       "      <td>13.00</td>\n",
       "      <td>low</td>\n",
       "    </tr>\n",
       "    <tr>\n",
       "      <th>3</th>\n",
       "      <td>ALB</td>\n",
       "      <td>Albania</td>\n",
       "      <td>2.88</td>\n",
       "      <td>11.86</td>\n",
       "      <td>78.34</td>\n",
       "      <td>3.37</td>\n",
       "      <td>low</td>\n",
       "    </tr>\n",
       "    <tr>\n",
       "      <th>4</th>\n",
       "      <td>AND</td>\n",
       "      <td>Andorra</td>\n",
       "      <td>0.08</td>\n",
       "      <td>2.86</td>\n",
       "      <td>NaN</td>\n",
       "      <td>0.07</td>\n",
       "      <td>low</td>\n",
       "    </tr>\n",
       "  </tbody>\n",
       "</table>\n",
       "</div>"
      ],
      "text/plain": [
       "  code      country    pop    gdp   life   cell popSize\n",
       "0  ABW        Aruba   0.10    NaN  75.87    NaN     low\n",
       "1  AFG  Afghanistan  34.66  19.47  63.67  21.60     low\n",
       "2  AGO       Angola  28.81  95.34  61.55  13.00     low\n",
       "3  ALB      Albania   2.88  11.86  78.34   3.37     low\n",
       "4  AND      Andorra   0.08   2.86    NaN   0.07     low"
      ]
     },
     "execution_count": 11,
     "metadata": {},
     "output_type": "execute_result"
    }
   ],
   "source": [
    "# YOUR CODE HERE\n",
    "# raise NotImplementedError()\n",
    "\n",
    "# Display part of the DataFrame\n",
    "def getLevel(pop):\n",
    "    if pop>300:\n",
    "        return \"high\"\n",
    "    elif pop<50:\n",
    "        return \"low\"\n",
    "    return \"medium\"\n",
    "\n",
    "indicators0 = pd.read_csv(os.path.join(datadir, \"indicators2016.csv\"))\n",
    "popSizeSeries = indicators0[\"pop\"].apply(getLevel)\n",
    "indicators0[\"popSize\"] = popSizeSeries\n",
    "indicators0.head()"
   ]
  },
  {
   "cell_type": "code",
   "execution_count": 12,
   "metadata": {
    "deletable": false,
    "editable": false,
    "nbgrader": {
     "cell_type": "code",
     "checksum": "2fb7c51b66f77ef77a3eb9f3036de4a6",
     "grade": true,
     "grade_id": "cell-2b5d0d4dc0d329f3",
     "locked": true,
     "points": 2,
     "schema_version": 3,
     "solution": false,
     "task": false
    }
   },
   "outputs": [],
   "source": [
    "# Testing Cell\n",
    "assert indicators0[\"popSize\"].nunique() == 3\n",
    "assert indicators0[\"popSize\"].value_counts()[\"low\"] == 189\n",
    "assert indicators0[\"popSize\"].value_counts()[\"medium\"] == 25\n",
    "assert indicators0[\"popSize\"].value_counts()[\"high\"] == 6\n",
    "assert indicators0.loc[205, \"popSize\"] == \"high\"\n",
    "assert indicators0.loc[17, \"popSize\"] == \"medium\"\n",
    "assert indicators0.loc[4, \"popSize\"] == \"low\""
   ]
  },
  {
   "cell_type": "markdown",
   "metadata": {},
   "source": [
    "**Q8:** Building on the question above, use `groupby` to partition `indicators0` by this new column `popSize`, assigning to variable `groupby_pop`."
   ]
  },
  {
   "cell_type": "code",
   "execution_count": 13,
   "metadata": {
    "deletable": false,
    "nbgrader": {
     "cell_type": "code",
     "checksum": "41cf473f64d9393b8af048383d7b5ef6",
     "grade": false,
     "grade_id": "cell-023cf542221ea589",
     "locked": false,
     "schema_version": 3,
     "solution": true,
     "task": false
    }
   },
   "outputs": [
    {
     "name": "stdout",
     "output_type": "stream",
     "text": [
      "3\n"
     ]
    }
   ],
   "source": [
    "# YOUR CODE HERE\n",
    "# raise NotImplementedError()\n",
    "\n",
    "# Print the number of groups\n",
    "groupby_pop = indicators0.groupby(by=\"popSize\")\n",
    "print(len(groupby_pop))"
   ]
  },
  {
   "cell_type": "code",
   "execution_count": 14,
   "metadata": {
    "deletable": false,
    "editable": false,
    "nbgrader": {
     "cell_type": "code",
     "checksum": "80be9380098501633e920a6db849ed57",
     "grade": true,
     "grade_id": "cell-b3a522c4ffed3e54",
     "locked": true,
     "points": 2,
     "schema_version": 3,
     "solution": false,
     "task": false
    }
   },
   "outputs": [],
   "source": [
    "# Testing Cell\n",
    "assert len(groupby_pop) == 3"
   ]
  },
  {
   "cell_type": "markdown",
   "metadata": {},
   "source": [
    "**Q9:** What is the data type of `groupby_pop`?  (I.e., what is the result of using `groupby` on a `DataFrame`?)"
   ]
  },
  {
   "cell_type": "markdown",
   "metadata": {},
   "source": [
    "The data type of `groupby_pop` is a grouby object"
   ]
  },
  {
   "cell_type": "markdown",
   "metadata": {},
   "source": [
    "**Q10:** Building on the question above, aggregate this groupby partitioning, determining the **number of non-missing elements** for the columns `code`, `pop`, `gdp`, `life`, and `cell` by partition.  Assign the result to `partition_counts`.\n",
    "\n",
    "Hint: You can make this general by using a list-comprehension-type expression to create a dictionary.  (This is not necessary, but cool to use.)"
   ]
  },
  {
   "cell_type": "code",
   "execution_count": 15,
   "metadata": {
    "deletable": false,
    "nbgrader": {
     "cell_type": "code",
     "checksum": "4f2f284bd522c5d9cf53bee23d16cd06",
     "grade": false,
     "grade_id": "cell-0c97c6a6e4ad592d",
     "locked": false,
     "schema_version": 3,
     "solution": true,
     "task": false
    }
   },
   "outputs": [
    {
     "data": {
      "text/html": [
       "<div>\n",
       "<style scoped>\n",
       "    .dataframe tbody tr th:only-of-type {\n",
       "        vertical-align: middle;\n",
       "    }\n",
       "\n",
       "    .dataframe tbody tr th {\n",
       "        vertical-align: top;\n",
       "    }\n",
       "\n",
       "    .dataframe thead th {\n",
       "        text-align: right;\n",
       "    }\n",
       "</style>\n",
       "<table border=\"1\" class=\"dataframe\">\n",
       "  <thead>\n",
       "    <tr style=\"text-align: right;\">\n",
       "      <th></th>\n",
       "      <th>code</th>\n",
       "      <th>pop</th>\n",
       "      <th>gdp</th>\n",
       "      <th>life</th>\n",
       "      <th>cell</th>\n",
       "    </tr>\n",
       "    <tr>\n",
       "      <th>popSize</th>\n",
       "      <th></th>\n",
       "      <th></th>\n",
       "      <th></th>\n",
       "      <th></th>\n",
       "      <th></th>\n",
       "    </tr>\n",
       "  </thead>\n",
       "  <tbody>\n",
       "    <tr>\n",
       "      <th>high</th>\n",
       "      <td>6</td>\n",
       "      <td>6</td>\n",
       "      <td>6</td>\n",
       "      <td>6</td>\n",
       "      <td>6</td>\n",
       "    </tr>\n",
       "    <tr>\n",
       "      <th>low</th>\n",
       "      <td>189</td>\n",
       "      <td>189</td>\n",
       "      <td>164</td>\n",
       "      <td>171</td>\n",
       "      <td>172</td>\n",
       "    </tr>\n",
       "    <tr>\n",
       "      <th>medium</th>\n",
       "      <td>25</td>\n",
       "      <td>24</td>\n",
       "      <td>24</td>\n",
       "      <td>25</td>\n",
       "      <td>25</td>\n",
       "    </tr>\n",
       "  </tbody>\n",
       "</table>\n",
       "</div>"
      ],
      "text/plain": [
       "         code  pop  gdp  life  cell\n",
       "popSize                            \n",
       "high        6    6    6     6     6\n",
       "low       189  189  164   171   172\n",
       "medium     25   24   24    25    25"
      ]
     },
     "execution_count": 15,
     "metadata": {},
     "output_type": "execute_result"
    }
   ],
   "source": [
    "# YOUR CODE HERE\n",
    "# raise NotImplementedError()\n",
    "\n",
    "# Display the grouped counts\n",
    "partition_counts = groupby_pop.count()\n",
    "partition_counts.drop('country', axis=1, inplace=True)\n",
    "partition_counts"
   ]
  },
  {
   "cell_type": "code",
   "execution_count": 16,
   "metadata": {
    "deletable": false,
    "editable": false,
    "nbgrader": {
     "cell_type": "code",
     "checksum": "718874848940afc4004b1b565ede7c6f",
     "grade": true,
     "grade_id": "cell-66f8badba21e1cb5",
     "locked": true,
     "points": 2,
     "schema_version": 3,
     "solution": false,
     "task": false
    }
   },
   "outputs": [],
   "source": [
    "# Testing Cell\n",
    "assert partition_counts.shape == (3,5)\n",
    "assert partition_counts.loc[\"low\", \"code\"] == 189\n",
    "assert partition_counts.loc[\"medium\", \"gdp\"] == 24\n",
    "assert partition_counts.loc[\"high\", \"cell\"] == 6"
   ]
  },
  {
   "cell_type": "markdown",
   "metadata": {},
   "source": [
    "**Q11:** In similar fashion, determine the mean, by partition, of `pop`, `gdp`, and `cell`, and the max of `life`, assigning to `partition_aggvalues`.  Use the `round()` method of DataFrames to round the numeric values to 2 decimal places."
   ]
  },
  {
   "cell_type": "code",
   "execution_count": 17,
   "metadata": {
    "deletable": false,
    "nbgrader": {
     "cell_type": "code",
     "checksum": "6fb0e630743d95db2c1a3a47fb2914c7",
     "grade": false,
     "grade_id": "cell-a188147fe195416e",
     "locked": false,
     "schema_version": 3,
     "solution": true,
     "task": false
    }
   },
   "outputs": [
    {
     "name": "stdout",
     "output_type": "stream",
     "text": [
      "                 pop           gdp   life         cell\n",
      "popSize                                               \n",
      "high     2100.925000  18715.311667  78.69  2040.461667\n",
      "low         9.444921    101.666098  84.23    10.258256\n",
      "medium    108.520417   1075.999583  83.98   113.066400\n"
     ]
    }
   ],
   "source": [
    "# YOUR CODE HERE\n",
    "# raise NotImplementedError()\n",
    "\n",
    "# Display the grouped aggregated values\n",
    "print(groupby_pop.agg({\"pop\":\"mean\", \"gdp\":\"mean\", \"life\":\"max\", \"cell\":\"mean\"}))\n",
    "partition_aggvalues = groupby_pop.agg({\"pop\":\"mean\", \"gdp\":\"mean\", \"life\":\"max\", \"cell\":\"mean\"}).round(2)"
   ]
  },
  {
   "cell_type": "code",
   "execution_count": 18,
   "metadata": {
    "deletable": false,
    "editable": false,
    "nbgrader": {
     "cell_type": "code",
     "checksum": "96f4b68141020b6b367eddb098be4aa2",
     "grade": true,
     "grade_id": "cell-527de16856555a86",
     "locked": true,
     "points": 2,
     "schema_version": 3,
     "solution": false,
     "task": false
    }
   },
   "outputs": [],
   "source": [
    "# Testing Cell\n",
    "assert partition_aggvalues.shape == (3,4)\n",
    "assert partition_aggvalues.loc[\"low\", \"gdp\"] == 101.67\n",
    "assert partition_aggvalues.loc[\"medium\", \"life\"] == 83.98\n",
    "assert partition_aggvalues.loc[\"high\", \"pop\"] == 2100.92"
   ]
  },
  {
   "cell_type": "markdown",
   "metadata": {},
   "source": [
    "**Q12:** In similar fashion, determine the mean, min, and max of `gdp` and `life`, assigning to `partition_aggvalues2` and again rounding to two decimal places."
   ]
  },
  {
   "cell_type": "code",
   "execution_count": 19,
   "metadata": {
    "deletable": false,
    "nbgrader": {
     "cell_type": "code",
     "checksum": "d9af44e0deb5ebdec044311a5d94f65f",
     "grade": false,
     "grade_id": "cell-4a555edd9837afc7",
     "locked": false,
     "schema_version": 3,
     "solution": true,
     "task": false
    }
   },
   "outputs": [
    {
     "name": "stdout",
     "output_type": "stream",
     "text": [
      "                  gdp                          life              \n",
      "                 mean       max      min       mean    max    min\n",
      "popSize                                                          \n",
      "high     18715.311667  75871.74  1440.24  72.873333  78.69  68.56\n",
      "low        101.666098   1535.77     0.03  72.146374  84.23  51.84\n",
      "medium    1075.999583   4949.27    35.38  72.291600  83.98  53.43\n"
     ]
    }
   ],
   "source": [
    "# YOUR CODE HERE\n",
    "# raise NotImplementedError()\n",
    "\n",
    "# Display the grouped aggregated values\n",
    "print(groupby_pop.agg({\"gdp\":[\"mean\",\"max\",\"min\"], \"life\":[\"mean\",\"max\",\"min\"]}))\n",
    "partition_aggvalues2 = groupby_pop.agg({\"gdp\":[\"mean\",\"max\",\"min\"], \"life\":[\"mean\",\"max\",\"min\"]}).round(2)"
   ]
  },
  {
   "cell_type": "code",
   "execution_count": 20,
   "metadata": {
    "deletable": false,
    "editable": false,
    "nbgrader": {
     "cell_type": "code",
     "checksum": "3fcfff28bd3f04d2c80b1c0d5e0309fd",
     "grade": true,
     "grade_id": "cell-0eac3eb8a2736913",
     "locked": true,
     "points": 2,
     "schema_version": 3,
     "solution": false,
     "task": false
    }
   },
   "outputs": [],
   "source": [
    "# Testing Cell\n",
    "assert partition_aggvalues2.shape == (3,6)\n",
    "assert partition_aggvalues2.loc[\"low\", (\"gdp\", \"mean\")] == 101.67\n",
    "assert partition_aggvalues2.loc[\"medium\", (\"life\", \"max\")] == 83.98\n",
    "assert partition_aggvalues2.loc[\"high\", (\"gdp\", \"min\")] == 1440.24"
   ]
  },
  {
   "cell_type": "markdown",
   "metadata": {},
   "source": [
    "**Q13:** Explain how the columns of `partition_aggvalues` and `partition_aggvalues2` differ, and **why**."
   ]
  },
  {
   "cell_type": "markdown",
   "metadata": {
    "deletable": false,
    "nbgrader": {
     "cell_type": "markdown",
     "checksum": "ec32bc897cca88b7d7d32e7845f2d6ad",
     "grade": true,
     "grade_id": "cell-e305e2a6bcb52188",
     "locked": false,
     "points": 2,
     "schema_version": 3,
     "solution": true,
     "task": false
    }
   },
   "source": [
    "For `partition_aggvalues`, because each column has only 1 method applied to it, there are still 4 separate columns. But for `partition_aggvalues2`, because each column has 3 methods applied to it, we need 3 sub-columns (representing which method) which all belong to a bigger column name that have those 3 methods applied to"
   ]
  },
  {
   "cell_type": "markdown",
   "metadata": {},
   "source": [
    "---\n",
    "\n",
    "---\n",
    "## Part C\n",
    "\n",
    "**Q14:** How much time (in minutes/hours) did you spend on this homework assignment?"
   ]
  },
  {
   "cell_type": "markdown",
   "metadata": {},
   "source": [
    "For about 50 minutes"
   ]
  },
  {
   "cell_type": "markdown",
   "metadata": {},
   "source": [
    "**Q15:** Who was your partner for this assignment?  If you worked alone, say so instead."
   ]
  },
  {
   "cell_type": "markdown",
   "metadata": {},
   "source": [
    "I worked alone"
   ]
  }
 ],
 "metadata": {
  "kernelspec": {
   "display_name": "Python 3 (ipykernel)",
   "language": "python",
   "name": "python3"
  },
  "language_info": {
   "codemirror_mode": {
    "name": "ipython",
    "version": 3
   },
   "file_extension": ".py",
   "mimetype": "text/x-python",
   "name": "python",
   "nbconvert_exporter": "python",
   "pygments_lexer": "ipython3",
   "version": "3.9.12"
  },
  "vscode": {
   "interpreter": {
    "hash": "73a75ea109158a2d84971ce48cb4564b23b98d042ab3daf1c1f7c2d610837661"
   }
  }
 },
 "nbformat": 4,
 "nbformat_minor": 4
}
